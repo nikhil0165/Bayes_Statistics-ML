{
  "cells": [
    {
      "cell_type": "markdown",
      "metadata": {
        "id": "_Zo9uJgZW-k7"
      },
      "source": [
        "## Homework 1\n",
        "\n",
        "## <em>Intro to Statistics</em>\n",
        "<br>\n",
        "This notebook is arranged in cells. Texts are usually written in the markdown cells, and here you can use html tags (make it bold, italic, colored, etc). You can double click on this cell to see the formatting.<br>\n",
        "<br>\n",
        "The ellipsis (...) are provided where you are expected to write your solution but feel free to change the template (not over much) in case this style is not to your taste. <br>\n",
        "<br>\n",
        "<em>Hit \"Shift-Enter\" on a code cell to evaluate it.  Double click a Markdown cell to edit. </em><br><br>\n",
        "<span style=\"color:blue\"> Problems are directly taken from MacKay Chapter 3 (http://www.inference.org.uk/itprnn/book.pdf). We recommend you to read Chapter 3 before starting HW1.  </span> <br>"
      ]
    },
    {
      "cell_type": "markdown",
      "metadata": {
        "id": "2owOC4lsVPic"
      },
      "source": [
        "***"
      ]
    },
    {
      "cell_type": "markdown",
      "metadata": {
        "id": "hqb4ZDqKVPid"
      },
      "source": [
        "### Imports"
      ]
    },
    {
      "cell_type": "code",
      "execution_count": null,
      "metadata": {
        "collapsed": true,
        "id": "h0SXXzkNVPid",
        "jupyter": {
          "outputs_hidden": true
        }
      },
      "outputs": [],
      "source": [
        "import numpy as np\n",
        "from scipy.integrate import quad, fixed_quad\n",
        "#For plotting\n",
        "import matplotlib.pyplot as plt\n",
        "%matplotlib inline"
      ]
    },
    {
      "cell_type": "markdown",
      "metadata": {
        "id": "18fs4H9JVPie"
      },
      "source": [
        "***"
      ]
    },
    {
      "cell_type": "markdown",
      "metadata": {
        "id": "tHHLsLQYW-k-"
      },
      "source": [
        "#### Quick tutorial: Numerical Integration (using scipy's quad function)"
      ]
    },
    {
      "cell_type": "markdown",
      "metadata": {
        "id": "phz2FqqaW-k-"
      },
      "source": [
        "##### Example - Harmonic Oscillator\n",
        "\n",
        "The total energy of a harmonic oscillator is given by <br>\n",
        "$$ E = \\frac{1}{2}m \\left(\\frac{dx}{dt}\\right)^2 + V(x) $$\n",
        "Assuming that the potential $V(x)$ is symmetric about $x=0$ and the amplitude of the oscillator is $a$. Then the equation for the time period is given by <br>\n",
        "$$ T = \\sqrt{8m} \\int_0^a \\frac{dx}{\\sqrt{V(a) - V(x)}} $$\n",
        "\n",
        "<span style=\"color:blue\"> Q1. Suppose the potential is $V(x) = x^4$ and mass of the particle $m=1$. Then the below cell shows a function that calculates the period for a given amplitude. </span>\n",
        "\n"
      ]
    },
    {
      "cell_type": "code",
      "execution_count": null,
      "metadata": {
        "collapsed": true,
        "id": "Ck5stERRW-k_",
        "jupyter": {
          "outputs_hidden": true
        }
      },
      "outputs": [],
      "source": [
        "def V(x):\n",
        "    'Potential'\n",
        "    return x**4\n",
        "\n",
        "def timep(x, a):\n",
        "    'Define the function that needs to be integrated (integrand) to calculate time period'\n",
        "    return np.sqrt(8)*(V(a) - V(x))**-0.5"
      ]
    },
    {
      "cell_type": "markdown",
      "metadata": {
        "id": "NwdKGYMKW-k_"
      },
      "source": [
        "<span style=\"color:blue\"> Q2. Let $a = 2$. Use inbuilt 'fixed_quad' (https://docs.scipy.org/doc/scipy-0.14.0/reference/generated/scipy.integrate.fixed_quad.html) function to calculate the time period for different values of 'N' (number of integration points). Calculate the error in the integral by estimating the difference for 'N' & '2N'. Approximately, at what 'N' is the absolute error less than $10^{-4}$ for 'a = 2'? </span>\n",
        "\n",
        "<span style=\"color:blue\"> Q3. Use inbuilt 'quad' (https://docs.scipy.org/doc/scipy/reference/generated/scipy.integrate.quad.html) function that returns an error estimate and compare your answer for 'a = 2' (quad uses a more advanced integration technique) </span>"
      ]
    },
    {
      "cell_type": "code",
      "execution_count": null,
      "metadata": {
        "id": "a9OiLhkzW-lA",
        "outputId": "009a6f79-37ae-4cd3-b1d7-fb30679f72fd",
        "colab": {
          "base_uri": "https://localhost:8080/"
        }
      },
      "outputs": [
        {
          "output_type": "stream",
          "name": "stdout",
          "text": [
            "\n",
            "For n = 100, the time period is 1.848, with error = 3.055e-03\n",
            "\n",
            "For n = 1000, the time period is 1.853, with error = 3.076e-04\n",
            "\n",
            "For n = 10000, the time period is 1.854, with error = 3.078e-05\n",
            "\n",
            "Inbuilt Gaussian Quadrature gives time period =  1.8540746773017016  with error =  2.006794730391448e-10\n"
          ]
        }
      ],
      "source": [
        "# Using fixed_quad\n",
        "a = 2\n",
        "\n",
        "#N = 100\n",
        "n = 100\n",
        "tquadn = fixed_quad(timep, 0, a, args = (a, ), n = n)[0]\n",
        "tquadn2 = fixed_quad(timep, 0, a, args = (a, ), n = 2*n)[0]\n",
        "print('\\nFor n = %d, the time period is %0.3f, with error = %0.3e'%(n, tquadn, abs(tquadn2 - tquadn)))\n",
        "#N = 1000\n",
        "n = 1000\n",
        "tquadn = fixed_quad(timep, 0, a, args = (a, ), n = n)[0]\n",
        "tquadn2 = fixed_quad(timep, 0, a, args = (a, ), n = 2*n)[0]\n",
        "print('\\nFor n = %d, the time period is %0.3f, with error = %0.3e'%(n, tquadn, abs(tquadn2 - tquadn)))\n",
        "#N = 10000\n",
        "n = 10000\n",
        "tquadn = fixed_quad(timep, 0, a, args = (a, ), n = n)[0]\n",
        "tquadn2 = fixed_quad(timep, 0, a, args = (a, ), n = 2*n)[0]\n",
        "print('\\nFor n = %d, the time period is %0.3f, with error = %0.3e'%(n, tquadn, abs(tquadn2 - tquadn)))\n",
        "\n",
        "# Using quad\n",
        "tquad = quad(timep, 0, a, args = (a, ))\n",
        "print('\\nInbuilt Gaussian Quadrature gives time period = ', tquad[0], ' with error = ', tquad[1])"
      ]
    },
    {
      "cell_type": "markdown",
      "metadata": {
        "id": "rzf8iirIW-lA"
      },
      "source": [
        "***"
      ]
    },
    {
      "cell_type": "markdown",
      "metadata": {
        "id": "EwY-eHM2W-lA"
      },
      "source": [
        "#### Problem 1 - Inferring a Decay Constant\n",
        "\n",
        "Unstable particles are emitted from a source and decay at a distance $x$, a real number that has an exponential probability distribution with characteristic length $\\lambda$. Decay events can be observed only if they occur in a window extending from $x$ = 1cm to $x$ = 20cm. $N$ decays are observed at locations {$x_1$, ... , $x_N$}. What is $\\lambda$? <br>\n",
        "![alt text](https://drive.google.com/uc?id=1zlovMrjhFqW9Vz5dFoElWZpBFMWUp-Dq)"
      ]
    },
    {
      "cell_type": "markdown",
      "metadata": {
        "id": "_J-GAXdwW-lB"
      },
      "source": [
        "Given $\\lambda$, the probability of observing a particle at a distance $x$ is:<br>\n",
        "\n",
        "\\begin{equation}\n",
        "P(x\\ |\\ \\lambda) =  \n",
        "\\begin{cases}\n",
        "\\frac{1}{\\lambda}e^{-x/\\lambda}\\big/\\ Z(\\lambda)\\ \\ \\ \\ \\ \\ a < x < b \\\\\n",
        "0 \\ \\ \\ \\ \\ \\ \\ \\ \\ \\ \\ \\ \\ \\ \\ \\ \\ \\ \\ \\ \\ \\ \\ \\ \\ \\ \\mathrm{otherwise}\n",
        "\\end{cases}\n",
        "\\end{equation}\n",
        "\n",
        "where\n",
        "$$ Z(\\lambda) = \\int_a^b dx \\frac{1}{\\lambda}e^{-x/\\lambda} = \\big( e^{-a/\\lambda} - e^{-b/\\lambda} \\big). $$\n",
        "Here, $a = 1,\\ b = 20$.\n",
        "<br> <br>\n",
        "<span style=\"color:blue\"> 1. Write a function for $Z(\\lambda)$. Then, use it to write another function for $P(x|\\lambda)$. </span> <br>\n",
        "<br>\n",
        "Henceforth, we refer to $\\lambda$ as $L$ (for the sake of simplicity).<br>\n",
        "<br>\n",
        "Check if your function can return a correct value if either $x$ or $L$ is a 2D array. Say $x$ is a scalar, and $L$ is a vector with $N$ elements. If you calculate the product $x*L$, the dimension of $x$ is stretched to $N \\times 1$ in order to match that of $L$ ([broadcasting](https://docs.scipy.org/doc/numpy/user/basics.broadcasting.html)). If $x$ and $L$ are both vectors, then they must have the same dimensions to perform arithmetic operations on them ($x*L$, $x$+$L$, $x$/$L$, etc)."
      ]
    },
    {
      "cell_type": "code",
      "execution_count": null,
      "metadata": {
        "collapsed": true,
        "id": "zDEhdzkYW-lB",
        "jupyter": {
          "outputs_hidden": true
        }
      },
      "outputs": [],
      "source": [
        "def z_lambda(a,b,L):# L here is a one dimensional array\n",
        "  return np.exp(-np.true_divide(a,L)) - np.exp(-np.true_divide(b,L))\n",
        "\n",
        "def prob_xlambda(x,L,a,b):# x and L are two dimensional arrays\n",
        "  answer = np.zeros((len(x),len(L)))\n",
        "  for j in range(len(L)):\n",
        "    for i in range(len(x)):\n",
        "      if x[i]>a and x[i]<b:\n",
        "        answer[i,j] =  np.true_divide(np.exp(-np.true_divide(x[i],L[j])),np.multiply(L[j],z_lambda(a,b,L[j])))\n",
        "  return answer\n",
        ""
      ]
    },
    {
      "cell_type": "markdown",
      "metadata": {
        "id": "QtY6fljAW-lB"
      },
      "source": [
        "<span style=\"color:blue\"> <i> 2. Plot $P(x|\\lambda)$ as a function of $x$ for $\\lambda = 2, 5, 10$. Make sure to label each plot. </i></span>"
      ]
    },
    {
      "cell_type": "code",
      "execution_count": null,
      "metadata": {
        "id": "z9G2z4I4W-lC",
        "jupyter": {
          "outputs_hidden": true
        },
        "colab": {
          "base_uri": "https://localhost:8080/",
          "height": 294
        },
        "outputId": "ab1da4a1-d780-4c42-c6c9-1b2366035497"
      },
      "outputs": [
        {
          "output_type": "display_data",
          "data": {
            "text/plain": [
              "<Figure size 432x288 with 1 Axes>"
            ],
            "image/png": "[encoded data removed]"
          },
          "metadata": {
            "needs_background": "light"
          }
        }
      ],
      "source": [
        "# Create arrays for x and L.\n",
        "\n",
        "# Plot the probability desity as a function of x for each lambda.\n",
        "# Hint: You can use a for-loop and make a plot for each element of an array L. (But you don't\n",
        "#have to do it in this way.)\n",
        "# Hint2: You should label each plot. To do this in a for-loop, you should remember that you can\n",
        "#insert values into a string with the placeholder % (https://docs.python.org/2.4/lib/typesseq-strings.html).\n",
        "\n",
        "X = np.linspace(1,20,40,endpoint=True)\n",
        "L= [2,5,10]\n",
        "\n",
        "color = ['-m','-b','-r']\n",
        "plt.figure()\n",
        "for i in range(len(L)):\n",
        "  plt.plot(X,prob_xlambda(X,[L[i]],1,20),color[i],label='$\\lambda$ = ' + str(L[i]))\n",
        "plt.legend(loc='best',fontsize=20,framealpha=0)\n",
        "plt.xlabel('x',fontsize=20)\n",
        "plt.ylabel('P(x|$\\lambda$)',fontsize=20)\n",
        "plt.xticks(ticks=[1,4,8,12,16,20],fontsize=15)\n",
        "plt.yticks(ticks=[0,0.1,0.2,0.3,0.4],fontsize=15)\n",
        "plt.show()\n"
      ]
    },
    {
      "cell_type": "markdown",
      "metadata": {
        "id": "-RL9kgwcW-lC"
      },
      "source": [
        "<span style=\"color:blue\"> <i> 3. Plot $P(x|\\lambda)$ as a function of $\\lambda$ for $x = 3, 5, 12$. (This function is known as the <b>likelihood</b> of $\\lambda$) Make sure to label each plot. Note that a peak emerges in each plot. </i></span>"
      ]
    },
    {
      "cell_type": "code",
      "execution_count": null,
      "metadata": {
        "collapsed": true,
        "id": "Ti6F2yhSW-lC",
        "jupyter": {
          "outputs_hidden": true
        },
        "colab": {
          "base_uri": "https://localhost:8080/",
          "height": 299
        },
        "outputId": "4bbb6c0e-9057-4427-f0ab-de082736c426"
      },
      "outputs": [
        {
          "output_type": "display_data",
          "data": {
            "text/plain": [
              "<Figure size 432x288 with 1 Axes>"
            ],
            "image/png": "[encoded data removed]"
          },
          "metadata": {
            "needs_background": "light"
          }
        }
      ],
      "source": [
        "# Create arrays for x and L.\n",
        "\n",
        "\n",
        "# Plot the probability desity as a function of L for each x. Label each plot.\n",
        "\n",
        "L = np.linspace(1,20,100,endpoint=True)\n",
        "X= [3,5,12]\n",
        "\n",
        "color = ['-m','-b','-r']\n",
        "plt.figure()\n",
        "for i in range(len(X)):\n",
        "  plt.plot(L,*prob_xlambda([X[i]],L,1,20),color[i],label='X = ' + str(X[i]))\n",
        "plt.legend(loc='best',fontsize=20,framealpha=0)\n",
        "plt.xlabel('L',fontsize=20)\n",
        "plt.ylabel('P(x|$\\lambda$)',fontsize=20)\n",
        "plt.xticks(ticks=[1,4,8,12,16,20],fontsize=15)\n",
        "plt.yticks(ticks=[0,0.1,0.2,0.3,0.4],fontsize=15)\n",
        "plt.show()\n"
      ]
    },
    {
      "cell_type": "markdown",
      "metadata": {
        "id": "psFRE-pKW-lC"
      },
      "source": [
        "<span style=\"color:blue\"> <i> 4. Plot $P(x|\\lambda)$ as a function of $x$ and $\\lambda$. Create a surface plot.  </i></span>"
      ]
    },
    {
      "cell_type": "code",
      "execution_count": null,
      "metadata": {
        "collapsed": true,
        "id": "RrV5Dr-BW-lC",
        "jupyter": {
          "outputs_hidden": true
        }
      },
      "outputs": [],
      "source": [
        "# Import packages for making a 3D plot\n",
        "from mpl_toolkits.mplot3d import Axes3D\n",
        "from matplotlib import cm\n",
        "from matplotlib.ticker import LinearLocator\n"
      ]
    },
    {
      "cell_type": "code",
      "execution_count": null,
      "metadata": {
        "collapsed": true,
        "id": "TSAMz2_cW-lC",
        "jupyter": {
          "outputs_hidden": true
        },
        "colab": {
          "base_uri": "https://localhost:8080/",
          "height": 235
        },
        "outputId": "900fe9fc-8451-4afe-d692-a923e425339a"
      },
      "outputs": [
        {
          "output_type": "error",
          "ename": "NameError",
          "evalue": "ignored",
          "traceback": [
            "\u001b[0;31m---------------------------------------------------------------------------\u001b[0m",
            "\u001b[0;31mNameError\u001b[0m                                 Traceback (most recent call last)",
            "\u001b[0;32m<ipython-input-1-0b3b595d240f>\u001b[0m in \u001b[0;36m<module>\u001b[0;34m\u001b[0m\n\u001b[1;32m      1\u001b[0m \u001b[0;31m# Hint/suggestion:\u001b[0m\u001b[0;34m\u001b[0m\u001b[0;34m\u001b[0m\u001b[0;34m\u001b[0m\u001b[0m\n\u001b[1;32m      2\u001b[0m \u001b[0;31m# Create arrays for x and L. These define your \"x\" and \"y\" coordinates.\u001b[0m\u001b[0;34m\u001b[0m\u001b[0;34m\u001b[0m\u001b[0;34m\u001b[0m\u001b[0m\n\u001b[0;32m----> 3\u001b[0;31m \u001b[0mx\u001b[0m \u001b[0;34m=\u001b[0m \u001b[0mnp\u001b[0m\u001b[0;34m.\u001b[0m\u001b[0mlinspace\u001b[0m\u001b[0;34m(\u001b[0m\u001b[0;36m1\u001b[0m\u001b[0;34m,\u001b[0m\u001b[0;36m20\u001b[0m\u001b[0;34m,\u001b[0m\u001b[0;36m100\u001b[0m\u001b[0;34m,\u001b[0m\u001b[0mendpoint\u001b[0m\u001b[0;34m=\u001b[0m\u001b[0;32mTrue\u001b[0m\u001b[0;34m)\u001b[0m\u001b[0;34m\u001b[0m\u001b[0;34m\u001b[0m\u001b[0m\n\u001b[0m\u001b[1;32m      4\u001b[0m \u001b[0mL\u001b[0m \u001b[0;34m=\u001b[0m \u001b[0mnp\u001b[0m\u001b[0;34m.\u001b[0m\u001b[0mlinspace\u001b[0m\u001b[0;34m(\u001b[0m\u001b[0;36m1\u001b[0m\u001b[0;34m,\u001b[0m\u001b[0;36m20\u001b[0m\u001b[0;34m,\u001b[0m\u001b[0;36m100\u001b[0m\u001b[0;34m,\u001b[0m\u001b[0mendpoint\u001b[0m\u001b[0;34m=\u001b[0m\u001b[0;32mTrue\u001b[0m\u001b[0;34m)\u001b[0m\u001b[0;34m\u001b[0m\u001b[0;34m\u001b[0m\u001b[0m\n\u001b[1;32m      5\u001b[0m \u001b[0;31m# Create coordinate matrices from coordinate vectors.\u001b[0m\u001b[0;34m\u001b[0m\u001b[0;34m\u001b[0m\u001b[0;34m\u001b[0m\u001b[0m\n",
            "\u001b[0;31mNameError\u001b[0m: name 'np' is not defined"
          ]
        }
      ],
      "source": [
        "# Hint/suggestion:\n",
        "# Create arrays for x and L. These define your \"x\" and \"y\" coordinates.\n",
        "x = np.linspace(1,20,100,endpoint=True)\n",
        "L = np.linspace(1,20,100,endpoint=True)\n",
        "# Create coordinate matrices from coordinate vectors.\n",
        "\n",
        "coords = np.zeros((len(x),len(L)))\n",
        "\n",
        "# Evaluate probability densities at all (x,y) coordinates. This is your \"z\" coordinate.\n",
        "\n",
        "probs = prob_xlambda(x,L,1,20)\n",
        "\n",
        "# Make plot\n",
        "# Add contour plots\n",
        "fig, ax = plt.subplots(subplot_kw={\"projection\": \"3d\"})\n",
        "\n",
        "surf = ax.plot_surface(x, L, probs, cmap=cm.coolwarm,linewidth=0, antialiased=False)\n",
        "ax.set_xlabel('x',fontsize=20)\n",
        "ax.set_ylabel('L',fontsize=20)\n",
        "ax.set_zlabel('P(x|$\\lambda$)',fontsize=20)\n",
        "# Customize the z axis\n",
        "ax.set_zlim(0, 1)\n",
        "ax.zaxis.set_major_locator(LinearLocator(6))\n",
        "# A StrMethodFormatter is used automatically\n",
        "# Add a color bar which maps values to colors.\n",
        "fig.colorbar(surf, shrink=1, aspect=5)\n",
        "\n",
        "plt.show()\n"
      ]
    },
    {
      "cell_type": "markdown",
      "metadata": {
        "id": "QMsmRbK5W-lC"
      },
      "source": [
        "In the above figure, two contour plots (constant $x$ and $y$ slices) are also included. Compare them to the figures you created in part 2 and 3. They are the same; they correspond to vertical sections through surface.<br>"
      ]
    },
    {
      "cell_type": "markdown",
      "metadata": {
        "id": "N7cOta0vW-lD"
      },
      "source": [
        "Now write Bayes' theorem:<br>\n",
        "\n",
        "\\begin{align}\n",
        "P(\\lambda\\ |\\ \\{x_1, ..., x_N\\}) & = \\frac{P(\\{x\\}|\\lambda)P(\\lambda)}{P(\\{x\\})} \\\\\n",
        "& \\propto \\frac{1}{(\\lambda Z(\\lambda))^N}\\ \\mathrm{exp} \\big( -\\sum_1^N x_n/\\lambda \\big) P(\\lambda)\n",
        "\\end{align}\n",
        "<br>\n",
        "<span style=\"color:blue\"> <i> 5. Define the likelihood function $P(\\{x\\}|\\lambda)$ and plot $P(\\{x \\} = \\{1.5, 2, 3, 4, 5, 12\\}|\\lambda)$ as a function of $\\lambda$. Assuming a constant prior $P(\\lambda)$, estimate the peak posterior value of $\\lambda$ and the error on $\\lambda$ by fitting to a gaussian at the peak.  </i></span>"
      ]
    },
    {
      "cell_type": "markdown",
      "source": [
        "The expression for likelihood function is given in part 1, its definition is:<br>\n",
        "\n",
        "\\begin{align}\n",
        "P(x\\ |\\ \\lambda) & = \\frac{P(x\\ ,\\lambda)}{P(\\lambda)}\\\\\n",
        "\\end{align}\n"
      ],
      "metadata": {
        "id": "BgFLcpFycwOI"
      }
    },
    {
      "cell_type": "code",
      "execution_count": null,
      "metadata": {
        "collapsed": true,
        "id": "fewob-4LW-lD",
        "jupyter": {
          "outputs_hidden": true
        },
        "colab": {
          "base_uri": "https://localhost:8080/",
          "height": 309
        },
        "outputId": "1cc4099a-078c-4fc7-caa0-9a2c698a2db9"
      },
      "outputs": [
        {
          "output_type": "display_data",
          "data": {
            "text/plain": [
              "<Figure size 432x288 with 1 Axes>"
            ],
            "image/png": "[encoded data removed]"
          },
          "metadata": {
            "needs_background": "light"
          }
        }
      ],
      "source": [
        "# Create an array for L. Assume that it is evenly spaced numbers over the interval (1e-1, 1e2).\n",
        "# Create an array for x.\n",
        "L = np.linspace(1e-1,1e2,100)\n",
        "x = [1.5,2,3,4,5,12]\n",
        "# Evaluate the likelihood function and plot it as a function of L\n",
        "likelihood = np.sum(prob_xlambda(x,L,1,20),axis=0)\n",
        "plt.figure()\n",
        "plt.plot(L,likelihood,'-r')\n",
        "#plt.legend(loc=1,fontsize=16,framealpha=0, title_fontsize=20)\n",
        "plt.xlabel('L',fontsize=20)\n",
        "plt.ylabel('P(x|$\\lambda$)',fontsize=20)\n",
        "plt.xticks(fontsize=15)\n",
        "plt.yticks(fontsize=15)\n",
        "plt.title('Q1: part 5')\n",
        "plt.show()\n",
        "\n",
        "\n",
        "# Make plot\n"
      ]
    },
    {
      "cell_type": "code",
      "execution_count": null,
      "metadata": {
        "collapsed": true,
        "id": "YfcNQjXbW-lD",
        "jupyter": {
          "outputs_hidden": true
        },
        "colab": {
          "base_uri": "https://localhost:8080/"
        },
        "outputId": "3b96da90-01b9-4a3d-8261-14a88c74271a"
      },
      "outputs": [
        {
          "output_type": "stream",
          "name": "stdout",
          "text": [
            "peak posterior value of L (L_max):\n",
            "1.1090909090909091\n",
            "maximum posterior value is:\n",
            "0.011749628701706467\n"
          ]
        }
      ],
      "source": [
        "# How is the posterior related to the likelihood and the prior?\n",
        "# Estimate the peak posterior value of L (Hint - https://docs.scipy.org/doc/numpy/reference/generated/numpy.argmax.html)\n",
        "prior = 1/(1e2-1e-1)\n",
        "\n",
        "ind = np.argmax(likelihood)\n",
        "L_max = L[ind]\n",
        "print('peak posterior value of L (L_max):')\n",
        "print(L_max)\n",
        "peak_post  = likelihood[ind]*prior\n",
        "print('maximum posterior value is:')\n",
        "print(peak_post)"
      ]
    },
    {
      "cell_type": "code",
      "execution_count": null,
      "metadata": {
        "id": "hBQ8gelsW-lD",
        "colab": {
          "base_uri": "https://localhost:8080/",
          "height": 329
        },
        "outputId": "9c75056c-92ba-4e2b-b50e-e368328dfb3c"
      },
      "outputs": [
        {
          "output_type": "stream",
          "name": "stdout",
          "text": [
            "Mean-Square Error\n",
            "0.16684823452329398\n"
          ]
        },
        {
          "output_type": "display_data",
          "data": {
            "text/plain": [
              "<Figure size 432x288 with 1 Axes>"
            ],
            "image/png": "[encoded data removed]"
          },
          "metadata": {
            "needs_background": "light"
          }
        }
      ],
      "source": [
        "# Estimate the error on L  by fitting to a gaussian at the peak\n",
        "# Import packages for curve fitting\n",
        "from scipy import stats\n",
        "from sklearn.metrics import mean_squared_error\n",
        "\n",
        "# Create an array of L near L_max\n",
        "\n",
        "L = np.linspace(1e-1,1e2,100)\n",
        "\n",
        "# Define Gaussian function with arbitrary amplitude (See https://en.wikipedia.org/wiki/Normal_distribution)\n",
        "#gaussian = stats.norm.pdf(L_norm,loc=L_max,scale=1)\n",
        "# Fit a Gaussian function to a data\n",
        "#(https://docs.scipy.org/doc/scipy/reference/generated/scipy.optimize.curve_fit.html)\n",
        "# You can use different packages if you wish. This is only a suggestion.\n",
        "\n",
        "print('Mean-Square Error')\n",
        "print(mean_squared_error(stats.norm.pdf(L,loc= L_max,scale=1),likelihood))\n",
        "# Plot both data and fit\n",
        "\n",
        "plt.figure()\n",
        "plt.plot(L,stats.norm.pdf(L,loc= L_max,scale=1),'-b')\n",
        "plt.plot(L,likelihood,'-r')\n",
        "#plt.legend(loc=1,fontsize=16,framealpha=0, title_fontsize=20)\n",
        "plt.xlabel('L',fontsize=20)\n",
        "plt.ylabel('P(x|$\\lambda$)',fontsize=20)\n",
        "plt.xticks(fontsize=15)\n",
        "plt.yticks(fontsize=15)\n",
        "plt.show()\n"
      ]
    },
    {
      "cell_type": "markdown",
      "metadata": {
        "id": "tknssj4QYIJj"
      },
      "source": [
        "<span style=\"color:blue\"> <i> 6. Let's say that it was previously believed that the characteristic length $\\lambda$ were $3.5\\pm2.0$. Modelling this prior $P(\\lambda)$ belief with a Gaussian distribution, write a new function that returns the posterior function for this dataset (up to $\\lambda$-independent normalization). Allow this function to take general mean and standard deviation of the prior in order to do the last part of this problem. Use this function to estimate the new peak posterior value of $\\lambda$. </i></span>"
      ]
    },
    {
      "cell_type": "code",
      "execution_count": null,
      "metadata": {
        "id": "nJVBdmBKYIJj",
        "colab": {
          "base_uri": "https://localhost:8080/"
        },
        "outputId": "f7dfc5b6-440e-4793-98e8-c65da11b4a44"
      },
      "outputs": [
        {
          "output_type": "stream",
          "name": "stdout",
          "text": [
            "peak posterior value of L/L_max:\n",
            "3.1272727272727274\n",
            "new maximum posterior value is:\n",
            "0.17575186749396907\n"
          ]
        }
      ],
      "source": [
        "# Write a new posterior function for this dataset (up to lambda-independent normalization)\n",
        "# This should take the mean and standard deviation of the prior as input.\n",
        "prior = stats.norm.pdf(L,3.5,2)\n",
        "\n",
        "postr1 = likelihood*prior\n",
        "\n",
        "# Using the given prior belief, determine the maximum:\n",
        "L_max = L[np.argmax(postr1)]\n",
        "print('peak posterior value of L/L_max:')\n",
        "print(L_max)\n",
        "\n",
        "peak_postr = max(postr1)\n",
        "print('new maximum posterior value is:')\n",
        "print(peak_postr)"
      ]
    },
    {
      "cell_type": "markdown",
      "metadata": {
        "id": "khwUxFCRYIJj"
      },
      "source": [
        "<span style=\"color:blue\"> <i> 7. Determine the limiting behavior of this new peak posterior value as the uncertainty on the prior belief goes to zero and as it goes to infinity by evaluating this peak posterior value for uncertainties of 1e-3 and 1e3. </i></span>"
      ]
    },
    {
      "cell_type": "code",
      "execution_count": null,
      "metadata": {
        "id": "UhHakic7YIJj",
        "colab": {
          "base_uri": "https://localhost:8080/"
        },
        "outputId": "43b9573d-f8a8-46a1-c74d-40c2bca2e8e6"
      },
      "outputs": [
        {
          "output_type": "stream",
          "name": "stdout",
          "text": [
            "peak posterior value of L for uncertainity of 1e-3 is:\n",
            "0.1\n",
            "new maximum posterior value is:\n",
            "0.0\n",
            "peak posterior value of L for uncertainity of 1e3 is:\n",
            "1.1090909090909091\n",
            "new maximum posterior value is:\n",
            "0.0004682722860174807\n"
          ]
        }
      ],
      "source": [
        "# Determine maximum posterior value of lambda for uncertainty of 1e-3\n",
        "prior = stats.norm.pdf(L,3.5,1e-3)\n",
        "postr2 = likelihood*prior\n",
        "L_max = L[np.argmax(postr2)]\n",
        "print('peak posterior value of L for uncertainity of 1e-3 is:')\n",
        "print(L_max)\n",
        "\n",
        "# Using the given prior belief, determine the maximum:\n",
        "\n",
        "peak_postr2 = max(postr2)\n",
        "print('new maximum posterior value is:')\n",
        "print(peak_postr2)\n",
        "\n",
        "# Determine maximum posterior value of lambda for uncertainty of 1e3\n",
        "prior = stats.norm.pdf(L,3.5,1e3)\n",
        "\n",
        "postr3 = likelihood*prior\n",
        "L_max = L[np.argmax(postr3)]\n",
        "print('peak posterior value of L for uncertainity of 1e3 is:')\n",
        "print(L_max)\n",
        "\n",
        "# Using the given prior belief, determine the maximum:\n",
        "peak_postr3 = max(postr3)\n",
        "print('new maximum posterior value is:')\n",
        "print(peak_postr3)"
      ]
    },
    {
      "cell_type": "markdown",
      "metadata": {
        "id": "Tj12-4XOYIJj"
      },
      "source": [
        "<span style=\"color:blue\"> <i> 8. Why should we expect these values?\n",
        "   </i></span>"
      ]
    },
    {
      "cell_type": "markdown",
      "metadata": {
        "id": "SSmicGlNYIJk"
      },
      "source": [
        "<span style=\"color:blue\"> <i> <b>Answer: For very high uncertainity of 1e3, the gaussian prior essentially becomes equivalent to the uniform prior case of part 5 and hence the peak posterior value of L is also same. For the case of  very low uncertainity of 1e-3, P($\\lambda$) is zero except at 3.5 thus it is no surprise posterior is maximum at lowest value of x = 0.1, since posterior is  directly proportional to $e^{-x/\\lambda}$</b> </i></span><br>."
      ]
    },
    {
      "cell_type": "markdown",
      "metadata": {
        "id": "tTgFXHF9W-lD"
      },
      "source": [
        "***"
      ]
    },
    {
      "cell_type": "markdown",
      "metadata": {
        "id": "HHkvn5YWW-lD"
      },
      "source": [
        "#### Problem 2 - Biased Coin\n",
        "\n",
        "When spun on edge 256 times, a Belgian one-euro coin came up heads 142 times and tails 114. Do these data give evidence that the coin is biased rather than fair?  <br>\n",
        "<br>\n",
        "We compare the models $\\mathcal{H}_0$ - the coin is fair - and $\\mathcal{H}_1$ - the coin is biased. <br>\n",
        "<br>\n",
        "First, suppose that the model $\\mathcal{H}_1$ assumes a uniform prior distribution for $p$ (the probability of getting heads in a single toss): $P(p|\\mathcal{H}_1) = 1$. <br>\n",
        "<br>\n",
        "Let the data $D$ be a sequence which contains counts of the two possible outcomes (H - head / T - tail): e.g. HHTHT, HHHTTHTT, etc. <br>\n",
        "<br>\n",
        "Given a particular $p$, the probability that $F$ tosses results in a sequence $D$ of $F_H$ heads and $F_T$ tails is:\n",
        "$$ P(D|p,\\mathcal{H}_1) = p^{F_H} (1-p)^{F_T}. $$\n",
        "<br>\n",
        "Then,\n",
        "$$ P(D|\\mathcal{H}_1) = \\int_0^1 dp\\ p^{F_H} (1-p)^{F_T} = \\frac{\\Gamma(F_H+1)\\Gamma(F_T+1)}{\\Gamma(F_H+F_T+2)} .$$\n",
        "Note that the above integral is a \"Beta function\" $B(F_H+1, F_T+1)$ and can be written in terms of the gamma function. (See http://www.math.uah.edu/stat/special/Beta.html) <br>\n",
        "<br>\n",
        "The gamma function is an extension of the factorial function $\\Gamma(n+1) = n!$ <br> <br>\n",
        "$$ \\frac{\\Gamma(F_H+1)\\Gamma(F_T+1)}{\\Gamma(F_H+F_T+2)} = \\frac{F_H! F_T!}{(F_H+F_T+1)!} $$\n",
        "<br>\n",
        "Similarly,\n",
        "$$ P(D|\\mathcal{H}_0) = \\big(\\frac{1}{2}\\big)^F. $$\n",
        "<br>\n",
        "<span style=\"color:blue\"> <i> 1. Find the likelihood ratio $\\frac{P(D|\\mathcal{H}_1)}{P(D|\\mathcal{H}_0)}$, assuming the uniform prior of $\\mathcal{H}_1$. Which model does the data favor?</i></span> <br>\n",
        "<br>\n",
        "(Hint: If the argument of the gamma function is large, math.gamma() overflows. You can prevent this by using the fact:\n",
        "$$ log(xy/z) = log(x)+log(y)-log(z) $$ <br>\n",
        "Then, you can evaluate $P = \\Gamma(x)*\\Gamma(y)/\\Gamma(z)$ in the following way:\n",
        "$$ Q = log(P) = log(\\Gamma(x))+log(\\Gamma(y))-log(\\Gamma(z)) $$\n",
        "$$ P = e^Q $$\n",
        "<br>\n",
        "You can easily evaluate logarithm of the gamma function using \"lgamma\" (from math import lgamma) see https://docs.python.org/2/library/math.html)<br>\n",
        "<br>\n",
        "(Hint2: For reference, you can read: https://en.wikipedia.org/wiki/Bayes_factor)"
      ]
    },
    {
      "cell_type": "code",
      "execution_count": null,
      "metadata": {
        "id": "Q3IqatlKW-lD",
        "jupyter": {
          "outputs_hidden": true
        },
        "colab": {
          "base_uri": "https://localhost:8080/"
        },
        "outputId": "ba2ffd18-fd2d-42e8-fa8e-a05ebb99a0ba"
      },
      "outputs": [
        {
          "output_type": "stream",
          "name": "stdout",
          "text": [
            "0.36008921351868456\n"
          ]
        }
      ],
      "source": [
        "import math\n",
        "Fh = 142\n",
        "Ft = 114\n",
        "prob_dho = pow(0.5,Fh+Ft)\n",
        "prob_dh1 = pow(math.e,(math.lgamma(Fh+1) + math.lgamma(Ft+1) - math.lgamma(Ft + Fh+2)))\n",
        "\n",
        "print(prob_dh1/prob_dho)"
      ]
    },
    {
      "cell_type": "markdown",
      "source": [
        "**Answer : Under the  assumption of uniform prior for $H_1$ the Bayes factor comes out in the favor of unbiased case $H_o$.**"
      ],
      "metadata": {
        "id": "pWCYLrBTeusf"
      }
    },
    {
      "cell_type": "markdown",
      "metadata": {
        "id": "4SjeOefOW-lD"
      },
      "source": [
        "Instead of assuming a uniform prior, suppose that we add a small bias, and consequently the prior were presciently set: <br>\n",
        "$$ P(p|\\mathcal{H}_1, \\alpha) = \\frac{1}{Z(\\alpha)}p^{\\alpha-1}(1-p)^{\\alpha-1},\\ \\  \\mathrm{where}\\ \\ Z(\\alpha) = \\Gamma(\\alpha)^2/\\Gamma(2\\alpha) $$\n",
        "<br>\n",
        "<span style=\"color:blue\"> <i> 2. Calculate the likelihood ratio $\\frac{P(D|\\mathcal{H}_1)}{P(D|\\mathcal{H}_0)}$, assuming the above prior of $\\mathcal{H}_1$. Let $\\alpha$ = \\{ .37, 1.0, 2.7, 7.4, 20, 55, 148, 403, 1096 \\}. </i></span><br>\n"
      ]
    },
    {
      "cell_type": "markdown",
      "metadata": {
        "id": "NQ_hvZ68W-lE"
      },
      "source": [
        "<span style=\"color:blue\"> <i> Answer: write down the analytic expression of $\\frac{P(D|\\mathcal{H}_1)}{P(D|\\mathcal{H}_0)}$. Show your work here. </i></span>"
      ]
    },
    {
      "cell_type": "markdown",
      "source": [
        "$$ P(D|\\mathcal{H}_1) = \\int_0^1 dp\\ \\frac{1}{Z(\\alpha)}p^{\\alpha-1}(1-p)^{\\alpha-1} p^{F_H} (1-p)^{F_T} = \\frac{1}{Z(\\alpha)}\\int_0^1 dp\\ p^{F_H + \\alpha-1} (1-p)^{F_T + \\alpha-1} = \\frac{\\Gamma(F_H+\\alpha)\\Gamma(F_T+α)\\Gamma(2\\alpha)}{\\Gamma(F_H+F_T+2\\alpha)\\Gamma(\\alpha)^2} $$"
      ],
      "metadata": {
        "id": "OnqFmYg_tDIZ"
      }
    },
    {
      "cell_type": "code",
      "execution_count": null,
      "metadata": {
        "id": "OSCvT95jW-lE",
        "jupyter": {
          "outputs_hidden": true
        },
        "colab": {
          "base_uri": "https://localhost:8080/",
          "height": 449
        },
        "outputId": "40ed7a7d-2e4d-4383-8456-333ad5924f09"
      },
      "outputs": [
        {
          "output_type": "stream",
          "name": "stdout",
          "text": [
            "likelihood ratio for α = 0.37 is 0.18681218637426353\n",
            "likelihood ratio for α = 1.0 is 0.36008921351868456\n",
            "likelihood ratio for α = 2.7 is 0.6208731870947544\n",
            "likelihood ratio for α = 7.4 is 0.9863028469036422\n",
            "likelihood ratio for α = 20.0 is 1.3835685733196785\n",
            "likelihood ratio for α = 55.0 is 1.603774022136429\n",
            "likelihood ratio for α = 148.0 is 1.4914569982063226\n",
            "likelihood ratio for α = 403.0 is 1.2605120911887078\n",
            "likelihood ratio for α = 1096.0 is 1.1106653175603924\n"
          ]
        },
        {
          "output_type": "display_data",
          "data": {
            "text/plain": [
              "<Figure size 432x288 with 1 Axes>"
            ],
            "image/png": "[encoded data removed]"
          },
          "metadata": {
            "needs_background": "light"
          }
        }
      ],
      "source": [
        "def bayes_factor(Fh,Ft,alpha):\n",
        "  prob_dho = pow(0.5,Fh+Ft)\n",
        "  prob_dh1 = pow(math.e,(math.lgamma(Fh+alpha) + math.lgamma(Ft+alpha) - math.lgamma(Ft + Fh + 2*alpha) + math.lgamma(2*alpha)- 2*math.lgamma(alpha)))\n",
        "  return prob_dh1/prob_dho\n",
        "\n",
        "alphas = np.array([0.37, 1.0, 2.7, 7.4, 20, 55, 148, 403, 1096])\n",
        "\n",
        "factors= np.zeros(len(alphas))\n",
        "for i in range(len(alphas)):\n",
        "  factors[i] = bayes_factor(142,114,alphas[i])\n",
        "  print('likelihood ratio for \\u03B1 = ' + str(alphas[i]) + ' is ' + str(factors[i]))\n",
        "\n",
        "plt.figure()\n",
        "plt.plot(alphas,factors,'--or')\n",
        "plt.xlabel('$\\\\alpha$',fontsize=20)\n",
        "plt.ylabel('Bayes factor',fontsize=20)\n",
        "plt.xticks(fontsize=15)\n",
        "plt.yticks(fontsize=15)\n",
        "plt.show()\n",
        "\n"
      ]
    },
    {
      "cell_type": "markdown",
      "metadata": {
        "id": "EMEpk71hW-lE"
      },
      "source": [
        "<span style=\"color:blue\"> <i> 3. Does the likelihood ratio for $\\mathcal{H}_1$ over $\\mathcal{H}_0$ increases as $\\alpha$ increases? </i></span><br>"
      ]
    },
    {
      "cell_type": "markdown",
      "metadata": {
        "id": "VzjIkZyPW-lE"
      },
      "source": [
        "<span style=\"color:blue\"> <i><b>Answer: No, the likelihood ratio shows a\n",
        "non-monotonic dependence on $\\alpha$ with a peak around 55.</b></i></span><br>\n"
      ]
    },
    {
      "cell_type": "markdown",
      "metadata": {
        "id": "IGV6IlkkW-lE"
      },
      "source": [
        "<span style=\"color:blue\"> <i> 4. Now, let $\\mathcal{H}_1$ be the model in which the probability of getting heads is descrete at 142/256. What is the likelihood in this case? </i></span><br>"
      ]
    },
    {
      "cell_type": "code",
      "execution_count": null,
      "metadata": {
        "collapsed": true,
        "id": "8wdWkEYjW-lE",
        "jupyter": {
          "outputs_hidden": true
        },
        "colab": {
          "base_uri": "https://localhost:8080/"
        },
        "outputId": "9aba269a-168d-468b-a783-0dbde5b7b93b"
      },
      "outputs": [
        {
          "output_type": "stream",
          "name": "stdout",
          "text": [
            "0.05011901063555848\n"
          ]
        }
      ],
      "source": [
        "import math\n",
        "\n",
        "def comb(n,k):\n",
        "  return math.factorial(n)/(math.factorial(k)*math.factorial(n-k))\n",
        "\n",
        "ph_h1 = 142/256\n",
        "prob = pow(ph_h1,Fh)*pow(1-ph_h1,Ft)*comb(256,142)\n",
        "print(prob)"
      ]
    },
    {
      "cell_type": "markdown",
      "metadata": {
        "id": "7BNke76WW-lE"
      },
      "source": [
        "<span style=\"color:blue\"> <i> 5. Explain the above result. </i></span><br>"
      ]
    },
    {
      "cell_type": "markdown",
      "metadata": {
        "id": "KQmFU0d4W-lE"
      },
      "source": [
        "<span style=\"color:blue\"> <i> Answer: **For the number of coin flips as high as 256 the total number of possible combinations are also very high. Thus getting a very low likelihood for any one given combination is expected**</i></span><br>\n"
      ]
    },
    {
      "cell_type": "markdown",
      "metadata": {
        "id": "NLl1VtocW-lE"
      },
      "source": [
        "<span style=\"color:blue\"> <i> 6. Now let us test the null hypothesis. Assuming the central limit theorem, we model the binomial as a gaussian centered at $\\mu = F/2$ and with the width given by $\\sigma^2 = F*(p_{heads})*(p_{tails})$. (in this case, $p_{heads} = p_{heads} = 1/2$) </i></span><br>"
      ]
    },
    {
      "cell_type": "code",
      "source": [
        "# the gaussian is given by\n",
        "\n",
        "def gaussian(x):\n",
        "  avg = 128\n",
        "  var= 64\n",
        "  return 1/(math.sqrt(2*math.pi*var))*math.exp(-0.5*pow((x-avg),2)/var)\n",
        "\n",
        "p_value = quad(gaussian,142, np.inf)\n",
        "\n",
        "print(p_value)"
      ],
      "metadata": {
        "colab": {
          "base_uri": "https://localhost:8080/"
        },
        "id": "p8scmoqzXLR7",
        "outputId": "b98f8ecf-c399-4795-bdb0-a4cc5cb16179"
      },
      "execution_count": null,
      "outputs": [
        {
          "output_type": "stream",
          "name": "stdout",
          "text": [
            "(0.040059156863817044, 8.761680770801385e-11)\n"
          ]
        }
      ]
    },
    {
      "cell_type": "markdown",
      "source": [
        "For the critical value of alpha = 0.05, the calculated p value indicates that null hypothesis should be rejected or is less likely."
      ],
      "metadata": {
        "id": "51wc0oiWs9BE"
      }
    },
    {
      "cell_type": "markdown",
      "metadata": {
        "id": "UDYblrbTW-lE"
      },
      "source": [
        "#### Problem 3 - Monty Hall\n",
        "\n",
        "On a game show, a contestant is told the rules as follows: <br>\n",
        "<br>\n",
        "There are three doors, labelled 1, 2, 3. A single prize has been hidden behind one of them. You get to select one door. Initially your chosen door will not be opened. Instead, the gameshow host will open one of the other two doors, and he will do so in such a way as not to reveal the prize. For example, if you first choose door 1, he will then open one of doors 2 and 3, and it is guaranteed that he will choose which one to open so that the prize will not be revealed.<br>\n",
        "<br>\n",
        "At this point, you will be given a fresh choice of door: you can either stick with your first choice, or you can switch to the other closed door. All the doors will then be opened and you will receive whatever is behind your final choice of door.<br>\n",
        "<br>\n",
        "Imagine that the contestant chooses door 1 first; then the gameshow host opens door 2, revealing nothing behind the door, as promised. Should the contestant (a) stick with door 1, or (b) switch to door 3, or (c) does it make no difference?"
      ]
    },
    {
      "cell_type": "markdown",
      "metadata": {
        "id": "1XTCgOl-W-lF"
      },
      "source": [
        "Let $\\mathcal{H}_i$ denote the hypothesis that the prize is behind door $i$. We make the following assumptions: the three hypotheses $\\mathcal{H}_1, \\mathcal{H}_2, \\mathcal{H}_3$ are equiprobable a <i>priori</i>, i.e., <br>\n",
        "<br>\n",
        "$$ P(\\mathcal{H}_1) = P(\\mathcal{H}_2) = P(\\mathcal{H}_3) = \\frac{1}{3} $$\n",
        "<br>\n",
        "The datum we receive, after choosing door 1, is one of $D$ = 3 and $D$ = 2 (meaning door 3 or 2 is opened, respectively).<br>\n",
        "<span style=\"color:blue\"> <i> 1. Find $P(D=2|\\mathcal{H}_1), P(D=3|\\mathcal{H}_1), P(D=2|\\mathcal{H}_2), P(D=3|\\mathcal{H}_2), P(D=2|\\mathcal{H}_3), P(D=3|\\mathcal{H}_3)$. </i></span><br>"
      ]
    },
    {
      "cell_type": "markdown",
      "metadata": {
        "id": "YRASEeh-W-lF"
      },
      "source": [
        "<span style=\"color:blue\"> <i> Answer: For the case where the contestant has first chosen gate 1\n",
        "\n",
        "$ P(D = 2 | \\mathcal{H}_1) = 0.5$ , since the prize is in door 1, the host is equally free to open gate 2 or 3\n",
        "\n",
        "$ P(D = 3 | \\mathcal{H}_1) = 0.5$ , since the prize is in door 1, the host is equally free to open gate 2 or 3\n",
        "\n",
        "$ P(D = 2 | \\mathcal{H}_2) = 0$ , since the prize is in door 2, the host's only remaining option is door 3. they cannot open door 2\n",
        "\n",
        "$ P(D = 3 | \\mathcal{H}_2) = 1$ , since the prize is in door 2, the host's only option is to open door 3\n",
        "\n",
        "$ P(D = 2 | \\mathcal{H}_3) = 1$ , since the prize is in door 3, the host's only option is door 2\n",
        "\n",
        "$ P(D = 3 | \\mathcal{H}_3) = 0$ , since the prize is in door 3, the host is allowed to open door 2. door 3 has to remain closed\n",
        "\n",
        "\n",
        " </i></span><br>\n",
        "\n",
        "---\n",
        "\n",
        "\n"
      ]
    },
    {
      "cell_type": "markdown",
      "metadata": {
        "id": "pa_dJc_fW-lF"
      },
      "source": [
        "Now, using Bayes’ theorem, we evaluate the posterior probabilities of the hypotheses:<br>\n",
        "$$ P(\\mathcal{H}_i|D=2) = \\frac{P(D=2|\\mathcal{H}_i)P(\\mathcal{H}_i)}{P(D=2)} $$ <br>\n",
        "<br>\n",
        "<span style=\"color:blue\"> <i> 2. First, we need to calculate the normalizing constant (denominator). Find $P(D=2), P(D=3)$ </i></span><br>"
      ]
    },
    {
      "cell_type": "markdown",
      "metadata": {
        "id": "fY1vYoZ5W-lF"
      },
      "source": [
        "<span style=\"color:blue\"> <i> Answer: The expression for P(D) is: </i></span><br>\n",
        "\n",
        "$$ P(D) = \\sum_i P(D| \\mathcal{H}_i)P(\\mathcal{H}_i)$$\n",
        "$$ P(D=2) = \\frac{1}{3}(0.5+0+1) = 0.5$$\n",
        "$$ P(D=3) = \\frac{1}{3}(0.5+1+0) = 0.5$$"
      ]
    },
    {
      "cell_type": "markdown",
      "metadata": {
        "id": "NfsZElu8W-lF"
      },
      "source": [
        "<span style=\"color:blue\"> <i> 3. Evaluate the posterior probability and argue if the contestant should switch to door 3. <br>\n",
        "<br>Alternatively, you can perform a thought experiment in which the game is played with 100 doors. The rules are now that the contestant chooses one door, then the game show host opens 98 doors in such a way as not to reveal the prize, leaving the contestant’s selected door and one other door closed. The contestant may now stick or switch. Where do you think the prize is? </i></span><br>"
      ]
    },
    {
      "cell_type": "markdown",
      "metadata": {
        "id": "OkS22sFgW-lF"
      },
      "source": [
        "<span style=\"color:blue\"> <i><b> Answer:\n",
        "$ P(\\mathcal{H}_1|D=2) = 1/3$ \\\\\n",
        "$ P(\\mathcal{H}_1|D=3) = 1/3$ \\\\\n",
        "$ P(\\mathcal{H}_2|D=2) = 0$ \\\\\n",
        "$ P(\\mathcal{H}_2|D=3) = 2/3$ \\\\\n",
        "$ P(\\mathcal{H}_3|D=2) = 2/3$ \\\\\n",
        "$ P(\\mathcal{H}_3|D=3) = 0$ \\\\\n",
        "\n",
        "the probability that gate 2 is  opened and prize lies in 3 is 2/3, whereas the probability of prize  lying in  1 is 1/3. Considering this posterior probabilities contestant should switch to door 3.</b></i></span><br>"
      ]
    },
    {
      "cell_type": "markdown",
      "metadata": {
        "id": "rS2zZr4xW-lF"
      },
      "source": [
        "***\n",
        "Imagine that the game happens again and just as the gameshow host is about to open one of the doors a violent earthquake rattles the building and one of the three doors flies open. It happens to be door 3, and it happens not to have the prize behind it. The contestant had initially chosen door 1.<br><br>\n",
        "Repositioning his toupee, the host suggests, ‘OK, since you chose door 1 initially, door 3 is a valid door for me to open, according to the rules of the game; I’ll let door 3 stay open. Let’s carry on as if nothing happened.’\n",
        "Should the contestant stick with door 1, or switch to door 2, or does it make no difference? Assume that the prize was placed randomly, that the gameshow host does not know where it is, and that the door flew open because its latch was broken by the earthquake.<br><br>\n",
        "\n",
        "[A similar alternative scenario is a gameshow whose confused host forgets the rules, and where the prize is, and opens one of the unchosen doors at random. He opens door 3, and the prize is not revealed. Should the contestant choose what’s behind door 1 or door 2? Does the optimal decision for the contestant depend on the contestant’s beliefs about whether the gameshow host is confused or not?]"
      ]
    },
    {
      "cell_type": "markdown",
      "metadata": {
        "id": "yUcun5u3W-lF"
      },
      "source": [
        "***\n",
        "If door 3 is opened by an earthquake, the inference comes out differently – even though visually the scene looks the same. The nature of the data, and the probability of the data, are both now different. The possible data outcomes are, firstly, that any number of the doors might have opened. We could label the eight possible outcomes <b>d</b> = (0,0,0),(0,0,1),(0,1,0),(1,0,0),(0,1,1),...,(1,1,1). <br><br>\n",
        "Secondly, it might be that the prize is visible after the earthquake has opened one or more doors. So the data $D$ consists of the value of <b>d</b>, and a statement of whether the prize was revealed. It is hard to say what the probabilities of these outcomes are, since they depend on our beliefs about the reliability of the door latches and the properties of earthquakes, but it is possible to extract the desired posterior probability without naming the values of $P($<b>d</b>$|\\mathcal{H}_i)$ for each <b>d</b>. <br><br>\n",
        "All that matters are the relative values of the quantities $P(D|\\mathcal{H}_1)$, $P(D|\\mathcal{H}_2)$, $P(D|\\mathcal{H}_3)$, for the value of $D$ that actually occurred. The value of $D$ that actually occurred is ‘<b>d</b> = (0, 0, 1), and no prize visible’.\n",
        "\n",
        "<span style=\"color:blue\"> <i> 4. How does $P(D|\\mathcal{H}_1)$ compare with $P(D|\\mathcal{H}_2)$? What is $P(D|\\mathcal{H}_3)$? Find $P(D|\\mathcal{H}_1)/P(D)$ and $P(D|\\mathcal{H}_2)/P(D)$. </i></span><br>"
      ]
    },
    {
      "cell_type": "markdown",
      "metadata": {
        "id": "vIVuKdENW-lG"
      },
      "source": [
        "<span style=\"color:blue\"> <i> <b>Answer:\n",
        "\n",
        "1. Whether the prize is inside door 1 or door 2 does not affect the outcome/data D so $P(D | \\mathcal{H}_1) = P(D | \\mathcal{H}_2)$.  \n",
        "\n",
        "2. $P(D | \\mathcal{H}_3) = 0$ since if the prize is inside third door, the data D cannot be obtained.\n",
        "\n",
        "Also,\n",
        "$$ P(D) = \\sum_i P(D | \\mathcal{H}_i)P(\\mathcal{H}_i)$$\n",
        "\n",
        "# Using $P(\\mathcal{H}_i) = 1/3 $ and the above statements 1 and 2\n",
        "\n",
        "$$ P(D|\\mathcal{H}_1)/P(D) = P(D|\\mathcal{H}_2)/P(D) = 1.5$$\n",
        "</b></i></span><br>\n",
        "\n"
      ]
    },
    {
      "cell_type": "markdown",
      "metadata": {
        "id": "7_HUtbg1W-lG"
      },
      "source": [
        "<span style=\"color:blue\"> <i>  5. Evaluate the posterior probability and argue if the contestant should switch. </i></span><br>"
      ]
    },
    {
      "cell_type": "markdown",
      "metadata": {
        "id": "tzqKqvWLW-lG"
      },
      "source": [
        "<span style=\"color:blue\"> <i><b> Answer:\n",
        "Expression for posterior probabilities\n",
        "$$ P(\\mathcal{H}_i|D) = \\frac{P(D|\\mathcal{H}_i)P(\\mathcal{H}_i)}{P(D)} $$\n",
        "Using  this\n",
        "$ P( \\mathcal{H}_1 | D) = 0.5 $ and $ P( \\mathcal{H}_2 | D) = 0.5 $\n",
        "\n",
        "So the posteriors in the two cases are equal so it doesnt matter if the contestant chooses to switch or not\n",
        " </b></i></span><br>\n"
      ]
    },
    {
      "cell_type": "markdown",
      "metadata": {
        "id": "2rMUq1wFW-lG"
      },
      "source": [
        "***"
      ]
    }
  ],
  "metadata": {
    "colab": {
      "provenance": []
    },
    "kernelspec": {
      "display_name": "Python 3",
      "language": "python",
      "name": "python3"
    },
    "language_info": {
      "codemirror_mode": {
        "name": "ipython",
        "version": 3
      },
      "file_extension": ".py",
      "mimetype": "text/x-python",
      "name": "python",
      "nbconvert_exporter": "python",
      "pygments_lexer": "ipython3",
      "version": "3.7.9"
    }
  },
  "nbformat": 4,
  "nbformat_minor": 0
}
