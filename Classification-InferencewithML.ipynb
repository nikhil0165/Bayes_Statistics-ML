{
  "cells": [
    {
      "cell_type": "markdown",
      "metadata": {
        "id": "KpwCDl9vwZ4Q"
      },
      "source": [
        "## Project 3\n",
        "\n",
        "## <em> Classification and inference with machine learning</em>\n",
        "<br>\n",
        "This notebook is arranged in cells. Texts are usually written in the markdown cells, and here you can use html tags (make it bold, italic, colored, etc). You can double click on this cell to see the formatting.<br>\n",
        "<br>\n",
        "The ellipsis (...) are provided where you are expected to write your solution but feel free to change the template (not over much) in case this style is not to your taste. <br>\n",
        "<br>\n",
        "<em>Hit \"Shift-Enter\" on a code cell to evaluate it.  Double click a Markdown cell to edit. </em><br>"
      ]
    },
    {
      "cell_type": "markdown",
      "metadata": {
        "id": "QIxH5PoGwZ4U"
      },
      "source": [
        "***\n",
        "### Mounting Google Drive locally\n",
        "Mount your Google Drive on your runtime using an authorization code.\n",
        "\n",
        "Note: When using the 'Mount Drive' button in the file browser, no authentication codes are necessary for notebooks that have only been edited by the current user."
      ]
    },
    {
      "cell_type": "code",
      "execution_count": null,
      "metadata": {
        "colab": {
          "base_uri": "https://localhost:8080/"
        },
        "id": "9tMJB6OswZ4U",
        "outputId": "1b91f6f2-b381-4002-811c-8858931e399f"
      },
      "outputs": [
        {
          "output_type": "stream",
          "name": "stdout",
          "text": [
            "Mounted at /content/drive\n"
          ]
        }
      ],
      "source": [
        "from google.colab import drive\n",
        "drive.mount('/content/drive')"
      ]
    },
    {
      "cell_type": "markdown",
      "metadata": {
        "id": "j8olIzMGwZ4W"
      },
      "source": [
        "### Imports"
      ]
    },
    {
      "cell_type": "code",
      "execution_count": null,
      "metadata": {
        "id": "aH5EG-vZwZ4W"
      },
      "outputs": [],
      "source": [
        "import numpy as np\n",
        "from scipy.integrate import quad\n",
        "#For plotting\n",
        "import matplotlib.pyplot as plt\n",
        "%matplotlib inline\n",
        "import warnings\n",
        "warnings.filterwarnings('ignore')"
      ]
    },
    {
      "cell_type": "markdown",
      "metadata": {
        "collapsed": true,
        "id": "YD6Jvp9nwZ4X"
      },
      "source": [
        "***"
      ]
    },
    {
      "cell_type": "markdown",
      "metadata": {
        "id": "U30MYNmZwZ4X"
      },
      "source": [
        "#### Problem 1 - Using Keras - MNIST\n",
        "\n",
        "The goal of this notebook is to introduce deep neural networks (DNNs) and convolutional neural networks (CNNs) using the high-level Keras package and to become familiar with how to choose its architecture, cost function, and optimizer in Keras. We will also learn how to train neural networks.\n",
        "\n",
        "We will once again work with the MNIST dataset of hand written digits introduced in earlier HW. The goal is to find a statistical model which recognizes and distinguishes between the ten handwritten digits (0-9).\n",
        "\n",
        "The MNIST dataset comprises handwritten digits, each of which comes in a square image, divided into a $28\\times 28$ pixel grid. Every pixel can take on $256$ nuances of the gray color, interpolating between white and black, and hence each data point assumes any value in the set $\\{0,1,\\dots,255\\}$. Since there are $10$ categories in the problem, corresponding to the ten digits, this problem represents a generic classification task.\n",
        "\n",
        "In this Notebook, we show how to use the Keras python package to tackle the MNIST problem with the help of deep neural networks."
      ]
    },
    {
      "cell_type": "markdown",
      "metadata": {
        "id": "IezLwUa_wZ4Y"
      },
      "source": [
        "## Creating DNNs with Keras\n",
        "\n",
        "Constructing a Deep Neural Network to solve ML problems is a multiple-stage process. Quite generally, one can identify the key steps as follows:\n",
        "\n",
        "* ***step 1:*** Load and process the data\n",
        "* ***step 2:*** Define the model and its architecture\n",
        "* ***step 3:*** Choose the optimizer and the cost function\n",
        "* ***step 4:*** Train the model\n",
        "* ***step 5:*** Evaluate the model performance on the *unseen* test data\n",
        "* ***step 6:*** Modify the hyperparameters to optimize performance for the specific data set\n",
        "\n",
        "We would like to emphasize that, while it is always possible to view steps 1-5 as independent of the particular task we are trying to solve, it is only when they are put together in ***step 6*** that the real gain of using Deep Learning is revealed, compared to less sophisticated methods such as the regression models. With this remark in mind, we shall focus predominantly on steps 1-5 below. We show how one can use grid search methods to find optimal hyperparameters in ***step 6***."
      ]
    },
    {
      "cell_type": "markdown",
      "metadata": {
        "id": "BZc64dxAwZ4Z"
      },
      "source": [
        "### Step 1: Load and Process the Data\n",
        "\n",
        "Keras knows to download automatically the MNIST data from the web. All we need to do is import the `mnist` module and use the `load_data()` class, and it will create the training and test data sets or us.\n",
        "\n",
        "The MNIST set has pre-defined test and training sets, in order to facilitate the comparison of the performance of different models on the data.\n",
        "\n",
        "Once we have loaded the data, we need to format it in the correct shape ($({\\mathrm{N_{samples}}}, {\\mathrm{N_{features}}})$).\n",
        "\n",
        "The size of each sample, i.e. the number of bare features used is N_features (whis is 784 because we have a $28 \\times 28$ pixel grid), while the number of potential classification categories is \"num_classes\" (which is 10, number of digits).\n",
        "\n",
        "Each pixel\n",
        "contains a greyscale value quantified by an integer between\n",
        "0 and 255. To standardize the dataset, we normalize\n",
        "the input data in the interval [0, 1]."
      ]
    },
    {
      "cell_type": "code",
      "execution_count": null,
      "metadata": {
        "colab": {
          "base_uri": "https://localhost:8080/"
        },
        "id": "v2CdBpROwZ4a",
        "outputId": "078cdc67-d85e-407d-9c82-d2cf2df2e4f9"
      },
      "outputs": [
        {
          "output_type": "stream",
          "name": "stdout",
          "text": [
            "Looking in indexes: https://pypi.org/simple, https://us-python.pkg.dev/colab-wheels/public/simple/\n",
            "Requirement already satisfied: tensorflow in /usr/local/lib/python3.8/dist-packages (2.9.2)\n",
            "Requirement already satisfied: six>=1.12.0 in /usr/local/lib/python3.8/dist-packages (from tensorflow) (1.15.0)\n",
            "Requirement already satisfied: termcolor>=1.1.0 in /usr/local/lib/python3.8/dist-packages (from tensorflow) (2.1.1)\n",
            "Requirement already satisfied: astunparse>=1.6.0 in /usr/local/lib/python3.8/dist-packages (from tensorflow) (1.6.3)\n",
            "Requirement already satisfied: keras<2.10.0,>=2.9.0rc0 in /usr/local/lib/python3.8/dist-packages (from tensorflow) (2.9.0)\n",
            "Requirement already satisfied: google-pasta>=0.1.1 in /usr/local/lib/python3.8/dist-packages (from tensorflow) (0.2.0)\n",
            "Requirement already satisfied: typing-extensions>=3.6.6 in /usr/local/lib/python3.8/dist-packages (from tensorflow) (4.4.0)\n",
            "Requirement already satisfied: protobuf<3.20,>=3.9.2 in /usr/local/lib/python3.8/dist-packages (from tensorflow) (3.19.6)\n",
            "Requirement already satisfied: tensorflow-io-gcs-filesystem>=0.23.1 in /usr/local/lib/python3.8/dist-packages (from tensorflow) (0.28.0)\n",
            "Requirement already satisfied: tensorflow-estimator<2.10.0,>=2.9.0rc0 in /usr/local/lib/python3.8/dist-packages (from tensorflow) (2.9.0)\n",
            "Requirement already satisfied: wrapt>=1.11.0 in /usr/local/lib/python3.8/dist-packages (from tensorflow) (1.14.1)\n",
            "Requirement already satisfied: numpy>=1.20 in /usr/local/lib/python3.8/dist-packages (from tensorflow) (1.21.6)\n",
            "Requirement already satisfied: absl-py>=1.0.0 in /usr/local/lib/python3.8/dist-packages (from tensorflow) (1.3.0)\n",
            "Requirement already satisfied: gast<=0.4.0,>=0.2.1 in /usr/local/lib/python3.8/dist-packages (from tensorflow) (0.4.0)\n",
            "Requirement already satisfied: grpcio<2.0,>=1.24.3 in /usr/local/lib/python3.8/dist-packages (from tensorflow) (1.51.1)\n",
            "Requirement already satisfied: libclang>=13.0.0 in /usr/local/lib/python3.8/dist-packages (from tensorflow) (14.0.6)\n",
            "Requirement already satisfied: setuptools in /usr/local/lib/python3.8/dist-packages (from tensorflow) (57.4.0)\n",
            "Requirement already satisfied: packaging in /usr/local/lib/python3.8/dist-packages (from tensorflow) (21.3)\n",
            "Requirement already satisfied: tensorboard<2.10,>=2.9 in /usr/local/lib/python3.8/dist-packages (from tensorflow) (2.9.1)\n",
            "Requirement already satisfied: h5py>=2.9.0 in /usr/local/lib/python3.8/dist-packages (from tensorflow) (3.1.0)\n",
            "Requirement already satisfied: flatbuffers<2,>=1.12 in /usr/local/lib/python3.8/dist-packages (from tensorflow) (1.12)\n",
            "Requirement already satisfied: keras-preprocessing>=1.1.1 in /usr/local/lib/python3.8/dist-packages (from tensorflow) (1.1.2)\n",
            "Requirement already satisfied: opt-einsum>=2.3.2 in /usr/local/lib/python3.8/dist-packages (from tensorflow) (3.3.0)\n",
            "Requirement already satisfied: wheel<1.0,>=0.23.0 in /usr/local/lib/python3.8/dist-packages (from astunparse>=1.6.0->tensorflow) (0.38.4)\n",
            "Requirement already satisfied: tensorboard-plugin-wit>=1.6.0 in /usr/local/lib/python3.8/dist-packages (from tensorboard<2.10,>=2.9->tensorflow) (1.8.1)\n",
            "Requirement already satisfied: google-auth<3,>=1.6.3 in /usr/local/lib/python3.8/dist-packages (from tensorboard<2.10,>=2.9->tensorflow) (2.15.0)\n",
            "Requirement already satisfied: google-auth-oauthlib<0.5,>=0.4.1 in /usr/local/lib/python3.8/dist-packages (from tensorboard<2.10,>=2.9->tensorflow) (0.4.6)\n",
            "Requirement already satisfied: requests<3,>=2.21.0 in /usr/local/lib/python3.8/dist-packages (from tensorboard<2.10,>=2.9->tensorflow) (2.23.0)\n",
            "Requirement already satisfied: tensorboard-data-server<0.7.0,>=0.6.0 in /usr/local/lib/python3.8/dist-packages (from tensorboard<2.10,>=2.9->tensorflow) (0.6.1)\n",
            "Requirement already satisfied: markdown>=2.6.8 in /usr/local/lib/python3.8/dist-packages (from tensorboard<2.10,>=2.9->tensorflow) (3.4.1)\n",
            "Requirement already satisfied: werkzeug>=1.0.1 in /usr/local/lib/python3.8/dist-packages (from tensorboard<2.10,>=2.9->tensorflow) (1.0.1)\n",
            "Requirement already satisfied: rsa<5,>=3.1.4 in /usr/local/lib/python3.8/dist-packages (from google-auth<3,>=1.6.3->tensorboard<2.10,>=2.9->tensorflow) (4.9)\n",
            "Requirement already satisfied: cachetools<6.0,>=2.0.0 in /usr/local/lib/python3.8/dist-packages (from google-auth<3,>=1.6.3->tensorboard<2.10,>=2.9->tensorflow) (5.2.0)\n",
            "Requirement already satisfied: pyasn1-modules>=0.2.1 in /usr/local/lib/python3.8/dist-packages (from google-auth<3,>=1.6.3->tensorboard<2.10,>=2.9->tensorflow) (0.2.8)\n",
            "Requirement already satisfied: requests-oauthlib>=0.7.0 in /usr/local/lib/python3.8/dist-packages (from google-auth-oauthlib<0.5,>=0.4.1->tensorboard<2.10,>=2.9->tensorflow) (1.3.1)\n",
            "Requirement already satisfied: importlib-metadata>=4.4 in /usr/local/lib/python3.8/dist-packages (from markdown>=2.6.8->tensorboard<2.10,>=2.9->tensorflow) (4.13.0)\n",
            "Requirement already satisfied: zipp>=0.5 in /usr/local/lib/python3.8/dist-packages (from importlib-metadata>=4.4->markdown>=2.6.8->tensorboard<2.10,>=2.9->tensorflow) (3.11.0)\n",
            "Requirement already satisfied: pyasn1<0.5.0,>=0.4.6 in /usr/local/lib/python3.8/dist-packages (from pyasn1-modules>=0.2.1->google-auth<3,>=1.6.3->tensorboard<2.10,>=2.9->tensorflow) (0.4.8)\n",
            "Requirement already satisfied: idna<3,>=2.5 in /usr/local/lib/python3.8/dist-packages (from requests<3,>=2.21.0->tensorboard<2.10,>=2.9->tensorflow) (2.10)\n",
            "Requirement already satisfied: urllib3!=1.25.0,!=1.25.1,<1.26,>=1.21.1 in /usr/local/lib/python3.8/dist-packages (from requests<3,>=2.21.0->tensorboard<2.10,>=2.9->tensorflow) (1.24.3)\n",
            "Requirement already satisfied: certifi>=2017.4.17 in /usr/local/lib/python3.8/dist-packages (from requests<3,>=2.21.0->tensorboard<2.10,>=2.9->tensorflow) (2022.9.24)\n",
            "Requirement already satisfied: chardet<4,>=3.0.2 in /usr/local/lib/python3.8/dist-packages (from requests<3,>=2.21.0->tensorboard<2.10,>=2.9->tensorflow) (3.0.4)\n",
            "Requirement already satisfied: oauthlib>=3.0.0 in /usr/local/lib/python3.8/dist-packages (from requests-oauthlib>=0.7.0->google-auth-oauthlib<0.5,>=0.4.1->tensorboard<2.10,>=2.9->tensorflow) (3.2.2)\n",
            "Requirement already satisfied: pyparsing!=3.0.5,>=2.0.2 in /usr/local/lib/python3.8/dist-packages (from packaging->tensorflow) (3.0.9)\n",
            "Looking in indexes: https://pypi.org/simple, https://us-python.pkg.dev/colab-wheels/public/simple/\n",
            "Requirement already satisfied: keras in /usr/local/lib/python3.8/dist-packages (2.9.0)\n",
            "Looking in indexes: https://pypi.org/simple, https://us-python.pkg.dev/colab-wheels/public/simple/\n",
            "Requirement already satisfied: scikit-learn in /usr/local/lib/python3.8/dist-packages (1.0.2)\n",
            "Requirement already satisfied: threadpoolctl>=2.0.0 in /usr/local/lib/python3.8/dist-packages (from scikit-learn) (3.1.0)\n",
            "Requirement already satisfied: scipy>=1.1.0 in /usr/local/lib/python3.8/dist-packages (from scikit-learn) (1.7.3)\n",
            "Requirement already satisfied: numpy>=1.14.6 in /usr/local/lib/python3.8/dist-packages (from scikit-learn) (1.21.6)\n",
            "Requirement already satisfied: joblib>=0.11 in /usr/local/lib/python3.8/dist-packages (from scikit-learn) (1.2.0)\n"
          ]
        }
      ],
      "source": [
        "!pip3 install tensorflow\n",
        "!pip3 install keras\n",
        "!pip3 install scikit-learn"
      ]
    },
    {
      "cell_type": "code",
      "execution_count": null,
      "metadata": {
        "colab": {
          "base_uri": "https://localhost:8080/"
        },
        "id": "GUqLWSh9wZ4b",
        "outputId": "eaeef599-6041-4797-992d-4b589cfd751a"
      },
      "outputs": [
        {
          "output_type": "stream",
          "name": "stdout",
          "text": [
            "Downloading data from https://storage.googleapis.com/tensorflow/tf-keras-datasets/mnist.npz\n",
            "11490434/11490434 [==============================] - 0s 0us/step\n"
          ]
        }
      ],
      "source": [
        "from __future__ import print_function\n",
        "import keras,sklearn\n",
        "# suppress tensorflow compilation warnings\n",
        "import os\n",
        "import tensorflow as tf\n",
        "os.environ['TF_CPP_MIN_LOG_LEVEL'] = '2'\n",
        "seed=0\n",
        "np.random.seed(seed) # fix random seed\n",
        "tf.random.set_seed(seed)\n",
        "\n",
        "from keras.datasets import mnist\n",
        "\n",
        "# input image dimensions\n",
        "num_classes = 10 # 10 digits\n",
        "\n",
        "img_rows, img_cols = 28, 28 # number of pixels\n",
        "\n",
        "# the data, shuffled and split between train and test sets\n",
        "(X_train, Y_train), (X_test, Y_test) = mnist.load_data()\n",
        "X_train = X_train[:40000]\n",
        "Y_train = Y_train[:40000]\n",
        "\n",
        "# reshape data, depending on Keras backend\n",
        "X_train = X_train.reshape(X_train.shape[0], img_rows*img_cols)\n",
        "X_test = X_test.reshape(X_test.shape[0], img_rows*img_cols)\n",
        "\n",
        "# cast floats to single precesion\n",
        "X_train = X_train.astype('float32')\n",
        "X_test = X_test.astype('float32')\n",
        "\n",
        "# rescale data in interval [0,1]\n",
        "X_train /= 255\n",
        "X_test /= 255\n"
      ]
    },
    {
      "cell_type": "markdown",
      "metadata": {
        "id": "vqC_wEHrwZ4b"
      },
      "source": [
        "<span style=\"color:blue\"> <i> 1. Make a plot of one MNIST digit (2D plot using X data - make sure to reshape it into a $28 \\times 28$ matrix) and label it (which digit does it correspond to?). </i></span> <br>"
      ]
    },
    {
      "cell_type": "code",
      "execution_count": null,
      "metadata": {
        "id": "TK8UDzyBwZ4c",
        "colab": {
          "base_uri": "https://localhost:8080/",
          "height": 281
        },
        "outputId": "9aa5d869-bc9a-4a90-cd5b-09a9598af99d"
      },
      "outputs": [
        {
          "output_type": "display_data",
          "data": {
            "text/plain": [
              "<Figure size 432x288 with 1 Axes>"
            ],
            "image/png": "[encoded data removed]"
          },
          "metadata": {
            "needs_background": "light"
          }
        }
      ],
      "source": [
        "plt.figure()\n",
        "plt.imshow(X_train[1].reshape((28,28)))\n",
        "plt.title('Digit is ' + str(Y_train[1]))\n",
        "plt.show()"
      ]
    },
    {
      "cell_type": "markdown",
      "metadata": {
        "id": "32LVJuKnwZ4c"
      },
      "source": [
        "Last, we cast the label vectors $y$ to binary class matrices (a.k.a. one-hot format)."
      ]
    },
    {
      "cell_type": "code",
      "execution_count": null,
      "metadata": {
        "id": "4RN3n75HwZ4c",
        "colab": {
          "base_uri": "https://localhost:8080/"
        },
        "outputId": "4ffc6248-24cf-4912-dcf2-b6dd41d630ae"
      },
      "outputs": [
        {
          "output_type": "stream",
          "name": "stdout",
          "text": [
            "before conversion - \n",
            "y vector :  [5 0 4 1 9 2 1 3 1 4]\n",
            "after conversion - \n",
            "y vector :  [[0. 0. 0. 0. 0. 1. 0. 0. 0. 0.]\n",
            " [1. 0. 0. 0. 0. 0. 0. 0. 0. 0.]\n",
            " [0. 0. 0. 0. 1. 0. 0. 0. 0. 0.]\n",
            " [0. 1. 0. 0. 0. 0. 0. 0. 0. 0.]\n",
            " [0. 0. 0. 0. 0. 0. 0. 0. 0. 1.]\n",
            " [0. 0. 1. 0. 0. 0. 0. 0. 0. 0.]\n",
            " [0. 1. 0. 0. 0. 0. 0. 0. 0. 0.]\n",
            " [0. 0. 0. 1. 0. 0. 0. 0. 0. 0.]\n",
            " [0. 1. 0. 0. 0. 0. 0. 0. 0. 0.]\n",
            " [0. 0. 0. 0. 1. 0. 0. 0. 0. 0.]]\n"
          ]
        }
      ],
      "source": [
        "# convert class vectors to binary class matrices\n",
        "\n",
        "print(\"before conversion - \")\n",
        "print(\"y vector : \", Y_train[0:10])\n",
        "\n",
        "Y_train = keras.utils.to_categorical(Y_train, num_classes)\n",
        "Y_test = keras.utils.to_categorical(Y_test, num_classes)\n",
        "\n",
        "print(\"after conversion - \")\n",
        "print(\"y vector : \", Y_train[0:10])"
      ]
    },
    {
      "cell_type": "markdown",
      "metadata": {
        "id": "22tNt1gWwZ4c"
      },
      "source": [
        "Here in this template, we use 40000 training samples and 10000 test samples. Remember that we preprocessed data into the shape $({\\mathrm{N_{samples}}}, {\\mathrm{N_{features}}})$."
      ]
    },
    {
      "cell_type": "code",
      "execution_count": null,
      "metadata": {
        "id": "UQivIju4wZ4d",
        "colab": {
          "base_uri": "https://localhost:8080/"
        },
        "outputId": "9f551320-3715-4015-dc5f-d9a664912969"
      },
      "outputs": [
        {
          "output_type": "stream",
          "name": "stdout",
          "text": [
            "X_train shape: (40000, 784)\n",
            "Y_train shape: (40000, 10)\n",
            "\n",
            "40000 train samples\n",
            "10000 test samples\n"
          ]
        }
      ],
      "source": [
        "print('X_train shape:', X_train.shape)\n",
        "print('Y_train shape:', Y_train.shape)\n",
        "print()\n",
        "print(X_train.shape[0], 'train samples')\n",
        "print(X_test.shape[0], 'test samples')"
      ]
    },
    {
      "cell_type": "markdown",
      "metadata": {
        "id": "wb_iPVCFwZ4d"
      },
      "source": [
        "### Step 2: Define the Neural Net and its Architecture\n",
        "\n",
        "We can now move on to construct our deep neural net. We shall use Keras's `Sequential()` class to instantiate a model, and will add different deep layers one by one.\n",
        "\n",
        "Let us create an instance of Keras' `Sequential()` class, called `model`. As the name suggests, this class allows us to build DNNs layer by layer. (https://keras.io/getting-started/sequential-model-guide/)"
      ]
    },
    {
      "cell_type": "code",
      "execution_count": null,
      "metadata": {
        "id": "1PAU4BbswZ4d"
      },
      "outputs": [],
      "source": [
        "from keras.models import Sequential\n",
        "from keras.layers import Dense, Dropout, Flatten\n",
        "from keras.layers import Conv2D, MaxPooling2D\n",
        "\n",
        "# instantiate model\n",
        "model = Sequential()"
      ]
    },
    {
      "cell_type": "markdown",
      "metadata": {
        "id": "b3v1LN1-wZ4e"
      },
      "source": [
        "We use the `add()` method to attach layers to our model. For the purposes of our introductory example, it suffices to focus on `Dense` layers for simplicity. (https://keras.io/layers/core/) Every `Dense()` layer accepts as its first required argument an integer which specifies the number of neurons. The type of activation function for the layer is defined using the `activation` optional argument, the input of which is the name of the activation function in `string` format. Examples include `relu`, `tanh`, `elu`, `sigmoid`, `softmax`.\n",
        "\n",
        "In order for our DNN to work properly, we have to make sure that the numbers of input and output neurons for each layer match. Therefore, we specify the shape of the input in the first layer of the model explicitly using the optional argument `input_shape=(N_features,)`. The sequential construction of the model then allows Keras to infer the correct input/output dimensions of all hidden layers automatically. Hence, we only need to specify the size of the softmax output layer to match the number of categories.\n",
        "\n",
        "First, add a `Dense` layer with 400 output neurons and `relu` activation function."
      ]
    },
    {
      "cell_type": "code",
      "execution_count": null,
      "metadata": {
        "id": "ZCOatSmnwZ4e"
      },
      "outputs": [],
      "source": [
        "model.add(Dense(400,input_shape=(img_rows*img_cols,), activation='relu'))"
      ]
    },
    {
      "cell_type": "markdown",
      "metadata": {
        "id": "EovzVuQcwZ4e"
      },
      "source": [
        "Add another layer with 100 output neurons. Then, we will apply \"dropout,\" a regularization scheme that has been widely adopted in the neural networks literature: during the training procedure neurons\n",
        "are randomly “dropped out” of the neural network with some\n",
        "probability $p$ giving rise to a thinned network. It prevents overfitting by reducing spurious correlations between neurons within the network by introducing\n",
        "a randomization procedure."
      ]
    },
    {
      "cell_type": "code",
      "execution_count": null,
      "metadata": {
        "id": "A8lcxf9iwZ4f"
      },
      "outputs": [],
      "source": [
        "model.add(Dense(100, activation='relu'))\n",
        "# apply dropout with rate 0.5\n",
        "model.add(Dropout(0.5))"
      ]
    },
    {
      "cell_type": "markdown",
      "metadata": {
        "id": "bf8SSj_-wZ4f"
      },
      "source": [
        "Lastly, we need to add a soft-max layer since we have a multi-class output."
      ]
    },
    {
      "cell_type": "code",
      "execution_count": null,
      "metadata": {
        "id": "AuZmhtvxwZ4f"
      },
      "outputs": [],
      "source": [
        "model.add(Dense(num_classes, activation='softmax'))"
      ]
    },
    {
      "cell_type": "markdown",
      "metadata": {
        "id": "Uq1f-BT-wZ4f"
      },
      "source": [
        "### Step 3: Choose the Optimizer and the Cost Function\n",
        "\n",
        "Next, we choose the loss function according to which to train the DNN. For classification problems, this is the cross entropy, and since the output data was cast in categorical form, we choose the `categorical_crossentropy` defined in Keras' `losses` module. Depending on the problem of interest one can pick any other suitable loss function. To optimize the weights of the net, we choose SGD. This algorithm is already available to use under Keras' `optimizers` module (https://keras.io/optimizers/), but we could use `Adam()` or any other built-in one as well. The parameters for the optimizer, such as `lr` (learning rate) or `momentum` are passed using the corresponding optional arguments of the `SGD()` function.\n",
        "\n",
        "While the loss function and the optimizer are essential for the training procedure, to test the performance of the model one may want to look at a particular `metric` of performance. For instance, in categorical tasks one typically looks at their `accuracy`, which is defined as the percentage of correctly classified data points.\n",
        "\n",
        "To complete the definition of our model, we use the `compile()` method, with optional arguments for the `optimizer`, `loss`, and the validation `metric` as follows:"
      ]
    },
    {
      "cell_type": "code",
      "execution_count": null,
      "metadata": {
        "id": "KM8XjCNZwZ4g"
      },
      "outputs": [],
      "source": [
        "# compile the model\n",
        "model.compile(loss=keras.losses.categorical_crossentropy, optimizer='SGD', metrics=['accuracy'])\n"
      ]
    },
    {
      "cell_type": "markdown",
      "metadata": {
        "id": "zzSCn5TmwZ4g"
      },
      "source": [
        "### Step 4: Train the model\n",
        "\n",
        "We train our DNN in minibatches. Shuffling the training data during training improves stability of the model. Thus, we train over a number of training epochs.\n",
        "\n",
        "(The number of epochs is the number of complete passes through the training dataset, and the batch size is a number of samples propagated through the network before the model is updated.)\n",
        "\n",
        "Training the DNN is a one-liner using the `fit()` method of the `Sequential` class. The first two required arguments are the training input and output data. As optional arguments, we specify the mini-`batch_size`, the number of training `epochs`, and the test or validation data. To monitor the training procedure for every epoch, we set `verbose=True`.\n",
        "\n",
        "Let us set `batch_size` = 64 and `epochs` = 10."
      ]
    },
    {
      "cell_type": "code",
      "execution_count": null,
      "metadata": {
        "id": "1YDTn62DwZ4g",
        "colab": {
          "base_uri": "https://localhost:8080/"
        },
        "outputId": "814bcf34-857a-4027-e64e-e604e9c670a8"
      },
      "outputs": [
        {
          "output_type": "stream",
          "name": "stdout",
          "text": [
            "Epoch 1/10\n",
            "625/625 [==============================] - 7s 11ms/step - loss: 1.1477 - accuracy: 0.6638 - val_loss: 0.4893 - val_accuracy: 0.8880\n",
            "Epoch 2/10\n",
            "625/625 [==============================] - 8s 13ms/step - loss: 0.5630 - accuracy: 0.8399 - val_loss: 0.3485 - val_accuracy: 0.9100\n",
            "Epoch 3/10\n",
            "625/625 [==============================] - 7s 11ms/step - loss: 0.4566 - accuracy: 0.8716 - val_loss: 0.2980 - val_accuracy: 0.9191\n",
            "Epoch 4/10\n",
            "625/625 [==============================] - 7s 12ms/step - loss: 0.3976 - accuracy: 0.8878 - val_loss: 0.2686 - val_accuracy: 0.9269\n",
            "Epoch 5/10\n",
            "625/625 [==============================] - 8s 12ms/step - loss: 0.3659 - accuracy: 0.8982 - val_loss: 0.2474 - val_accuracy: 0.9314\n",
            "Epoch 6/10\n",
            "625/625 [==============================] - 5s 8ms/step - loss: 0.3342 - accuracy: 0.9052 - val_loss: 0.2304 - val_accuracy: 0.9366\n",
            "Epoch 7/10\n",
            "625/625 [==============================] - 4s 7ms/step - loss: 0.3099 - accuracy: 0.9123 - val_loss: 0.2156 - val_accuracy: 0.9392\n",
            "Epoch 8/10\n",
            "625/625 [==============================] - 4s 7ms/step - loss: 0.2943 - accuracy: 0.9175 - val_loss: 0.2029 - val_accuracy: 0.9411\n",
            "Epoch 9/10\n",
            "625/625 [==============================] - 4s 7ms/step - loss: 0.2777 - accuracy: 0.9219 - val_loss: 0.1922 - val_accuracy: 0.9443\n",
            "Epoch 10/10\n",
            "625/625 [==============================] - 4s 7ms/step - loss: 0.2627 - accuracy: 0.9266 - val_loss: 0.1851 - val_accuracy: 0.9456\n"
          ]
        }
      ],
      "source": [
        "# training parameters\n",
        "batch_size = 64\n",
        "epochs = 10\n",
        "\n",
        "# train DNN and store training info in history\n",
        "history=model.fit(X_train, Y_train, batch_size=batch_size, epochs=epochs,\n",
        "          verbose=1, validation_data=(X_test, Y_test))"
      ]
    },
    {
      "cell_type": "markdown",
      "metadata": {
        "id": "Ife_g26JwZ4g"
      },
      "source": [
        "### Step 5: Evaluate the Model Performance on the *Unseen* Test Data\n",
        "\n",
        "Next, we evaluate the model and read of the loss on the test data, and its accuracy using the `evaluate()` method."
      ]
    },
    {
      "cell_type": "code",
      "execution_count": null,
      "metadata": {
        "id": "KeaMgd0IwZ4g",
        "colab": {
          "base_uri": "https://localhost:8080/",
          "height": 593
        },
        "outputId": "85f47413-9d32-4775-c903-69594c331990"
      },
      "outputs": [
        {
          "output_type": "stream",
          "name": "stdout",
          "text": [
            "313/313 [==============================] - 2s 5ms/step - loss: 0.1851 - accuracy: 0.9456\n",
            "Test loss: 0.18514470756053925\n",
            "Test accuracy: 0.9455999732017517\n"
          ]
        },
        {
          "output_type": "display_data",
          "data": {
            "text/plain": [
              "<Figure size 432x288 with 1 Axes>"
            ],
            "image/png": "[encoded data removed]"
          },
          "metadata": {
            "needs_background": "light"
          }
        },
        {
          "output_type": "display_data",
          "data": {
            "text/plain": [
              "<Figure size 432x288 with 1 Axes>"
            ],
            "image/png": "[encoded data removed]"
          },
          "metadata": {
            "needs_background": "light"
          }
        }
      ],
      "source": [
        "# evaluate model\n",
        "score = model.evaluate(X_test, Y_test, verbose=1)\n",
        "\n",
        "# print performance\n",
        "print('Test loss:', score[0])\n",
        "print('Test accuracy:', score[1])\n",
        "\n",
        "# look into training history\n",
        "\n",
        "# summarize history for accuracy\n",
        "plt.plot(history.history['accuracy'])\n",
        "plt.plot(history.history['val_accuracy'])\n",
        "plt.ylabel('model accuracy')\n",
        "plt.xlabel('epoch')\n",
        "plt.legend(['train', 'test'], loc='best')\n",
        "plt.show()\n",
        "\n",
        "# summarize history for loss\n",
        "plt.plot(history.history['loss'])\n",
        "plt.plot(history.history['val_loss'])\n",
        "plt.ylabel('model loss')\n",
        "plt.xlabel('epoch')\n",
        "plt.legend(['train', 'test'], loc='best')\n",
        "plt.show()"
      ]
    },
    {
      "cell_type": "markdown",
      "metadata": {
        "id": "C3bs-gNmwZ4g"
      },
      "source": [
        "### Step 6: Modify the Hyperparameters to Optimize Performance of the Model\n",
        "\n",
        "Last, we show how to use the grid search option of scikit-learn (https://scikit-learn.org/stable/modules/generated/sklearn.model_selection.GridSearchCV.html) to optimize the\n",
        "hyperparameters of our model.\n",
        "\n",
        "First, define a function for crating a DNN:"
      ]
    },
    {
      "cell_type": "code",
      "execution_count": null,
      "metadata": {
        "id": "5EpKqdkOwZ4h"
      },
      "outputs": [],
      "source": [
        "def create_DNN(optimizer=keras.optimizers.Adam()):\n",
        "    model = Sequential()\n",
        "    model.add(Dense(400,input_shape=(img_rows*img_cols,), activation='relu'))\n",
        "    model.add(Dense(100, activation='relu'))\n",
        "    model.add(Dropout(0.5))\n",
        "    model.add(Dense(num_classes, activation='softmax'))\n",
        "    model.compile(loss=keras.losses.categorical_crossentropy,\n",
        "              optimizer=optimizer,\n",
        "              metrics=['accuracy'])\n",
        "    return model"
      ]
    },
    {
      "cell_type": "markdown",
      "metadata": {
        "id": "DmWhg0xfwZ4h"
      },
      "source": [
        "With epochs = 1 and batch_size = 64, do grid search over the following optimization schemes: ['SGD', 'RMSprop', 'Adagrad', 'Adadelta', 'Adam', 'Adamax', 'Nadam']."
      ]
    },
    {
      "cell_type": "code",
      "execution_count": null,
      "metadata": {
        "scrolled": false,
        "id": "ZHRIRoLSwZ4h",
        "colab": {
          "base_uri": "https://localhost:8080/"
        },
        "outputId": "5ad49b0b-ef9f-4d09-f85a-def46adade71"
      },
      "outputs": [
        {
          "output_type": "stream",
          "name": "stdout",
          "text": [
            "469/469 [==============================] - 3s 6ms/step - loss: 1.3908 - accuracy: 0.5760\n",
            "157/157 [==============================] - 1s 4ms/step - loss: 0.6689 - accuracy: 0.8483\n",
            "469/469 [==============================] - 3s 6ms/step - loss: 1.3144 - accuracy: 0.6101\n",
            "157/157 [==============================] - 1s 4ms/step - loss: 0.6458 - accuracy: 0.8487\n",
            "469/469 [==============================] - 3s 6ms/step - loss: 1.3244 - accuracy: 0.5909\n",
            "157/157 [==============================] - 1s 3ms/step - loss: 0.6539 - accuracy: 0.8405\n",
            "469/469 [==============================] - 3s 6ms/step - loss: 1.3323 - accuracy: 0.6008\n",
            "157/157 [==============================] - 1s 4ms/step - loss: 0.6726 - accuracy: 0.8507\n",
            "469/469 [==============================] - 4s 8ms/step - loss: 0.4205 - accuracy: 0.8731\n",
            "157/157 [==============================] - 1s 3ms/step - loss: 0.1870 - accuracy: 0.9436\n",
            "469/469 [==============================] - 4s 8ms/step - loss: 0.4174 - accuracy: 0.8757\n",
            "157/157 [==============================] - 1s 4ms/step - loss: 0.1828 - accuracy: 0.9432\n",
            "469/469 [==============================] - 4s 8ms/step - loss: 0.4063 - accuracy: 0.8797\n",
            "157/157 [==============================] - 1s 3ms/step - loss: 0.1705 - accuracy: 0.9505\n",
            "469/469 [==============================] - 5s 8ms/step - loss: 0.4087 - accuracy: 0.8782\n",
            "157/157 [==============================] - 1s 4ms/step - loss: 0.1925 - accuracy: 0.9426\n",
            "469/469 [==============================] - 3s 6ms/step - loss: 1.9618 - accuracy: 0.3478\n",
            "157/157 [==============================] - 1s 3ms/step - loss: 1.4910 - accuracy: 0.7322\n",
            "469/469 [==============================] - 4s 7ms/step - loss: 1.9624 - accuracy: 0.3726\n",
            "157/157 [==============================] - 1s 7ms/step - loss: 1.5295 - accuracy: 0.7126\n",
            "469/469 [==============================] - 3s 6ms/step - loss: 1.9490 - accuracy: 0.3761\n",
            "157/157 [==============================] - 1s 3ms/step - loss: 1.5152 - accuracy: 0.7433\n",
            "469/469 [==============================] - 3s 6ms/step - loss: 1.9233 - accuracy: 0.3973\n",
            "157/157 [==============================] - 1s 3ms/step - loss: 1.4849 - accuracy: 0.7226\n",
            "469/469 [==============================] - 4s 7ms/step - loss: 2.4075 - accuracy: 0.0933\n",
            "157/157 [==============================] - 1s 4ms/step - loss: 2.3182 - accuracy: 0.0944\n",
            "469/469 [==============================] - 4s 7ms/step - loss: 2.3139 - accuracy: 0.1135\n",
            "157/157 [==============================] - 1s 4ms/step - loss: 2.2378 - accuracy: 0.1499\n",
            "469/469 [==============================] - 4s 7ms/step - loss: 2.3673 - accuracy: 0.1114\n",
            "157/157 [==============================] - 1s 4ms/step - loss: 2.2632 - accuracy: 0.1337\n",
            "469/469 [==============================] - 4s 7ms/step - loss: 2.3771 - accuracy: 0.1043\n",
            "157/157 [==============================] - 1s 6ms/step - loss: 2.2989 - accuracy: 0.1347\n",
            "469/469 [==============================] - 4s 7ms/step - loss: 0.4618 - accuracy: 0.8600\n",
            "157/157 [==============================] - 1s 3ms/step - loss: 0.1757 - accuracy: 0.9486\n",
            "469/469 [==============================] - 4s 7ms/step - loss: 0.4527 - accuracy: 0.8666\n",
            "157/157 [==============================] - 1s 4ms/step - loss: 0.1755 - accuracy: 0.9469\n",
            "469/469 [==============================] - 4s 7ms/step - loss: 0.4305 - accuracy: 0.8725\n",
            "157/157 [==============================] - 1s 4ms/step - loss: 0.1757 - accuracy: 0.9474\n",
            "469/469 [==============================] - 4s 7ms/step - loss: 0.4299 - accuracy: 0.8724\n",
            "157/157 [==============================] - 1s 3ms/step - loss: 0.1754 - accuracy: 0.9455\n",
            "469/469 [==============================] - 4s 7ms/step - loss: 0.5973 - accuracy: 0.8221\n",
            "157/157 [==============================] - 1s 4ms/step - loss: 0.2561 - accuracy: 0.9276\n",
            "469/469 [==============================] - 4s 7ms/step - loss: 0.5805 - accuracy: 0.8323\n",
            "157/157 [==============================] - 1s 4ms/step - loss: 0.2703 - accuracy: 0.9224\n",
            "469/469 [==============================] - 4s 7ms/step - loss: 0.6175 - accuracy: 0.8203\n",
            "157/157 [==============================] - 1s 3ms/step - loss: 0.2670 - accuracy: 0.9235\n",
            "469/469 [==============================] - 4s 7ms/step - loss: 0.5922 - accuracy: 0.8277\n",
            "157/157 [==============================] - 1s 4ms/step - loss: 0.2774 - accuracy: 0.9203\n",
            "469/469 [==============================] - 5s 10ms/step - loss: 0.4223 - accuracy: 0.8764\n",
            "157/157 [==============================] - 1s 3ms/step - loss: 0.1756 - accuracy: 0.9478\n",
            "469/469 [==============================] - 5s 10ms/step - loss: 0.4182 - accuracy: 0.8768\n",
            "157/157 [==============================] - 1s 4ms/step - loss: 0.1671 - accuracy: 0.9489\n",
            "469/469 [==============================] - 5s 10ms/step - loss: 0.4375 - accuracy: 0.8722\n",
            "157/157 [==============================] - 1s 3ms/step - loss: 0.1669 - accuracy: 0.9507\n",
            "469/469 [==============================] - 5s 10ms/step - loss: 0.4162 - accuracy: 0.8738\n",
            "157/157 [==============================] - 1s 3ms/step - loss: 0.1792 - accuracy: 0.9458\n",
            "625/625 [==============================] - 7s 10ms/step - loss: 0.3743 - accuracy: 0.8906\n"
          ]
        }
      ],
      "source": [
        "from sklearn.model_selection import GridSearchCV\n",
        "from keras.wrappers.scikit_learn import KerasClassifier\n",
        "\n",
        "batch_size = 64\n",
        "epochs = 1\n",
        "model_gridsearch = KerasClassifier(build_fn=create_DNN,\n",
        "                        epochs=epochs, batch_size=batch_size, verbose=1)\n",
        "\n",
        "# list of allowed optional arguments for the optimizer, see `compile_model()`\n",
        "optimizer = ['SGD', 'RMSprop', 'Adagrad', 'Adadelta', 'Adam', 'Adamax', 'Nadam']\n",
        "# define parameter dictionary\n",
        "param_grid = dict(optimizer=optimizer)\n",
        "\n",
        "# call scikit grid search module\n",
        "grid = GridSearchCV(estimator=model_gridsearch, param_grid=param_grid, n_jobs=1, cv=4)\n",
        "grid_result = grid.fit(X_train,Y_train)"
      ]
    },
    {
      "cell_type": "markdown",
      "metadata": {
        "id": "hYpfwN93wZ4h"
      },
      "source": [
        "Show the mean test score of all optimization schemes and determine which scheme gives the best accuracy."
      ]
    },
    {
      "cell_type": "code",
      "execution_count": null,
      "metadata": {
        "id": "crncIY5vwZ4h",
        "colab": {
          "base_uri": "https://localhost:8080/"
        },
        "outputId": "02970cc1-2a84-496c-e2cb-a461f1c98c74"
      },
      "outputs": [
        {
          "output_type": "stream",
          "name": "stdout",
          "text": [
            "Best: 0.948300 using {'optimizer': 'Nadam'}\n",
            "0.847050 (0.003889) with: {'optimizer': 'SGD'}\n",
            "0.944975 (0.003210) with: {'optimizer': 'RMSprop'}\n",
            "0.727675 (0.011376) with: {'optimizer': 'Adagrad'}\n",
            "0.128175 (0.020529) with: {'optimizer': 'Adadelta'}\n",
            "0.947100 (0.001111) with: {'optimizer': 'Adam'}\n",
            "0.923450 (0.002658) with: {'optimizer': 'Adamax'}\n",
            "0.948300 (0.001776) with: {'optimizer': 'Nadam'}\n"
          ]
        }
      ],
      "source": [
        "# summarize results\n",
        "print(\"Best: %f using %s\" % (grid_result.best_score_, grid_result.best_params_))\n",
        "means = grid_result.cv_results_['mean_test_score']\n",
        "stds = grid_result.cv_results_['std_test_score']\n",
        "params = grid_result.cv_results_['params']\n",
        "for mean, stdev, param in zip(means, stds, params):\n",
        "    print(\"%f (%f) with: %r\" % (mean, stdev, param))"
      ]
    },
    {
      "cell_type": "markdown",
      "metadata": {
        "id": "60wjNnY9wZ4h"
      },
      "source": [
        "<span style=\"color:blue\"> <i> 2. Create a DNN with one Dense layer having 200 output neurons. Do the grid search over any 5 different activation functions from https://keras.io/activations/. Let epochs = 1, batches = 64, p_dropout=0.5, and optimizer=keras.optimizers.Adam().  Make sure to print the mean test score of each case and determine which activation functions gives the best accuracy. </i></span> <br>\n"
      ]
    },
    {
      "cell_type": "code",
      "execution_count": null,
      "metadata": {
        "id": "oYHd5FE1wZ4i",
        "colab": {
          "base_uri": "https://localhost:8080/"
        },
        "outputId": "101706a6-473d-4f27-de9a-0fce9928262c"
      },
      "outputs": [
        {
          "output_type": "stream",
          "name": "stdout",
          "text": [
            "469/469 [==============================] - 4s 8ms/step - loss: 0.4804 - accuracy: 0.8577\n",
            "157/157 [==============================] - 1s 3ms/step - loss: 0.1978 - accuracy: 0.9415\n",
            "469/469 [==============================] - 3s 5ms/step - loss: 0.4781 - accuracy: 0.8574\n",
            "157/157 [==============================] - 1s 3ms/step - loss: 0.1937 - accuracy: 0.9419\n",
            "469/469 [==============================] - 3s 5ms/step - loss: 0.4886 - accuracy: 0.8548\n",
            "157/157 [==============================] - 1s 3ms/step - loss: 0.2045 - accuracy: 0.9385\n",
            "469/469 [==============================] - 3s 5ms/step - loss: 0.4736 - accuracy: 0.8593\n",
            "157/157 [==============================] - 1s 3ms/step - loss: 0.2044 - accuracy: 0.9382\n",
            "469/469 [==============================] - 3s 5ms/step - loss: 0.9865 - accuracy: 0.6989\n",
            "157/157 [==============================] - 1s 3ms/step - loss: 0.3678 - accuracy: 0.8997\n",
            "469/469 [==============================] - 3s 5ms/step - loss: 0.9878 - accuracy: 0.6992\n",
            "157/157 [==============================] - 1s 3ms/step - loss: 0.3884 - accuracy: 0.8943\n",
            "469/469 [==============================] - 3s 5ms/step - loss: 0.9928 - accuracy: 0.7004\n",
            "157/157 [==============================] - 1s 4ms/step - loss: 0.3801 - accuracy: 0.8976\n",
            "469/469 [==============================] - 5s 9ms/step - loss: 0.9694 - accuracy: 0.7036\n",
            "157/157 [==============================] - 1s 5ms/step - loss: 0.3816 - accuracy: 0.8959\n",
            "469/469 [==============================] - 5s 9ms/step - loss: 0.4673 - accuracy: 0.8591\n",
            "157/157 [==============================] - 1s 4ms/step - loss: 0.2642 - accuracy: 0.9225\n",
            "469/469 [==============================] - 5s 9ms/step - loss: 0.4577 - accuracy: 0.8616\n",
            "157/157 [==============================] - 1s 6ms/step - loss: 0.2726 - accuracy: 0.9201\n",
            "469/469 [==============================] - 5s 9ms/step - loss: 0.4592 - accuracy: 0.8601\n",
            "157/157 [==============================] - 1s 5ms/step - loss: 0.2685 - accuracy: 0.9212\n",
            "469/469 [==============================] - 5s 8ms/step - loss: 0.4618 - accuracy: 0.8618\n",
            "157/157 [==============================] - 1s 3ms/step - loss: 0.2918 - accuracy: 0.9148\n",
            "469/469 [==============================] - 3s 5ms/step - loss: 0.5262 - accuracy: 0.8393\n",
            "157/157 [==============================] - 1s 3ms/step - loss: 0.3260 - accuracy: 0.9070\n",
            "469/469 [==============================] - 3s 5ms/step - loss: 0.5156 - accuracy: 0.8454\n",
            "157/157 [==============================] - 1s 3ms/step - loss: 0.3083 - accuracy: 0.9134\n",
            "469/469 [==============================] - 3s 5ms/step - loss: 0.5078 - accuracy: 0.8438\n",
            "157/157 [==============================] - 1s 3ms/step - loss: 0.3226 - accuracy: 0.9057\n",
            "469/469 [==============================] - 3s 5ms/step - loss: 0.4971 - accuracy: 0.8512\n",
            "157/157 [==============================] - 1s 3ms/step - loss: 0.3174 - accuracy: 0.9074\n",
            "469/469 [==============================] - 3s 5ms/step - loss: 0.4750 - accuracy: 0.8548\n",
            "157/157 [==============================] - 1s 3ms/step - loss: 0.2895 - accuracy: 0.9139\n",
            "469/469 [==============================] - 3s 5ms/step - loss: 0.4687 - accuracy: 0.8554\n",
            "157/157 [==============================] - 1s 3ms/step - loss: 0.2669 - accuracy: 0.9218\n",
            "469/469 [==============================] - 3s 5ms/step - loss: 0.4579 - accuracy: 0.8599\n",
            "157/157 [==============================] - 1s 3ms/step - loss: 0.2621 - accuracy: 0.9229\n",
            "469/469 [==============================] - 3s 5ms/step - loss: 0.4622 - accuracy: 0.8576\n",
            "157/157 [==============================] - 1s 3ms/step - loss: 0.2719 - accuracy: 0.9187\n",
            "625/625 [==============================] - 3s 5ms/step - loss: 0.4275 - accuracy: 0.8733\n",
            "Best: 0.940025 using {'activation': 'relu'}\n",
            "0.940025 (0.001684) with: {'activation': 'relu'}\n",
            "0.896875 (0.002005) with: {'activation': 'sigmoid'}\n",
            "0.919650 (0.002926) with: {'activation': 'tanh'}\n",
            "0.908375 (0.002968) with: {'activation': 'selu'}\n",
            "0.919325 (0.003490) with: {'activation': 'elu'}\n"
          ]
        }
      ],
      "source": [
        "def create_DNN2(activation):\n",
        "    model = Sequential()\n",
        "    model.add(Dense(200,input_shape=(img_rows*img_cols,), activation=activation))\n",
        "    model.add(Dense(100, activation=activation))\n",
        "    model.add(Dropout(0.5))\n",
        "    model.add(Dense(num_classes, activation='softmax'))\n",
        "    model.compile(loss=keras.losses.categorical_crossentropy,\n",
        "              optimizer=keras.optimizers.Adam(),\n",
        "              metrics=['accuracy'])\n",
        "    return model\n",
        "\n",
        "batch_size = 64\n",
        "epochs = 1\n",
        "model_gridsearch = KerasClassifier(build_fn=create_DNN2,\n",
        "                        epochs=epochs, batch_size=batch_size, verbose=1)\n",
        "\n",
        "# list of allowed optional arguments for the optimizer, see `compile_model()`\n",
        "activation = ['relu', 'sigmoid', 'tanh', 'selu', 'elu']\n",
        "# define parameter dictionary\n",
        "param_grid = dict(activation=activation)\n",
        "\n",
        "# call scikit grid search module\n",
        "grid = GridSearchCV(estimator=model_gridsearch, param_grid=param_grid, n_jobs=1, cv=4)\n",
        "grid_result = grid.fit(X_train,Y_train)\n",
        "\n",
        "# summarize results\n",
        "print(\"Best: %f using %s\" % (grid_result.best_score_, grid_result.best_params_))\n",
        "means = grid_result.cv_results_['mean_test_score']\n",
        "stds = grid_result.cv_results_['std_test_score']\n",
        "params = grid_result.cv_results_['params']\n",
        "for mean, stdev, param in zip(means, stds, params):\n",
        "    print(\"%f (%f) with: %r\" % (mean, stdev, param))"
      ]
    },
    {
      "cell_type": "markdown",
      "metadata": {
        "id": "6O_r89YkwZ4i"
      },
      "source": [
        "<span style=\"color:blue\"> <i> 3. Now, do the grid search over different combination of batch sizes (10, 30, 50, 100) and number of epochs (1, 2, 5). Use the activation function that gave you the highest accuracy in Part 2. Make sure to print the mean test score of each case and determine which combination of batch size and number of epochs gives the best accuracy. Here, you have a freedom to create your own DNN (assume an arbitrary number of Dense layers, optimization scheme, etc).   </i></span> <br>\n",
        "\n",
        "Hint: To do the grid search over both batch_size and epochs, you can do:\n",
        "\n",
        "param_grid = dict(batch_size=batch_size, epochs=epochs)"
      ]
    },
    {
      "cell_type": "code",
      "execution_count": null,
      "metadata": {
        "id": "WcqdoVzdwZ4i",
        "colab": {
          "base_uri": "https://localhost:8080/"
        },
        "outputId": "34126c59-e84f-469e-c57b-4dc216724b8a"
      },
      "outputs": [
        {
          "output_type": "stream",
          "name": "stdout",
          "text": [
            "3000/3000 [==============================] - 10s 3ms/step - loss: 0.3607 - accuracy: 0.8928\n",
            "1000/1000 [==============================] - 2s 2ms/step - loss: 0.1563 - accuracy: 0.9530\n",
            "3000/3000 [==============================] - 11s 4ms/step - loss: 0.3638 - accuracy: 0.8932\n",
            "1000/1000 [==============================] - 2s 2ms/step - loss: 0.1766 - accuracy: 0.9455\n",
            "3000/3000 [==============================] - 11s 3ms/step - loss: 0.3619 - accuracy: 0.8934\n",
            "1000/1000 [==============================] - 2s 2ms/step - loss: 0.1695 - accuracy: 0.9489\n",
            "3000/3000 [==============================] - 28s 8ms/step - loss: 0.3629 - accuracy: 0.8924\n",
            "1000/1000 [==============================] - 2s 2ms/step - loss: 0.1919 - accuracy: 0.9434\n",
            "Epoch 1/2\n",
            "3000/3000 [==============================] - 11s 4ms/step - loss: 0.3672 - accuracy: 0.8902\n",
            "Epoch 2/2\n",
            "3000/3000 [==============================] - 11s 4ms/step - loss: 0.1640 - accuracy: 0.9518\n",
            "1000/1000 [==============================] - 2s 2ms/step - loss: 0.1316 - accuracy: 0.9608\n",
            "Epoch 1/2\n",
            "3000/3000 [==============================] - 17s 6ms/step - loss: 0.3667 - accuracy: 0.8907\n",
            "Epoch 2/2\n",
            "3000/3000 [==============================] - 18s 6ms/step - loss: 0.1695 - accuracy: 0.9522\n",
            "1000/1000 [==============================] - 5s 5ms/step - loss: 0.1355 - accuracy: 0.9597\n",
            "Epoch 1/2\n",
            "3000/3000 [==============================] - 16s 5ms/step - loss: 0.3588 - accuracy: 0.8947\n",
            "Epoch 2/2\n",
            "3000/3000 [==============================] - 14s 5ms/step - loss: 0.1653 - accuracy: 0.9530\n",
            "1000/1000 [==============================] - 2s 2ms/step - loss: 0.1295 - accuracy: 0.9599\n",
            "Epoch 1/2\n",
            "3000/3000 [==============================] - 13s 4ms/step - loss: 0.3607 - accuracy: 0.8932\n",
            "Epoch 2/2\n",
            "3000/3000 [==============================] - 21s 7ms/step - loss: 0.1609 - accuracy: 0.9545\n",
            "1000/1000 [==============================] - 2s 2ms/step - loss: 0.1410 - accuracy: 0.9576\n",
            "Epoch 1/5\n",
            "3000/3000 [==============================] - 12s 4ms/step - loss: 0.3681 - accuracy: 0.8894\n",
            "Epoch 2/5\n",
            "3000/3000 [==============================] - 17s 6ms/step - loss: 0.1695 - accuracy: 0.9515\n",
            "Epoch 3/5\n",
            "3000/3000 [==============================] - 18s 6ms/step - loss: 0.1200 - accuracy: 0.9650\n",
            "Epoch 4/5\n",
            "3000/3000 [==============================] - 15s 5ms/step - loss: 0.0959 - accuracy: 0.9717\n",
            "Epoch 5/5\n",
            "3000/3000 [==============================] - 14s 5ms/step - loss: 0.0779 - accuracy: 0.9766\n",
            "1000/1000 [==============================] - 2s 2ms/step - loss: 0.1383 - accuracy: 0.9659\n",
            "Epoch 1/5\n",
            "3000/3000 [==============================] - 12s 4ms/step - loss: 0.3627 - accuracy: 0.8912\n",
            "Epoch 2/5\n",
            "3000/3000 [==============================] - 10s 3ms/step - loss: 0.1641 - accuracy: 0.9520\n",
            "Epoch 3/5\n",
            "3000/3000 [==============================] - 14s 5ms/step - loss: 0.1234 - accuracy: 0.9639\n",
            "Epoch 4/5\n",
            "3000/3000 [==============================] - 16s 5ms/step - loss: 0.0942 - accuracy: 0.9716\n",
            "Epoch 5/5\n",
            "3000/3000 [==============================] - 14s 5ms/step - loss: 0.0785 - accuracy: 0.9756\n",
            "1000/1000 [==============================] - 6s 6ms/step - loss: 0.1189 - accuracy: 0.9702\n",
            "Epoch 1/5\n",
            "3000/3000 [==============================] - 18s 6ms/step - loss: 0.3617 - accuracy: 0.8945\n",
            "Epoch 2/5\n",
            "3000/3000 [==============================] - 11s 4ms/step - loss: 0.1651 - accuracy: 0.9532\n",
            "Epoch 3/5\n",
            "3000/3000 [==============================] - 11s 4ms/step - loss: 0.1223 - accuracy: 0.9656\n",
            "Epoch 4/5\n",
            "3000/3000 [==============================] - 11s 4ms/step - loss: 0.0950 - accuracy: 0.9730\n",
            "Epoch 5/5\n",
            "3000/3000 [==============================] - 11s 4ms/step - loss: 0.0782 - accuracy: 0.9760\n",
            "1000/1000 [==============================] - 2s 2ms/step - loss: 0.1293 - accuracy: 0.9673\n",
            "Epoch 1/5\n",
            "3000/3000 [==============================] - 12s 4ms/step - loss: 0.3605 - accuracy: 0.8907\n",
            "Epoch 2/5\n",
            "3000/3000 [==============================] - 11s 4ms/step - loss: 0.1634 - accuracy: 0.9537\n",
            "Epoch 3/5\n",
            "3000/3000 [==============================] - 11s 4ms/step - loss: 0.1161 - accuracy: 0.9662\n",
            "Epoch 4/5\n",
            "3000/3000 [==============================] - 11s 4ms/step - loss: 0.0933 - accuracy: 0.9726\n",
            "Epoch 5/5\n",
            "3000/3000 [==============================] - 11s 4ms/step - loss: 0.0781 - accuracy: 0.9776\n",
            "1000/1000 [==============================] - 2s 2ms/step - loss: 0.1425 - accuracy: 0.9667\n",
            "1000/1000 [==============================] - 5s 4ms/step - loss: 0.4329 - accuracy: 0.8718\n",
            "334/334 [==============================] - 1s 3ms/step - loss: 0.1665 - accuracy: 0.9502\n",
            "1000/1000 [==============================] - 5s 5ms/step - loss: 0.4156 - accuracy: 0.8754\n",
            "334/334 [==============================] - 1s 3ms/step - loss: 0.1623 - accuracy: 0.9513\n",
            "1000/1000 [==============================] - 5s 4ms/step - loss: 0.4227 - accuracy: 0.8751\n",
            "334/334 [==============================] - 1s 3ms/step - loss: 0.1791 - accuracy: 0.9461\n",
            "1000/1000 [==============================] - 5s 4ms/step - loss: 0.4251 - accuracy: 0.8753\n",
            "334/334 [==============================] - 1s 3ms/step - loss: 0.1940 - accuracy: 0.9410\n",
            "Epoch 1/2\n",
            "1000/1000 [==============================] - 5s 5ms/step - loss: 0.4268 - accuracy: 0.8738\n",
            "Epoch 2/2\n",
            "1000/1000 [==============================] - 5s 5ms/step - loss: 0.1816 - accuracy: 0.9475\n",
            "334/334 [==============================] - 1s 3ms/step - loss: 0.1250 - accuracy: 0.9620\n",
            "Epoch 1/2\n",
            "1000/1000 [==============================] - 9s 8ms/step - loss: 0.4227 - accuracy: 0.8737\n",
            "Epoch 2/2\n",
            "1000/1000 [==============================] - 5s 5ms/step - loss: 0.1803 - accuracy: 0.9478\n",
            "334/334 [==============================] - 2s 5ms/step - loss: 0.1299 - accuracy: 0.9615\n",
            "Epoch 1/2\n",
            "1000/1000 [==============================] - 9s 7ms/step - loss: 0.4128 - accuracy: 0.8797\n",
            "Epoch 2/2\n",
            "1000/1000 [==============================] - 5s 5ms/step - loss: 0.1801 - accuracy: 0.9486\n",
            "334/334 [==============================] - 1s 3ms/step - loss: 0.1312 - accuracy: 0.9613\n",
            "Epoch 1/2\n",
            "1000/1000 [==============================] - 5s 5ms/step - loss: 0.4176 - accuracy: 0.8770\n",
            "Epoch 2/2\n",
            "1000/1000 [==============================] - 5s 5ms/step - loss: 0.1823 - accuracy: 0.9478\n",
            "334/334 [==============================] - 1s 3ms/step - loss: 0.1430 - accuracy: 0.9581\n",
            "Epoch 1/5\n",
            "1000/1000 [==============================] - 7s 5ms/step - loss: 0.4286 - accuracy: 0.8733\n",
            "Epoch 2/5\n",
            "1000/1000 [==============================] - 8s 8ms/step - loss: 0.1765 - accuracy: 0.9486\n",
            "Epoch 3/5\n",
            "1000/1000 [==============================] - 5s 5ms/step - loss: 0.1269 - accuracy: 0.9637\n",
            "Epoch 4/5\n",
            "1000/1000 [==============================] - 4s 4ms/step - loss: 0.0957 - accuracy: 0.9720\n",
            "Epoch 5/5\n",
            "1000/1000 [==============================] - 4s 4ms/step - loss: 0.0779 - accuracy: 0.9765\n",
            "334/334 [==============================] - 1s 2ms/step - loss: 0.1117 - accuracy: 0.9696\n",
            "Epoch 1/5\n",
            "1000/1000 [==============================] - 7s 7ms/step - loss: 0.4190 - accuracy: 0.8746\n",
            "Epoch 2/5\n",
            "1000/1000 [==============================] - 8s 8ms/step - loss: 0.1868 - accuracy: 0.9462\n",
            "Epoch 3/5\n",
            "1000/1000 [==============================] - 5s 5ms/step - loss: 0.1310 - accuracy: 0.9624\n",
            "Epoch 4/5\n",
            "1000/1000 [==============================] - 5s 4ms/step - loss: 0.0994 - accuracy: 0.9708\n",
            "Epoch 5/5\n",
            "1000/1000 [==============================] - 8s 8ms/step - loss: 0.0807 - accuracy: 0.9746\n",
            "334/334 [==============================] - 2s 4ms/step - loss: 0.1012 - accuracy: 0.9726\n",
            "Epoch 1/5\n",
            "1000/1000 [==============================] - 10s 9ms/step - loss: 0.4250 - accuracy: 0.8720\n",
            "Epoch 2/5\n",
            "1000/1000 [==============================] - 8s 8ms/step - loss: 0.1745 - accuracy: 0.9490\n",
            "Epoch 3/5\n",
            "1000/1000 [==============================] - 7s 7ms/step - loss: 0.1208 - accuracy: 0.9650\n",
            "Epoch 4/5\n",
            "1000/1000 [==============================] - 7s 7ms/step - loss: 0.0907 - accuracy: 0.9733\n",
            "Epoch 5/5\n",
            "1000/1000 [==============================] - 6s 6ms/step - loss: 0.0737 - accuracy: 0.9775\n",
            "334/334 [==============================] - 1s 2ms/step - loss: 0.1110 - accuracy: 0.9687\n",
            "Epoch 1/5\n",
            "1000/1000 [==============================] - 5s 4ms/step - loss: 0.4250 - accuracy: 0.8731\n",
            "Epoch 2/5\n",
            "1000/1000 [==============================] - 4s 4ms/step - loss: 0.1821 - accuracy: 0.9480\n",
            "Epoch 3/5\n",
            "1000/1000 [==============================] - 4s 4ms/step - loss: 0.1279 - accuracy: 0.9630\n",
            "Epoch 4/5\n",
            "1000/1000 [==============================] - 4s 4ms/step - loss: 0.0955 - accuracy: 0.9717\n",
            "Epoch 5/5\n",
            "1000/1000 [==============================] - 4s 4ms/step - loss: 0.0754 - accuracy: 0.9777\n",
            "334/334 [==============================] - 1s 2ms/step - loss: 0.1292 - accuracy: 0.9671\n",
            "600/600 [==============================] - 4s 5ms/step - loss: 0.4604 - accuracy: 0.8621\n",
            "200/200 [==============================] - 1s 3ms/step - loss: 0.1895 - accuracy: 0.9440\n",
            "600/600 [==============================] - 3s 5ms/step - loss: 0.4613 - accuracy: 0.8601\n",
            "200/200 [==============================] - 1s 3ms/step - loss: 0.1860 - accuracy: 0.9438\n",
            "600/600 [==============================] - 3s 5ms/step - loss: 0.4585 - accuracy: 0.8634\n",
            "200/200 [==============================] - 1s 3ms/step - loss: 0.1855 - accuracy: 0.9460\n",
            "600/600 [==============================] - 3s 5ms/step - loss: 0.4634 - accuracy: 0.8617\n",
            "200/200 [==============================] - 1s 3ms/step - loss: 0.1973 - accuracy: 0.9401\n",
            "Epoch 1/2\n",
            "600/600 [==============================] - 3s 5ms/step - loss: 0.4607 - accuracy: 0.8606\n",
            "Epoch 2/2\n",
            "600/600 [==============================] - 3s 5ms/step - loss: 0.1901 - accuracy: 0.9452\n",
            "200/200 [==============================] - 1s 3ms/step - loss: 0.1263 - accuracy: 0.9617\n",
            "Epoch 1/2\n",
            "600/600 [==============================] - 3s 5ms/step - loss: 0.4583 - accuracy: 0.8635\n",
            "Epoch 2/2\n",
            "600/600 [==============================] - 3s 5ms/step - loss: 0.1974 - accuracy: 0.9439\n",
            "200/200 [==============================] - 1s 3ms/step - loss: 0.1334 - accuracy: 0.9611\n",
            "Epoch 1/2\n",
            "600/600 [==============================] - 3s 5ms/step - loss: 0.4597 - accuracy: 0.8626\n",
            "Epoch 2/2\n",
            "600/600 [==============================] - 3s 5ms/step - loss: 0.1973 - accuracy: 0.9433\n",
            "200/200 [==============================] - 1s 3ms/step - loss: 0.1449 - accuracy: 0.9540\n",
            "Epoch 1/2\n",
            "600/600 [==============================] - 4s 6ms/step - loss: 0.4502 - accuracy: 0.8662\n",
            "Epoch 2/2\n",
            "600/600 [==============================] - 3s 5ms/step - loss: 0.1949 - accuracy: 0.9448\n",
            "200/200 [==============================] - 1s 3ms/step - loss: 0.1399 - accuracy: 0.9573\n",
            "Epoch 1/5\n",
            "600/600 [==============================] - 3s 5ms/step - loss: 0.4703 - accuracy: 0.8609\n",
            "Epoch 2/5\n",
            "600/600 [==============================] - 3s 5ms/step - loss: 0.1991 - accuracy: 0.9435\n",
            "Epoch 3/5\n",
            "600/600 [==============================] - 4s 7ms/step - loss: 0.1390 - accuracy: 0.9620\n",
            "Epoch 4/5\n",
            "600/600 [==============================] - 3s 5ms/step - loss: 0.1044 - accuracy: 0.9694\n",
            "Epoch 5/5\n",
            "600/600 [==============================] - 3s 5ms/step - loss: 0.0832 - accuracy: 0.9750\n",
            "200/200 [==============================] - 1s 3ms/step - loss: 0.0970 - accuracy: 0.9722\n",
            "Epoch 1/5\n",
            "600/600 [==============================] - 4s 5ms/step - loss: 0.4557 - accuracy: 0.8658\n",
            "Epoch 2/5\n",
            "600/600 [==============================] - 3s 5ms/step - loss: 0.1982 - accuracy: 0.9429\n",
            "Epoch 3/5\n",
            "600/600 [==============================] - 3s 5ms/step - loss: 0.1375 - accuracy: 0.9596\n",
            "Epoch 4/5\n",
            "600/600 [==============================] - 3s 5ms/step - loss: 0.1034 - accuracy: 0.9698\n",
            "Epoch 5/5\n",
            "600/600 [==============================] - 3s 5ms/step - loss: 0.0847 - accuracy: 0.9752\n",
            "200/200 [==============================] - 1s 3ms/step - loss: 0.1049 - accuracy: 0.9707\n",
            "Epoch 1/5\n",
            "600/600 [==============================] - 4s 5ms/step - loss: 0.4578 - accuracy: 0.8632\n",
            "Epoch 2/5\n",
            "600/600 [==============================] - 3s 5ms/step - loss: 0.1912 - accuracy: 0.9460\n",
            "Epoch 3/5\n",
            "600/600 [==============================] - 3s 5ms/step - loss: 0.1288 - accuracy: 0.9634\n",
            "Epoch 4/5\n",
            "600/600 [==============================] - 3s 5ms/step - loss: 0.0983 - accuracy: 0.9714\n",
            "Epoch 5/5\n",
            "600/600 [==============================] - 3s 5ms/step - loss: 0.0806 - accuracy: 0.9763\n",
            "200/200 [==============================] - 1s 3ms/step - loss: 0.1133 - accuracy: 0.9668\n",
            "Epoch 1/5\n",
            "600/600 [==============================] - 3s 5ms/step - loss: 0.4547 - accuracy: 0.8640\n",
            "Epoch 2/5\n",
            "600/600 [==============================] - 3s 5ms/step - loss: 0.1933 - accuracy: 0.9445\n",
            "Epoch 3/5\n",
            "600/600 [==============================] - 3s 5ms/step - loss: 0.1382 - accuracy: 0.9595\n",
            "Epoch 4/5\n",
            "600/600 [==============================] - 3s 5ms/step - loss: 0.1005 - accuracy: 0.9703\n",
            "Epoch 5/5\n",
            "600/600 [==============================] - 5s 8ms/step - loss: 0.0819 - accuracy: 0.9759\n",
            "200/200 [==============================] - 1s 3ms/step - loss: 0.1115 - accuracy: 0.9686\n",
            "300/300 [==============================] - 2s 6ms/step - loss: 0.5528 - accuracy: 0.8339\n",
            "100/100 [==============================] - 1s 4ms/step - loss: 0.2112 - accuracy: 0.9377\n",
            "300/300 [==============================] - 2s 6ms/step - loss: 0.5482 - accuracy: 0.8358\n",
            "100/100 [==============================] - 0s 4ms/step - loss: 0.2356 - accuracy: 0.9288\n",
            "300/300 [==============================] - 3s 9ms/step - loss: 0.5462 - accuracy: 0.8381\n",
            "100/100 [==============================] - 0s 3ms/step - loss: 0.2215 - accuracy: 0.9347\n",
            "300/300 [==============================] - 2s 6ms/step - loss: 0.5270 - accuracy: 0.8437\n",
            "100/100 [==============================] - 0s 3ms/step - loss: 0.2168 - accuracy: 0.9347\n",
            "Epoch 1/2\n",
            "300/300 [==============================] - 2s 6ms/step - loss: 0.5518 - accuracy: 0.8357\n",
            "Epoch 2/2\n",
            "300/300 [==============================] - 2s 6ms/step - loss: 0.2311 - accuracy: 0.9337\n",
            "100/100 [==============================] - 0s 3ms/step - loss: 0.1579 - accuracy: 0.9557\n",
            "Epoch 1/2\n",
            "300/300 [==============================] - 2s 6ms/step - loss: 0.5365 - accuracy: 0.8432\n",
            "Epoch 2/2\n",
            "300/300 [==============================] - 2s 6ms/step - loss: 0.2301 - accuracy: 0.9344\n",
            "100/100 [==============================] - 0s 3ms/step - loss: 0.1512 - accuracy: 0.9547\n",
            "Epoch 1/2\n",
            "300/300 [==============================] - 2s 6ms/step - loss: 0.5292 - accuracy: 0.8421\n",
            "Epoch 2/2\n",
            "300/300 [==============================] - 2s 6ms/step - loss: 0.2181 - accuracy: 0.9388\n",
            "100/100 [==============================] - 0s 3ms/step - loss: 0.1558 - accuracy: 0.9511\n",
            "Epoch 1/2\n",
            "300/300 [==============================] - 2s 6ms/step - loss: 0.5179 - accuracy: 0.8447\n",
            "Epoch 2/2\n",
            "300/300 [==============================] - 2s 6ms/step - loss: 0.2275 - accuracy: 0.9351\n",
            "100/100 [==============================] - 0s 3ms/step - loss: 0.1671 - accuracy: 0.9506\n",
            "Epoch 1/5\n",
            "300/300 [==============================] - 2s 6ms/step - loss: 0.5409 - accuracy: 0.8367\n",
            "Epoch 2/5\n",
            "300/300 [==============================] - 2s 6ms/step - loss: 0.2276 - accuracy: 0.9359\n",
            "Epoch 3/5\n",
            "300/300 [==============================] - 2s 6ms/step - loss: 0.1601 - accuracy: 0.9542\n",
            "Epoch 4/5\n",
            "300/300 [==============================] - 2s 6ms/step - loss: 0.1251 - accuracy: 0.9631\n",
            "Epoch 5/5\n",
            "300/300 [==============================] - 2s 6ms/step - loss: 0.0967 - accuracy: 0.9728\n",
            "100/100 [==============================] - 0s 3ms/step - loss: 0.1041 - accuracy: 0.9693\n",
            "Epoch 1/5\n",
            "300/300 [==============================] - 2s 6ms/step - loss: 0.5228 - accuracy: 0.8422\n",
            "Epoch 2/5\n",
            "300/300 [==============================] - 2s 6ms/step - loss: 0.2262 - accuracy: 0.9352\n",
            "Epoch 3/5\n",
            "300/300 [==============================] - 2s 6ms/step - loss: 0.1631 - accuracy: 0.9528\n",
            "Epoch 4/5\n",
            "300/300 [==============================] - 2s 6ms/step - loss: 0.1259 - accuracy: 0.9633\n",
            "Epoch 5/5\n",
            "300/300 [==============================] - 2s 6ms/step - loss: 0.0971 - accuracy: 0.9719\n",
            "100/100 [==============================] - 0s 3ms/step - loss: 0.1027 - accuracy: 0.9681\n",
            "Epoch 1/5\n",
            "300/300 [==============================] - 3s 6ms/step - loss: 0.5426 - accuracy: 0.8360\n",
            "Epoch 2/5\n",
            "300/300 [==============================] - 2s 6ms/step - loss: 0.2181 - accuracy: 0.9375\n",
            "Epoch 3/5\n",
            "300/300 [==============================] - 2s 6ms/step - loss: 0.1516 - accuracy: 0.9569\n",
            "Epoch 4/5\n",
            "300/300 [==============================] - 2s 6ms/step - loss: 0.1166 - accuracy: 0.9663\n",
            "Epoch 5/5\n",
            "300/300 [==============================] - 2s 6ms/step - loss: 0.0950 - accuracy: 0.9719\n",
            "100/100 [==============================] - 0s 3ms/step - loss: 0.1187 - accuracy: 0.9637\n",
            "Epoch 1/5\n",
            "300/300 [==============================] - 2s 6ms/step - loss: 0.5361 - accuracy: 0.8408\n",
            "Epoch 2/5\n",
            "300/300 [==============================] - 2s 6ms/step - loss: 0.2294 - accuracy: 0.9341\n",
            "Epoch 3/5\n",
            "300/300 [==============================] - 2s 6ms/step - loss: 0.1603 - accuracy: 0.9536\n",
            "Epoch 4/5\n",
            "300/300 [==============================] - 2s 6ms/step - loss: 0.1225 - accuracy: 0.9651\n",
            "Epoch 5/5\n",
            "300/300 [==============================] - 2s 6ms/step - loss: 0.1005 - accuracy: 0.9713\n",
            "100/100 [==============================] - 0s 3ms/step - loss: 0.1162 - accuracy: 0.9651\n",
            "Epoch 1/5\n",
            "800/800 [==============================] - 4s 5ms/step - loss: 0.4003 - accuracy: 0.8803\n",
            "Epoch 2/5\n",
            "800/800 [==============================] - 4s 5ms/step - loss: 0.1646 - accuracy: 0.9532\n",
            "Epoch 3/5\n",
            "800/800 [==============================] - 6s 7ms/step - loss: 0.1141 - accuracy: 0.9668\n",
            "Epoch 4/5\n",
            "800/800 [==============================] - 4s 5ms/step - loss: 0.0901 - accuracy: 0.9728\n",
            "Epoch 5/5\n",
            "800/800 [==============================] - 4s 4ms/step - loss: 0.0695 - accuracy: 0.9798\n",
            "Best: 0.969575 using {'batch_size': 50, 'epochs': 5}\n",
            "0.947700 (0.003635) with: {'batch_size': 10, 'epochs': 1}\n",
            "0.959500 (0.001173) with: {'batch_size': 10, 'epochs': 2}\n",
            "0.967525 (0.001622) with: {'batch_size': 10, 'epochs': 5}\n",
            "0.947150 (0.004045) with: {'batch_size': 30, 'epochs': 1}\n",
            "0.960725 (0.001537) with: {'batch_size': 30, 'epochs': 2}\n",
            "0.969500 (0.002001) with: {'batch_size': 30, 'epochs': 5}\n",
            "0.943475 (0.002130) with: {'batch_size': 50, 'epochs': 1}\n",
            "0.958525 (0.003110) with: {'batch_size': 50, 'epochs': 2}\n",
            "0.969575 (0.002050) with: {'batch_size': 50, 'epochs': 5}\n",
            "0.933975 (0.003229) with: {'batch_size': 100, 'epochs': 1}\n",
            "0.953025 (0.002211) with: {'batch_size': 100, 'epochs': 2}\n",
            "0.966550 (0.002247) with: {'batch_size': 100, 'epochs': 5}\n"
          ]
        }
      ],
      "source": [
        "def create_DNN3():\n",
        "    model = Sequential()\n",
        "    model.add(Dense(200,input_shape=(img_rows*img_cols,), activation='relu'))\n",
        "    model.add(Dense(100, activation='relu'))\n",
        "    model.add(Dropout(0.5))\n",
        "    model.add(Dense(num_classes, activation='softmax'))\n",
        "    model.compile(loss=keras.losses.categorical_crossentropy,\n",
        "              optimizer=keras.optimizers.Adam(),\n",
        "              metrics=['accuracy'])\n",
        "    return model\n",
        "\n",
        "batch_size = 64\n",
        "epochs = 1\n",
        "model_gridsearch = KerasClassifier(build_fn=create_DNN3,\n",
        "                        epochs=epochs, batch_size=batch_size, verbose=1)\n",
        "\n",
        "# list of allowed optional arguments for the optimizer, see `compile_model()`\n",
        "batch_size = [10, 30, 50, 100]\n",
        "epochs=[1,2,5]\n",
        "# define parameter dictionary\n",
        "param_grid = dict(batch_size=batch_size, epochs=epochs)\n",
        "\n",
        "# call scikit grid search module\n",
        "grid = GridSearchCV(estimator=model_gridsearch, param_grid=param_grid, n_jobs=1, cv=4)\n",
        "grid_result = grid.fit(X_train,Y_train)\n",
        "\n",
        "# summarize results\n",
        "print(\"Best: %f using %s\" % (grid_result.best_score_, grid_result.best_params_))\n",
        "means = grid_result.cv_results_['mean_test_score']\n",
        "stds = grid_result.cv_results_['std_test_score']\n",
        "params = grid_result.cv_results_['params']\n",
        "for mean, stdev, param in zip(means, stds, params):\n",
        "    print(\"%f (%f) with: %r\" % (mean, stdev, param))"
      ]
    },
    {
      "cell_type": "markdown",
      "metadata": {
        "id": "_yGrNIgQwZ4j"
      },
      "source": [
        "<span style=\"color:blue\"> <i> 4. Do the grid search over the number of neurons in the Dense layer and make a plot of mean test score as a function of num_neurons. Again, you have a freedom to create your own DNN. </i></span> <br>"
      ]
    },
    {
      "cell_type": "code",
      "execution_count": null,
      "metadata": {
        "id": "SFHfNOtPwZ4j",
        "colab": {
          "base_uri": "https://localhost:8080/"
        },
        "outputId": "d97532e9-3741-4527-ff05-e46bf9f7d772"
      },
      "outputs": [
        {
          "output_type": "stream",
          "name": "stdout",
          "text": [
            "469/469 [==============================] - 3s 5ms/step - loss: 0.6080 - accuracy: 0.8184\n",
            "157/157 [==============================] - 1s 3ms/step - loss: 0.2127 - accuracy: 0.9375\n",
            "469/469 [==============================] - 5s 8ms/step - loss: 0.5814 - accuracy: 0.8273\n",
            "157/157 [==============================] - 2s 8ms/step - loss: 0.2101 - accuracy: 0.9372\n",
            "469/469 [==============================] - 5s 8ms/step - loss: 0.6095 - accuracy: 0.8198\n",
            "157/157 [==============================] - 2s 7ms/step - loss: 0.2222 - accuracy: 0.9359\n",
            "469/469 [==============================] - 3s 5ms/step - loss: 0.5956 - accuracy: 0.8226\n",
            "157/157 [==============================] - 1s 3ms/step - loss: 0.2214 - accuracy: 0.9348\n",
            "469/469 [==============================] - 3s 5ms/step - loss: 0.5171 - accuracy: 0.8444\n",
            "157/157 [==============================] - 1s 3ms/step - loss: 0.2088 - accuracy: 0.9402\n",
            "469/469 [==============================] - 3s 5ms/step - loss: 0.4899 - accuracy: 0.8531\n",
            "157/157 [==============================] - 1s 3ms/step - loss: 0.1916 - accuracy: 0.9414\n",
            "469/469 [==============================] - 3s 5ms/step - loss: 0.4795 - accuracy: 0.8561\n",
            "157/157 [==============================] - 1s 3ms/step - loss: 0.1945 - accuracy: 0.9420\n",
            "469/469 [==============================] - 3s 5ms/step - loss: 0.4826 - accuracy: 0.8566\n",
            "157/157 [==============================] - 1s 3ms/step - loss: 0.2039 - accuracy: 0.9378\n",
            "469/469 [==============================] - 4s 7ms/step - loss: 0.4247 - accuracy: 0.8726\n",
            "157/157 [==============================] - 1s 4ms/step - loss: 0.1827 - accuracy: 0.9472\n",
            "469/469 [==============================] - 3s 6ms/step - loss: 0.4131 - accuracy: 0.8782\n",
            "157/157 [==============================] - 1s 3ms/step - loss: 0.1826 - accuracy: 0.9440\n",
            "469/469 [==============================] - 3s 6ms/step - loss: 0.4188 - accuracy: 0.8749\n",
            "157/157 [==============================] - 1s 3ms/step - loss: 0.1825 - accuracy: 0.9453\n",
            "469/469 [==============================] - 4s 8ms/step - loss: 0.4084 - accuracy: 0.8800\n",
            "157/157 [==============================] - 1s 5ms/step - loss: 0.1850 - accuracy: 0.9433\n",
            "469/469 [==============================] - 5s 10ms/step - loss: 0.3905 - accuracy: 0.8819\n",
            "157/157 [==============================] - 1s 6ms/step - loss: 0.1728 - accuracy: 0.9494\n",
            "469/469 [==============================] - 4s 7ms/step - loss: 0.3889 - accuracy: 0.8843\n",
            "157/157 [==============================] - 1s 3ms/step - loss: 0.1731 - accuracy: 0.9506\n",
            "469/469 [==============================] - 5s 10ms/step - loss: 0.3852 - accuracy: 0.8871\n",
            "157/157 [==============================] - 1s 3ms/step - loss: 0.1820 - accuracy: 0.9469\n",
            "469/469 [==============================] - 6s 12ms/step - loss: 0.3809 - accuracy: 0.8859\n",
            "157/157 [==============================] - 1s 3ms/step - loss: 0.1814 - accuracy: 0.9456\n",
            "469/469 [==============================] - 4s 7ms/step - loss: 0.3768 - accuracy: 0.8869\n",
            "157/157 [==============================] - 1s 3ms/step - loss: 0.1776 - accuracy: 0.9493\n",
            "469/469 [==============================] - 4s 7ms/step - loss: 0.3685 - accuracy: 0.8898\n",
            "157/157 [==============================] - 1s 3ms/step - loss: 0.1644 - accuracy: 0.9522\n",
            "469/469 [==============================] - 4s 7ms/step - loss: 0.3668 - accuracy: 0.8898\n",
            "157/157 [==============================] - 1s 3ms/step - loss: 0.1683 - accuracy: 0.9488\n",
            "469/469 [==============================] - 4s 7ms/step - loss: 0.3633 - accuracy: 0.8893\n",
            "157/157 [==============================] - 1s 3ms/step - loss: 0.1798 - accuracy: 0.9455\n",
            "625/625 [==============================] - 4s 6ms/step - loss: 0.3189 - accuracy: 0.9050\n",
            "Best: 0.948950 using {'num_neurons': 400}\n",
            "0.936350 (0.001078) with: {'num_neurons': 50}\n",
            "0.940350 (0.001609) with: {'num_neurons': 100}\n",
            "0.944950 (0.001484) with: {'num_neurons': 200}\n",
            "0.948125 (0.001977) with: {'num_neurons': 300}\n",
            "0.948950 (0.002377) with: {'num_neurons': 400}\n"
          ]
        }
      ],
      "source": [
        "def create_DNN4(num_neurons):\n",
        "    model = Sequential()\n",
        "    model.add(Dense(200,input_shape=(img_rows*img_cols,), activation='relu'))\n",
        "    model.add(Dense(num_neurons, activation='relu'))\n",
        "    model.add(Dropout(0.5))\n",
        "    model.add(Dense(num_classes, activation='softmax'))\n",
        "    model.compile(loss=keras.losses.categorical_crossentropy,\n",
        "              optimizer=keras.optimizers.Adam(),\n",
        "              metrics=['accuracy'])\n",
        "    return model\n",
        "\n",
        "batch_size = 64\n",
        "epochs = 1\n",
        "model_gridsearch = KerasClassifier(build_fn=create_DNN4,\n",
        "                        epochs=epochs, batch_size=batch_size, verbose=1)\n",
        "\n",
        "# list of allowed optional arguments for the optimizer, see `compile_model()`\n",
        "num_neurons = [50, 100, 200, 300,400]\n",
        "\n",
        "# define parameter dictionary\n",
        "param_grid = dict(num_neurons=num_neurons)\n",
        "\n",
        "# call scikit grid search module\n",
        "grid = GridSearchCV(estimator=model_gridsearch, param_grid=param_grid, n_jobs=1, cv=4)\n",
        "grid_result = grid.fit(X_train,Y_train)\n",
        "\n",
        "# summarize results\n",
        "print(\"Best: %f using %s\" % (grid_result.best_score_, grid_result.best_params_))\n",
        "means = grid_result.cv_results_['mean_test_score']\n",
        "stds = grid_result.cv_results_['std_test_score']\n",
        "params = grid_result.cv_results_['params']\n",
        "for mean, stdev, param in zip(means, stds, params):\n",
        "    print(\"%f (%f) with: %r\" % (mean, stdev, param))"
      ]
    },
    {
      "cell_type": "markdown",
      "metadata": {
        "id": "RboZ3iHOwZ4k"
      },
      "source": [
        "## Creating CNNs with Keras\n",
        "\n",
        "We have so far considered each MNIST data sample as a $(28\\times 28,)$-long 1d vector. This approach neglects any spatial structure in the image. On the other hand, we do know that in every one of the hand-written digits there are *local* spatial correlations between the pixels, which we would like to take advantage of to improve the accuracy of our classification model. To this end, we first need to reshape the training and test input data as follows"
      ]
    },
    {
      "cell_type": "code",
      "execution_count": null,
      "metadata": {
        "id": "ohrHruXXwZ4k",
        "colab": {
          "base_uri": "https://localhost:8080/"
        },
        "outputId": "51457f94-75c7-4715-ab8f-e8b8b7fdf3c4"
      },
      "outputs": [
        {
          "output_type": "stream",
          "name": "stdout",
          "text": [
            "X_train shape: (40000, 28, 28, 1)\n",
            "Y_train shape: (40000, 10)\n",
            "\n",
            "40000 train samples\n",
            "10000 test samples\n"
          ]
        }
      ],
      "source": [
        "# reshape data, depending on Keras backend\n",
        "if keras.backend.image_data_format() == 'channels_first':\n",
        "    X_train = X_train.reshape(X_train.shape[0], 1, img_rows, img_cols)\n",
        "    X_test = X_test.reshape(X_test.shape[0], 1, img_rows, img_cols)\n",
        "    input_shape = (1, img_rows, img_cols)\n",
        "else:\n",
        "    X_train = X_train.reshape(X_train.shape[0], img_rows, img_cols, 1)\n",
        "    X_test = X_test.reshape(X_test.shape[0], img_rows, img_cols, 1)\n",
        "    input_shape = (img_rows, img_cols, 1)\n",
        "\n",
        "print('X_train shape:', X_train.shape)\n",
        "print('Y_train shape:', Y_train.shape)\n",
        "print()\n",
        "print(X_train.shape[0], 'train samples')\n",
        "print(X_test.shape[0], 'test samples')"
      ]
    },
    {
      "cell_type": "markdown",
      "metadata": {
        "id": "Qv2FCY3QwZ4k"
      },
      "source": [
        "One can ask the question of whether a neural net can learn to recognize such local patterns. This can be achieved by using convolutional layers. Luckily, all we need to do is change the architecture of our DNN.\n",
        "\n",
        "![alt text](https://drive.google.com/uc?id=1ZQFqg-GCRKufS4mMGcluqBquv7yCPKlX)\n",
        "\n",
        "After we instantiate the model, add the first convolutional layer with 10 filters, which is the dimensionality of output space. (https://keras.io/layers/convolutional/) Here, we will be concerned with local spatial filters\n",
        "that take as inputs a small spatial patch of the\n",
        "previous layer at all depths. We consider a three-dimensional kernel of size $5\\times5\\times1$. Check out this visualization of the\n",
        "convolution procedure for a square input of unit depth: https://github.com/vdumoulin/conv_arithmetic/blob/master/README.md\n",
        "The convolution consists of running this filter over all locations\n",
        "in the spatial plane. After computing the filter, the output is passed through\n",
        "a non-linearity, a ReLU."
      ]
    },
    {
      "cell_type": "code",
      "execution_count": null,
      "metadata": {
        "id": "k4WqY2xXwZ4k"
      },
      "outputs": [],
      "source": [
        "from keras.models import Sequential\n",
        "from keras.layers import Dense, Dropout, Flatten\n",
        "from keras.layers import Conv2D, MaxPooling2D\n",
        "\n",
        "model = Sequential()\n",
        "model.add(Conv2D(10, kernel_size=(5, 5),\n",
        "                 activation='relu',\n",
        "                 input_shape=input_shape))"
      ]
    },
    {
      "cell_type": "markdown",
      "metadata": {
        "id": "7fKz77eEwZ4l"
      },
      "source": [
        "Subsequently, add a 2D pooling layer. (https://keras.io/layers/pooling/) This pooling layer coarse-grain spatial information by performing\n",
        "a subsampling at each depth. Here, we use the the max pool operation. In a max pool, the spatial\n",
        "dimensions are coarse-grained by replacing a small region\n",
        "(say $2\\times2$ neurons) by a single neuron whose output is the\n",
        "maximum value of the output in the region."
      ]
    },
    {
      "cell_type": "code",
      "execution_count": null,
      "metadata": {
        "id": "2903eG8ywZ4l"
      },
      "outputs": [],
      "source": [
        "model.add(MaxPooling2D(pool_size=(2, 2)))"
      ]
    },
    {
      "cell_type": "markdown",
      "metadata": {
        "id": "2OqQykx1wZ4m"
      },
      "source": [
        "Add another convolutional layers with 20 filters and apply dropout. Then, add another pooling layer and flatten the data. You can do DNNs afterwards and compile the model."
      ]
    },
    {
      "cell_type": "code",
      "execution_count": null,
      "metadata": {
        "id": "5NNxEhZwwZ4m"
      },
      "outputs": [],
      "source": [
        "# add second convolutional layer with 20 filters\n",
        "model.add(Conv2D(20, (5, 5), activation='relu'))\n",
        "# apply dropout with rate 0.5\n",
        "model.add(Dropout(0.5))\n",
        "# add 2D pooling layer\n",
        "model.add(MaxPooling2D(pool_size=(2, 2)))\n",
        "# flatten data\n",
        "model.add(Flatten())\n",
        "# add a dense all-to-all relu layer\n",
        "model.add(Dense(20*4*4, activation='relu'))\n",
        "# apply dropout with rate 0.5\n",
        "model.add(Dropout(0.5))\n",
        "# soft-max layer\n",
        "model.add(Dense(num_classes, activation='softmax'))\n",
        "\n",
        "# compile the model\n",
        "model.compile(loss=keras.losses.categorical_crossentropy,\n",
        "              optimizer='Adam',\n",
        "              metrics=['accuracy'])\n"
      ]
    },
    {
      "cell_type": "markdown",
      "metadata": {
        "id": "zsefSJASwZ4m"
      },
      "source": [
        "Lastly, train your CNN and evaluate the model."
      ]
    },
    {
      "cell_type": "code",
      "execution_count": null,
      "metadata": {
        "id": "YFon0luzwZ4m",
        "colab": {
          "base_uri": "https://localhost:8080/"
        },
        "outputId": "e0d56eb0-625d-418b-a0b4-f0b43ac9f741"
      },
      "outputs": [
        {
          "output_type": "stream",
          "name": "stdout",
          "text": [
            "Epoch 1/10\n",
            "625/625 [==============================] - 28s 44ms/step - loss: 0.3411 - accuracy: 0.8929 - val_loss: 0.1234 - val_accuracy: 0.9682\n",
            "Epoch 2/10\n",
            "625/625 [==============================] - 30s 47ms/step - loss: 0.1257 - accuracy: 0.9610 - val_loss: 0.0638 - val_accuracy: 0.9834\n",
            "Epoch 3/10\n",
            "625/625 [==============================] - 31s 49ms/step - loss: 0.0951 - accuracy: 0.9705 - val_loss: 0.0562 - val_accuracy: 0.9863\n",
            "Epoch 4/10\n",
            "625/625 [==============================] - 26s 42ms/step - loss: 0.0739 - accuracy: 0.9774 - val_loss: 0.0478 - val_accuracy: 0.9893\n",
            "Epoch 5/10\n",
            "625/625 [==============================] - 26s 42ms/step - loss: 0.0639 - accuracy: 0.9799 - val_loss: 0.0441 - val_accuracy: 0.9891\n",
            "Epoch 6/10\n",
            "625/625 [==============================] - 26s 41ms/step - loss: 0.0565 - accuracy: 0.9823 - val_loss: 0.0375 - val_accuracy: 0.9898\n",
            "Epoch 7/10\n",
            "625/625 [==============================] - 26s 41ms/step - loss: 0.0514 - accuracy: 0.9838 - val_loss: 0.0334 - val_accuracy: 0.9909\n",
            "Epoch 8/10\n",
            "625/625 [==============================] - 29s 46ms/step - loss: 0.0473 - accuracy: 0.9847 - val_loss: 0.0339 - val_accuracy: 0.9909\n",
            "Epoch 9/10\n",
            "625/625 [==============================] - 26s 41ms/step - loss: 0.0420 - accuracy: 0.9866 - val_loss: 0.0375 - val_accuracy: 0.9894\n",
            "Epoch 10/10\n",
            "625/625 [==============================] - 27s 42ms/step - loss: 0.0409 - accuracy: 0.9870 - val_loss: 0.0284 - val_accuracy: 0.9920\n",
            "313/313 [==============================] - 3s 8ms/step - loss: 0.0284 - accuracy: 0.9920\n",
            "\n",
            "Test loss: 0.028404440730810165\n",
            "Test accuracy: 0.9919999837875366\n"
          ]
        }
      ],
      "source": [
        "# training parameters\n",
        "batch_size = 64\n",
        "epochs = 10\n",
        "\n",
        "\n",
        "# train CNN\n",
        "model.fit(X_train, Y_train,\n",
        "          batch_size=batch_size,\n",
        "          epochs=epochs,\n",
        "          verbose=1,\n",
        "          validation_data=(X_test, Y_test))\n",
        "\n",
        "# evaluate model\n",
        "score = model.evaluate(X_test, Y_test, verbose=1)\n",
        "\n",
        "# print performance\n",
        "print()\n",
        "print('Test loss:', score[0])\n",
        "print('Test accuracy:', score[1])"
      ]
    },
    {
      "cell_type": "markdown",
      "metadata": {
        "id": "PzRpFpGFwZ4n"
      },
      "source": [
        "<span style=\"color:blue\"> <i> 5. Do the grid search over any 3 different optimization schemes and 2 activation functions. Suppose that we have a 2 convolutional layers with 10 neurons. Let p_dropout = 0.5, epochs = 1, and batch_size = 64. Determine which combination of optimization scheme and activation function gives the best accuracy. </i></span> <br>\n"
      ]
    },
    {
      "cell_type": "code",
      "execution_count": null,
      "metadata": {
        "id": "XMvtAjhgwZ4n",
        "colab": {
          "base_uri": "https://localhost:8080/"
        },
        "outputId": "3b839329-e283-4f77-9131-0611bb3328d5"
      },
      "outputs": [
        {
          "output_type": "stream",
          "name": "stdout",
          "text": [
            "469/469 [==============================] - 42s 89ms/step - loss: 1.1140 - accuracy: 0.6221\n",
            "157/157 [==============================] - 4s 23ms/step - loss: 0.4556 - accuracy: 0.9134\n",
            "469/469 [==============================] - 37s 76ms/step - loss: 1.1261 - accuracy: 0.6201\n",
            "157/157 [==============================] - 3s 20ms/step - loss: 0.4821 - accuracy: 0.9110\n",
            "469/469 [==============================] - 36s 75ms/step - loss: 1.0701 - accuracy: 0.6407\n",
            "157/157 [==============================] - 3s 20ms/step - loss: 0.4895 - accuracy: 0.9169\n",
            "469/469 [==============================] - 36s 75ms/step - loss: 1.0060 - accuracy: 0.6640\n",
            "157/157 [==============================] - 3s 20ms/step - loss: 0.5196 - accuracy: 0.9017\n",
            "469/469 [==============================] - 38s 81ms/step - loss: 1.8278 - accuracy: 0.3760\n",
            "157/157 [==============================] - 3s 20ms/step - loss: 1.2579 - accuracy: 0.8007\n",
            "469/469 [==============================] - 36s 76ms/step - loss: 1.9584 - accuracy: 0.3115\n",
            "157/157 [==============================] - 3s 19ms/step - loss: 1.4540 - accuracy: 0.7601\n",
            "469/469 [==============================] - 36s 76ms/step - loss: 1.9016 - accuracy: 0.3443\n",
            "157/157 [==============================] - 3s 20ms/step - loss: 1.4229 - accuracy: 0.7743\n",
            "469/469 [==============================] - 36s 76ms/step - loss: 1.9494 - accuracy: 0.3208\n",
            "157/157 [==============================] - 3s 20ms/step - loss: 1.5128 - accuracy: 0.7304\n",
            "469/469 [==============================] - 38s 80ms/step - loss: 0.3614 - accuracy: 0.8864\n",
            "157/157 [==============================] - 3s 20ms/step - loss: 0.1393 - accuracy: 0.9708\n",
            "469/469 [==============================] - 36s 76ms/step - loss: 0.3254 - accuracy: 0.8980\n",
            "157/157 [==============================] - 3s 20ms/step - loss: 0.1147 - accuracy: 0.9721\n",
            "469/469 [==============================] - 36s 76ms/step - loss: 0.3299 - accuracy: 0.8994\n",
            "157/157 [==============================] - 3s 20ms/step - loss: 0.1288 - accuracy: 0.9720\n",
            "469/469 [==============================] - 36s 76ms/step - loss: 0.3578 - accuracy: 0.8908\n",
            "157/157 [==============================] - 3s 20ms/step - loss: 0.1285 - accuracy: 0.9699\n",
            "469/469 [==============================] - 39s 83ms/step - loss: 2.3775 - accuracy: 0.1010\n",
            "157/157 [==============================] - 3s 21ms/step - loss: 2.3088 - accuracy: 0.1127\n",
            "469/469 [==============================] - 38s 80ms/step - loss: 2.3783 - accuracy: 0.0987\n",
            "157/157 [==============================] - 4s 22ms/step - loss: 2.3057 - accuracy: 0.1154\n",
            "469/469 [==============================] - 38s 80ms/step - loss: 2.3847 - accuracy: 0.1016\n",
            "157/157 [==============================] - 4s 21ms/step - loss: 2.3102 - accuracy: 0.1014\n",
            "469/469 [==============================] - 38s 80ms/step - loss: 2.3747 - accuracy: 0.1038\n",
            "157/157 [==============================] - 4s 22ms/step - loss: 2.3032 - accuracy: 0.1146\n",
            "469/469 [==============================] - 40s 83ms/step - loss: 2.4751 - accuracy: 0.0975\n",
            "157/157 [==============================] - 4s 22ms/step - loss: 2.3179 - accuracy: 0.1032\n",
            "469/469 [==============================] - 37s 78ms/step - loss: 2.4344 - accuracy: 0.1014\n",
            "157/157 [==============================] - 3s 21ms/step - loss: 2.3130 - accuracy: 0.1044\n",
            "469/469 [==============================] - 37s 78ms/step - loss: 2.4508 - accuracy: 0.0996\n",
            "157/157 [==============================] - 3s 21ms/step - loss: 2.3131 - accuracy: 0.0967\n",
            "469/469 [==============================] - 37s 78ms/step - loss: 2.4740 - accuracy: 0.1006\n",
            "157/157 [==============================] - 4s 21ms/step - loss: 2.3210 - accuracy: 0.1018\n",
            "469/469 [==============================] - 40s 84ms/step - loss: 1.2794 - accuracy: 0.5587\n",
            "157/157 [==============================] - 4s 21ms/step - loss: 0.4134 - accuracy: 0.8977\n",
            "469/469 [==============================] - 38s 79ms/step - loss: 1.3682 - accuracy: 0.5178\n",
            "157/157 [==============================] - 3s 21ms/step - loss: 0.3936 - accuracy: 0.9046\n",
            "469/469 [==============================] - 38s 80ms/step - loss: 1.4505 - accuracy: 0.4830\n",
            "157/157 [==============================] - 4s 24ms/step - loss: 0.4363 - accuracy: 0.8896\n",
            "469/469 [==============================] - 38s 81ms/step - loss: 1.4788 - accuracy: 0.4691\n",
            "157/157 [==============================] - 3s 21ms/step - loss: 0.4842 - accuracy: 0.8858\n",
            "625/625 [==============================] - 50s 80ms/step - loss: 0.2982 - accuracy: 0.9079\n",
            "Best: 0.971200 using {'activation': 'relu', 'optimizer': 'Adam'}\n",
            "0.910750 (0.005630) with: {'activation': 'relu', 'optimizer': 'SGD'}\n",
            "0.766375 (0.025370) with: {'activation': 'relu', 'optimizer': 'Adagrad'}\n",
            "0.971200 (0.000908) with: {'activation': 'relu', 'optimizer': 'Adam'}\n",
            "0.111025 (0.005643) with: {'activation': 'sigmoid', 'optimizer': 'SGD'}\n",
            "0.101525 (0.002934) with: {'activation': 'sigmoid', 'optimizer': 'Adagrad'}\n",
            "0.894425 (0.007279) with: {'activation': 'sigmoid', 'optimizer': 'Adam'}\n"
          ]
        }
      ],
      "source": [
        "\n",
        "def create_cnn(activation,optimizer):\n",
        "    model = Sequential()\n",
        "    model.add(Conv2D(10, kernel_size=(5, 5), activation=activation,input_shape=input_shape))\n",
        "    model.add(Conv2D(10, (5, 5), activation=activation))\n",
        "    model.add(Dropout(0.5))\n",
        "    model.add(MaxPooling2D(pool_size=(2, 2)))\n",
        "    model.add(Flatten())\n",
        "    model.add(Dense(10*4*4, activation=activation))\n",
        "    model.add(Dropout(0.5))\n",
        "    # soft-max layer\n",
        "    model.add(Dense(num_classes, activation='softmax'))\n",
        "    model.compile(loss=keras.losses.categorical_crossentropy,\n",
        "              optimizer=optimizer,\n",
        "              metrics=['accuracy'])\n",
        "    return model\n",
        "\n",
        "batch_size = 64\n",
        "epochs = 1\n",
        "model_gridsearch = KerasClassifier(build_fn=create_cnn,\n",
        "                        epochs=epochs, batch_size=batch_size, verbose=1)\n",
        "\n",
        "# list of allowed optional arguments for the optimizer, see `compile_model()`\n",
        "activation = ['relu', 'sigmoid']\n",
        "optimizer = ['SGD', 'Adagrad', 'Adam']\n",
        "# define parameter dictionary\n",
        "param_grid = dict(activation=activation,optimizer=optimizer)\n",
        "\n",
        "# call scikit grid search module\n",
        "grid = GridSearchCV(estimator=model_gridsearch, param_grid=param_grid, n_jobs=1, cv=4)\n",
        "grid_result = grid.fit(X_train,Y_train)\n",
        "\n",
        "# summarize results\n",
        "print(\"Best: %f using %s\" % (grid_result.best_score_, grid_result.best_params_))\n",
        "means = grid_result.cv_results_['mean_test_score']\n",
        "stds = grid_result.cv_results_['std_test_score']\n",
        "params = grid_result.cv_results_['params']\n",
        "for mean, stdev, param in zip(means, stds, params):\n",
        "    print(\"%f (%f) with: %r\" % (mean, stdev, param))"
      ]
    },
    {
      "cell_type": "markdown",
      "metadata": {
        "id": "27SlQ2mCwZ4n"
      },
      "source": [
        "<span style=\"color:blue\"> <i> 6. Create an arbitrary DNN (you are free to choose any activation function, optimization scheme, etc) and evaluate its performance. Then, add two convolutional layers and pooling layers and evaluate its performance again. How do they compare? </i></span> <br>"
      ]
    },
    {
      "cell_type": "code",
      "source": [
        "def create_DNN():\n",
        "    model = Sequential()\n",
        "    model.add(Dense(400,input_shape=(img_rows*img_cols,), activation='relu'))\n",
        "    model.add(Dense(100, activation='relu'))\n",
        "    model.add(Dropout(0.5))\n",
        "    model.add(Dense(num_classes, activation='softmax'))\n",
        "    model.compile(loss=keras.losses.categorical_crossentropy,\n",
        "              optimizer=keras.optimizers.Adam(),\n",
        "              metrics=['accuracy'])\n",
        "    return model\n",
        "\n",
        "model1 = create_DNN()\n",
        "\n",
        "batch_size = 64\n",
        "epochs = 10\n",
        "\n",
        "# train CNN\n",
        "model1.fit(X_train.reshape((40000,784)), Y_train,\n",
        "          batch_size=batch_size,\n",
        "          epochs=epochs,\n",
        "          verbose=1,\n",
        "          validation_data=(X_test.reshape((10000,784)), Y_test))\n",
        "\n",
        "# evaliate model\n",
        "score = model1.evaluate(X_test.reshape((10000,784)), Y_test, verbose=1)\n",
        "\n",
        "# print performance\n",
        "print()\n",
        "print('Test loss:', score[0])\n",
        "print('Test accuracy:', score[1])"
      ],
      "metadata": {
        "colab": {
          "base_uri": "https://localhost:8080/"
        },
        "id": "np3IBy4g_GZk",
        "outputId": "756db3a2-5378-49e7-c72f-cd412061707f"
      },
      "execution_count": null,
      "outputs": [
        {
          "output_type": "stream",
          "name": "stdout",
          "text": [
            "Epoch 1/10\n",
            "625/625 [==============================] - 6s 8ms/step - loss: 0.3757 - accuracy: 0.8904 - val_loss: 0.1408 - val_accuracy: 0.9584\n",
            "Epoch 2/10\n",
            "625/625 [==============================] - 5s 7ms/step - loss: 0.1547 - accuracy: 0.9563 - val_loss: 0.1173 - val_accuracy: 0.9630\n",
            "Epoch 3/10\n",
            "625/625 [==============================] - 5s 8ms/step - loss: 0.1076 - accuracy: 0.9691 - val_loss: 0.0901 - val_accuracy: 0.9742\n",
            "Epoch 4/10\n",
            "625/625 [==============================] - 5s 8ms/step - loss: 0.0815 - accuracy: 0.9754 - val_loss: 0.0879 - val_accuracy: 0.9741\n",
            "Epoch 5/10\n",
            "625/625 [==============================] - 5s 8ms/step - loss: 0.0651 - accuracy: 0.9805 - val_loss: 0.0870 - val_accuracy: 0.9752\n",
            "Epoch 6/10\n",
            "625/625 [==============================] - 5s 8ms/step - loss: 0.0514 - accuracy: 0.9844 - val_loss: 0.0816 - val_accuracy: 0.9758\n",
            "Epoch 7/10\n",
            "625/625 [==============================] - 5s 8ms/step - loss: 0.0411 - accuracy: 0.9875 - val_loss: 0.0885 - val_accuracy: 0.9774\n",
            "Epoch 8/10\n",
            "625/625 [==============================] - 5s 8ms/step - loss: 0.0356 - accuracy: 0.9889 - val_loss: 0.0847 - val_accuracy: 0.9783\n",
            "Epoch 9/10\n",
            "625/625 [==============================] - 5s 8ms/step - loss: 0.0323 - accuracy: 0.9898 - val_loss: 0.0848 - val_accuracy: 0.9784\n",
            "Epoch 10/10\n",
            "625/625 [==============================] - 5s 8ms/step - loss: 0.0284 - accuracy: 0.9906 - val_loss: 0.0897 - val_accuracy: 0.9777\n",
            "313/313 [==============================] - 1s 3ms/step - loss: 0.0897 - accuracy: 0.9777\n",
            "\n",
            "Test loss: 0.08972260355949402\n",
            "Test accuracy: 0.9776999950408936\n"
          ]
        }
      ]
    },
    {
      "cell_type": "code",
      "execution_count": null,
      "metadata": {
        "id": "f46ezF1pwZ4n",
        "colab": {
          "base_uri": "https://localhost:8080/"
        },
        "outputId": "66b10d06-dc7f-47f8-ab24-b3070f6f849c"
      },
      "outputs": [
        {
          "output_type": "stream",
          "name": "stdout",
          "text": [
            "Epoch 1/10\n",
            "625/625 [==============================] - 51s 80ms/step - loss: 0.2875 - accuracy: 0.9117 - val_loss: 0.1064 - val_accuracy: 0.9761\n",
            "Epoch 2/10\n",
            "625/625 [==============================] - 52s 83ms/step - loss: 0.1079 - accuracy: 0.9677 - val_loss: 0.0654 - val_accuracy: 0.9830\n",
            "Epoch 3/10\n",
            "625/625 [==============================] - 50s 80ms/step - loss: 0.0827 - accuracy: 0.9747 - val_loss: 0.0565 - val_accuracy: 0.9838\n",
            "Epoch 4/10\n",
            "625/625 [==============================] - 50s 81ms/step - loss: 0.0688 - accuracy: 0.9790 - val_loss: 0.0431 - val_accuracy: 0.9878\n",
            "Epoch 5/10\n",
            "625/625 [==============================] - 53s 84ms/step - loss: 0.0598 - accuracy: 0.9813 - val_loss: 0.0407 - val_accuracy: 0.9887\n",
            "Epoch 6/10\n",
            "625/625 [==============================] - 50s 80ms/step - loss: 0.0508 - accuracy: 0.9844 - val_loss: 0.0365 - val_accuracy: 0.9888\n",
            "Epoch 7/10\n",
            "625/625 [==============================] - 50s 81ms/step - loss: 0.0475 - accuracy: 0.9857 - val_loss: 0.0352 - val_accuracy: 0.9886\n",
            "Epoch 8/10\n",
            "625/625 [==============================] - 50s 80ms/step - loss: 0.0448 - accuracy: 0.9855 - val_loss: 0.0331 - val_accuracy: 0.9893\n",
            "Epoch 9/10\n",
            "625/625 [==============================] - 52s 84ms/step - loss: 0.0416 - accuracy: 0.9868 - val_loss: 0.0348 - val_accuracy: 0.9884\n",
            "Epoch 10/10\n",
            "625/625 [==============================] - 51s 81ms/step - loss: 0.0361 - accuracy: 0.9886 - val_loss: 0.0324 - val_accuracy: 0.9892\n",
            "313/313 [==============================] - 4s 12ms/step - loss: 0.0324 - accuracy: 0.9892\n",
            "\n",
            "Test loss: 0.032370273023843765\n",
            "Test accuracy: 0.9891999959945679\n"
          ]
        }
      ],
      "source": [
        "def create_cnn6b():\n",
        "    model = Sequential()\n",
        "    model.add(Conv2D(10, kernel_size=(5, 5), activation='relu',input_shape=input_shape))\n",
        "    model.add(Conv2D(10, (5, 5), activation='relu'))\n",
        "    model.add(Dropout(0.5))\n",
        "    model.add(MaxPooling2D(pool_size=(2, 2)))\n",
        "    model.add(Flatten())\n",
        "    model.add(Dense(10*4*4, activation='relu'))\n",
        "    model.add(Dropout(0.5))\n",
        "    # soft-max layer\n",
        "    model.add(Dense(num_classes, activation='softmax'))\n",
        "    model.compile(loss=keras.losses.categorical_crossentropy,\n",
        "              optimizer=keras.optimizers.Adam(),\n",
        "              metrics=['accuracy'])\n",
        "    return model\n",
        "\n",
        "model2 = create_cnn6b()\n",
        "\n",
        "batch_size = 64\n",
        "epochs = 10\n",
        "\n",
        "# train CNN\n",
        "model2.fit(X_train, Y_train,\n",
        "          batch_size=batch_size,\n",
        "          epochs=epochs,\n",
        "          verbose=1,\n",
        "          validation_data=(X_test, Y_test))\n",
        "\n",
        "# evaluate model\n",
        "score = model2.evaluate(X_test, Y_test, verbose=1)\n",
        "\n",
        "# print performance\n",
        "print()\n",
        "print('Test loss:', score[0])\n",
        "print('Test accuracy:', score[1])"
      ]
    },
    {
      "cell_type": "markdown",
      "source": [
        "**The performance of CNNs is better by 2%**"
      ],
      "metadata": {
        "id": "u9HvVckoE3pj"
      }
    },
    {
      "cell_type": "markdown",
      "metadata": {
        "id": "eldgXOmWwZ4n"
      },
      "source": [
        "#### Problem 2 - Using Tensorflow - Ising Model\n",
        "\n",
        "Next, we show how one can use deep neural nets to classify the states of the 2D Ising model according to their phase. This should be compared with the use of logistic-regression in earlier HW.\n",
        "\n",
        "The Hamiltonian for the classical Ising model is given by\n",
        "\n",
        "$$ H = -J\\sum_{\\langle ij\\rangle}S_{i}S_j,\\qquad \\qquad S_j\\in\\{\\pm 1\\} $$\n",
        "\n",
        "where the lattice site indices $i,j$ run over all nearest neighbors of a 2D square lattice, and $J$ is some arbitrary interaction energy scale. We adopt periodic boundary conditions. Onsager proved that this model undergoes a phase transition in the thermodynamic limit from an ordered ferromagnet with all spins aligned to a disordered phase at the critical temperature $T_c/J=2/\\log(1+\\sqrt{2})\\approx 2.26$. For any finite system size, this critical point is expanded to a critical region around $T_c$."
      ]
    },
    {
      "cell_type": "markdown",
      "metadata": {
        "id": "qyYP4sNTwZ4o"
      },
      "source": [
        "### Step 1: Load and Process the Data\n",
        "\n",
        "We begin by writing a `DataSet` class and two functions `read_data_sets` and `load_data` to process the 2D Ising data.\n",
        "\n",
        "The `DataSet` class performs checks on the data shape and casts the data into the correct data type for the calculation. It contains a function method called `next_batch` which shuffles the data and returns a mini-batch of a pre-defined size. This structure is particularly useful for the training procedure in TensorFlow."
      ]
    },
    {
      "cell_type": "code",
      "execution_count": null,
      "metadata": {
        "id": "3ZlfFZobwZ4o"
      },
      "outputs": [],
      "source": [
        "# -*- coding: utf-8 -*-\n",
        "from __future__ import absolute_import, division, print_function\n",
        "import numpy as np\n",
        "seed=12\n",
        "np.random.seed(seed)\n",
        "import sys, os, argparse\n",
        "import tensorflow as tf\n",
        "from tensorflow.python.framework import dtypes\n",
        "# suppress tflow compilation warnings\n",
        "os.environ['TF_CPP_MIN_LOG_LEVEL'] = '2'\n",
        "\n",
        "tf.random.set_seed(seed)\n"
      ]
    },
    {
      "cell_type": "code",
      "execution_count": null,
      "metadata": {
        "id": "vHU4ta4kwZ4o"
      },
      "outputs": [],
      "source": [
        "class DataSet(object):\n",
        "\n",
        "    def __init__(self,data_X,data_Y,dtype=dtypes.float32):\n",
        "        \"\"\"Checks data and casts it into correct data type. \"\"\"\n",
        "\n",
        "        dtype = dtypes.as_dtype(dtype).base_dtype\n",
        "        if dtype not in (dtypes.uint8, dtypes.float32):\n",
        "            raise TypeError('Invalid dtype %r, expected uint8 or float32' % dtype)\n",
        "\n",
        "        assert data_X.shape[0] == data_Y.shape[0], ('data_X.shape: %s data_Y.shape: %s' % (data_X.shape, data_Y.shape))\n",
        "        self.num_examples = data_X.shape[0]\n",
        "\n",
        "        if dtype == dtypes.float32:\n",
        "            data_X = data_X.astype(np.float32)\n",
        "        self.data_X = data_X\n",
        "        self.data_Y = data_Y\n",
        "\n",
        "        self.epochs_completed = 0\n",
        "        self.index_in_epoch = 0\n",
        "\n",
        "    def next_batch(self, batch_size, seed=None):\n",
        "        \"\"\"Return the next `batch_size` examples from this data set.\"\"\"\n",
        "\n",
        "        if seed:\n",
        "            np.random.seed(seed)\n",
        "\n",
        "        start = self.index_in_epoch\n",
        "        self.index_in_epoch += batch_size\n",
        "        if self.index_in_epoch > self.num_examples:\n",
        "            # Finished epoch\n",
        "            self.epochs_completed += 1\n",
        "            # Shuffle the data\n",
        "            perm = np.arange(self.num_examples)\n",
        "            np.random.shuffle(perm)\n",
        "            self.data_X = self.data_X[perm]\n",
        "            self.data_Y = self.data_Y[perm]\n",
        "            # Start next epoch\n",
        "            start = 0\n",
        "            self.index_in_epoch = batch_size\n",
        "            assert batch_size <= self.num_examples\n",
        "        end = self.index_in_epoch\n",
        "\n",
        "        return self.data_X[start:end], self.data_Y[start:end]"
      ]
    },
    {
      "cell_type": "markdown",
      "metadata": {
        "id": "uj4O8CxjwZ4p"
      },
      "source": [
        "Now, load the Ising dataset, and splits it into three subsets: ordered, critical and disordered, depending on the temperature which sets the distribution they are drawn from. Once again, we use the ordered and disordered data to create a training and a test data set for the problem. Classifying the states in the critical region is expected to be harder and we only use this data to test the performance of our model in the end."
      ]
    },
    {
      "cell_type": "code",
      "execution_count": null,
      "metadata": {
        "id": "-suxLkhVwZ4p"
      },
      "outputs": [],
      "source": [
        "\n",
        "import pickle\n",
        "from sklearn.model_selection import train_test_split\n",
        "from keras.utils import to_categorical\n",
        "import collections\n",
        "\n",
        "L=40 # linear system size\n",
        "\n",
        "# load data\n",
        "fac = 25\n",
        "file_name = \"/content/drive/My Drive/P188_288/P188_288_Project3/Ising2DFM_reSample_L40_T=All.pkl\" # this file contains 16*10000 samples taken in T=np.arange(0.25,4.0001,0.25)\n",
        "data = pickle.load(open(file_name,'rb')) # pickle reads the file and returns the Python object (1D array, compressed bits)\n",
        "data = data[::fac]\n",
        "data = np.unpackbits(data).reshape(-1, 1600) # Decompress array and reshape for convenience\n",
        "data=data.astype('int')\n",
        "data[np.where(data==0)]=-1 # map 0 state to -1 (Ising variable can take values +/-1)\n",
        "\n",
        "file_name = \"/content/drive/My Drive/P188_288/P188_288_Project3/Ising2DFM_reSample_L40_T=All_labels.pkl\" # this file contains 16*10000 samples taken in T=np.arange(0.25,4.0001,0.25)\n",
        "labels = pickle.load(open(file_name,'rb')) # pickle reads the file and returns the Python object (here just a 1D array with the binary labels)\n",
        "\n",
        "# divide data into ordered, critical and disordered\n",
        "X_ordered=data[:int(70000/fac),:]\n",
        "Y_ordered=labels[:70000][::fac]\n",
        "\n",
        "X_critical=data[int(70000/fac):int(100000/fac),:]\n",
        "Y_critical=labels[70000:100000][::fac]\n",
        "\n",
        "X_disordered=data[int(100000/fac):,:]\n",
        "Y_disordered=labels[100000:][::fac]\n",
        "\n",
        "del data,labels\n",
        "\n",
        "# define training and test data sets\n",
        "X=np.concatenate((X_ordered,X_disordered)) #np.concatenate((X_ordered,X_critical,X_disordered))\n",
        "Y=np.concatenate((Y_ordered,Y_disordered)) #np.concatenate((Y_ordered,Y_critical,Y_disordered))\n",
        "\n",
        "del X_ordered, X_disordered, Y_ordered, Y_disordered\n"
      ]
    },
    {
      "cell_type": "code",
      "execution_count": null,
      "metadata": {
        "id": "5qJjA8o5wZ4p"
      },
      "outputs": [],
      "source": [
        "# pick random data points from ordered and disordered states to create the training and test sets\n",
        "X_train,X_test,Y_train,Y_test=train_test_split(X,Y,train_size=0.6)\n",
        "\n",
        "\n",
        "# make data categorical\n",
        "Y_train=to_categorical(Y_train)\n",
        "Y_test=to_categorical(Y_test)\n",
        "Y_critical=to_categorical(Y_critical)\n",
        "\n",
        "\n",
        "# create data sets\n",
        "train = DataSet(X_train, Y_train, dtype=dtypes.float32)\n",
        "test = DataSet(X_test, Y_test, dtype=dtypes.float32)\n",
        "critical = DataSet(X_critical, Y_critical, dtype=dtypes.float32)\n",
        "\n",
        "Datasets = collections.namedtuple('Datasets', ['train', 'test', 'critical'])\n",
        "Dataset = Datasets(train=train, test=test, critical=critical)"
      ]
    },
    {
      "cell_type": "markdown",
      "metadata": {
        "id": "L_yl5UP5wZ4p"
      },
      "source": [
        "You can load the training data in the following way: (Dataset.train.data_X, Dataset.train.data_Y)."
      ]
    },
    {
      "cell_type": "markdown",
      "metadata": {
        "id": "uEJYHdkRwZ4q"
      },
      "source": [
        "### Steps 2+3: Define the Neural Net and its Architecture, Choose the Optimizer and the Cost Function\n",
        "\n",
        "We can now move on to construct our deep neural net using TensorFlow.\n",
        "\n",
        "Unique for TensorFlow is creating placeholders for the variables of the model, such as the feed-in data `X` and `Y` or the dropout probability `dropout_keepprob` (which has to be set to unity explicitly during testing). Another peculiarity is using the `with` scope to give names to the most important operators. While we do not discuss this here, TensorFlow also allows one to visualise the computational graph for the model (see package documentation on [https://www.tensorflow.org/](https://www.tensorflow.org/)).\n",
        "\n",
        "The shape of X is only partially defined. We know that it will be a matrix, with instances along the first dimension and features along the second dimension, and we know that the number of features is going to be $28\\times28$, but we don't know yet how many instances each training batch will contain. So the shape of X is (None, n_inputs). Similarly, we know that Y will be a vector with one entry per instance, but again we don't know the size of the training batch, so the shape is (None)."
      ]
    },
    {
      "cell_type": "code",
      "execution_count": null,
      "metadata": {
        "id": "qJ3j4dQ5wZ4q",
        "colab": {
          "base_uri": "https://localhost:8080/"
        },
        "outputId": "3165115f-7382-4468-8da4-3e7dcace1969"
      },
      "outputs": [
        {
          "output_type": "stream",
          "name": "stderr",
          "text": [
            "WARNING:tensorflow:From /usr/local/lib/python3.8/dist-packages/tensorflow/python/compat/v2_compat.py:107: disable_resource_variables (from tensorflow.python.ops.variable_scope) is deprecated and will be removed in a future version.\n",
            "Instructions for updating:\n",
            "non-resource variables are not supported in the long term\n"
          ]
        }
      ],
      "source": [
        "import tensorflow.compat.v1 as tf\n",
        "tf.disable_v2_behavior()\n",
        "\n",
        "L=40 # system linear size\n",
        "n_feats=L**2 # 40x40 square lattice\n",
        "n_categories=2 # 2 Ising phases: ordered and disordered\n",
        "\n",
        "n_hidden1 = 300\n",
        "n_hidden2 = 100\n",
        "n_outputs = 2\n",
        "\n",
        "with tf.name_scope('data'):\n",
        "    X=tf.placeholder(tf.float32, shape=(None,n_feats))\n",
        "    Y=tf.placeholder(tf.float32, shape=(None,n_categories))\n",
        "    dropout_keepprob=tf.placeholder(tf.float32)\n"
      ]
    },
    {
      "cell_type": "markdown",
      "metadata": {
        "id": "5NtUigflwZ4q"
      },
      "source": [
        "To classify whether a given spin configuration is in the ordered or disordered phase, we construct a minimalistic model for a DNN with a single hidden layer containing $N_\\mathrm{neurons}$ (which is kept variable so we can try out the performance of different sizes for the hidden layer).\n",
        "\n",
        "Let us use a neuron_layer() function to create layers in the neural nets.\n",
        "\n",
        "1. First, create a name scope using the name of the layer.\n",
        "2. Get the number of inputs by looking up the input matrix's shape and getting the size of the second dimension.\n",
        "3. Create a $W$ variable which holds the weight matrix (i.e. kernel).  Initialize it randomly, using a truncated normal distribution.\n",
        "4. Create a $b$ variable for biases, initialized to 0.\n",
        "5. Create a subgraph to compute $Z=XW+b$\n",
        "6. Use activation function if provided."
      ]
    },
    {
      "cell_type": "code",
      "execution_count": null,
      "metadata": {
        "id": "83iX23JuwZ4r"
      },
      "outputs": [],
      "source": [
        "def neuron_layer(X, n_neuron, name, activation = None):\n",
        "    with tf.name_scope(name):\n",
        "        n_inputs = int(X.get_shape()[1])\n",
        "        stddev = 2 / np.sqrt(n_inputs + n_neuron)\n",
        "        init = tf.truncated_normal((n_inputs, n_neuron), stddev = stddev)\n",
        "        W = tf.Variable(init, name = \"kernel\")\n",
        "        b = tf.Variable(tf.zeros([n_neuron]), name = \"bias\")\n",
        "        Z = tf.matmul(X, W) + b\n",
        "        if activation is not None:\n",
        "            return activation(Z)\n",
        "        else:\n",
        "            return Z"
      ]
    },
    {
      "cell_type": "markdown",
      "metadata": {
        "id": "Vg99CcKbwZ4r"
      },
      "source": [
        "Using a neuron_layer() function, create two hidden layers and an output layer. The first hidden layer takes X as its input, and the second takes the output of the first hidden layer as its input. Finally, the output layer takes the output of the second hidden layer as its input.\n"
      ]
    },
    {
      "cell_type": "code",
      "execution_count": null,
      "metadata": {
        "id": "uUfT7HNRwZ4r"
      },
      "outputs": [],
      "source": [
        "with tf.name_scope(\"dnn\"):\n",
        "    hidden1 = tf.layers.dense(X, n_hidden1, activation = tf.nn.relu)\n",
        "    hidden2 = tf.layers.dense(hidden1, n_hidden2, activation = tf.nn.relu)\n",
        "    logits = tf.layers.dense(hidden2, n_outputs)"
      ]
    },
    {
      "cell_type": "markdown",
      "metadata": {
        "id": "kqS3vNlrwZ4r"
      },
      "source": [
        "Then, define the cost function that we will use to train the neural net model. Here, use the cross entropy to penalize models that estimate a low probability for the target class."
      ]
    },
    {
      "cell_type": "code",
      "execution_count": null,
      "metadata": {
        "id": "TpD6qx2jwZ4s",
        "colab": {
          "base_uri": "https://localhost:8080/"
        },
        "outputId": "9e6f81e9-cdcd-4017-d1d9-799d936388da"
      },
      "outputs": [
        {
          "output_type": "stream",
          "name": "stderr",
          "text": [
            "WARNING:tensorflow:From /usr/local/lib/python3.8/dist-packages/tensorflow/python/util/dispatch.py:1082: softmax_cross_entropy_with_logits (from tensorflow.python.ops.nn_ops) is deprecated and will be removed in a future version.\n",
            "Instructions for updating:\n",
            "\n",
            "Future major versions of TensorFlow will allow gradients to flow\n",
            "into the labels input on backprop by default.\n",
            "\n",
            "See `tf.nn.softmax_cross_entropy_with_logits_v2`.\n",
            "\n"
          ]
        }
      ],
      "source": [
        "with tf.name_scope('loss'):\n",
        "    xentropy = tf.nn.softmax_cross_entropy_with_logits(labels = Y, logits = logits)\n",
        "    loss = tf.reduce_mean(xentropy)"
      ]
    },
    {
      "cell_type": "markdown",
      "metadata": {
        "id": "igdaHRMHwZ4s"
      },
      "source": [
        "Then, define a GradientDescentOptimizer that will tweak the model parameters to minimize the cost function. Now, set learning_rate = 1e-6."
      ]
    },
    {
      "cell_type": "code",
      "execution_count": null,
      "metadata": {
        "id": "tGNMFmCxwZ4s"
      },
      "outputs": [],
      "source": [
        "learning_rate = 1e-6\n",
        "with tf.name_scope('optimiser'):\n",
        "    optimizer = tf.train.GradientDescentOptimizer(learning_rate).minimize(loss)\n",
        ""
      ]
    },
    {
      "cell_type": "markdown",
      "metadata": {
        "id": "7y-EdTvnwZ4s"
      },
      "source": [
        "Lastly, specify how to evaluate the model. Let us simply use accuracy as our performance measure."
      ]
    },
    {
      "cell_type": "code",
      "execution_count": null,
      "metadata": {
        "id": "49KQPnXYwZ4t"
      },
      "outputs": [],
      "source": [
        "\n",
        "with tf.name_scope('accuracy'):\n",
        "    correct_prediction = tf.equal(tf.argmax(Y, 1), tf.argmax(logits, 1))\n",
        "    correct_prediction = tf.cast(correct_prediction, tf.float64) # change data type\n",
        "#     correct_prediction = tf.nn.in_top_k(logits, Y, 1)\n",
        "    accuracy = tf.reduce_mean(correct_prediction)\n",
        ""
      ]
    },
    {
      "cell_type": "markdown",
      "metadata": {
        "id": "wh4zEYbnwZ4t"
      },
      "source": [
        "### Steps 4+5: Train the Model and Evaluate its Performance\n",
        "\n",
        "We train our DNN using mini-batches of size $100$ over a total of $100$ epochs, which we define first. We then set up the optimizer parameter dictionary `opt_params`, and use it to create a DNN model.\n",
        "\n",
        "Running TensorFlow requires opening up a `Session` which we abbreviate as `sess` for short. All operations are performed in this session by calling the `run` method. First, we initialize the global variables in TensorFlow's computational graph by running the `global_variables_initializer`. To train the DNN, we loop over the number of epochs. In each fix epoch, we use the `next_batch` function of the `DataSet` class we defined above to create a mini-batch. The forward and backward passes through the weights are performed by running the `loss` and `optimizer` methods. To pass the mini-batch as well as any other external parameters, we use the `feed_dict` dictionary. Similarly, we evaluate the model performance, by getting `accuracy` on the same minibatch data. Note that the dropout probability for testing is set to unity.\n",
        "\n",
        "Once we have exhausted all training epochs, we test the final performance on the entire training, test and critical data sets. This is done in the same way as above.\n",
        "\n",
        "Last, we return the loss and accuracy for each of the training, test and critical data sets."
      ]
    },
    {
      "cell_type": "code",
      "execution_count": null,
      "metadata": {
        "id": "PXUGkdFMwZ4t",
        "colab": {
          "base_uri": "https://localhost:8080/"
        },
        "outputId": "829bbe9a-dab0-4a7f-e722-1974fc6eabeb"
      },
      "outputs": [
        {
          "output_type": "stream",
          "name": "stdout",
          "text": [
            "train loss/accuracy: 0.9951643 0.5605769230769231\n",
            "test loss/accuracy: 1.0421257 0.5375\n",
            "crtitical loss/accuracy: 0.80687237 0.6633333333333333\n"
          ]
        }
      ],
      "source": [
        "training_epochs=100\n",
        "batch_size=100\n",
        "\n",
        "with tf.Session() as sess:\n",
        "\n",
        "    # initialize the necessary variables, in this case, w and b\n",
        "    sess.run(tf.global_variables_initializer())\n",
        "\n",
        "    # train the DNN\n",
        "    for epoch in range(training_epochs):\n",
        "\n",
        "        batch_X, batch_Y = Dataset.train.next_batch(batch_size)\n",
        "\n",
        "        sess.run(optimizer, feed_dict={X: batch_X,Y: batch_Y,dropout_keepprob: 0.5})\n",
        "\n",
        "\n",
        "    # test DNN performance on entire train test and critical data sets\n",
        "    train_loss, train_accuracy = sess.run([loss, accuracy],\n",
        "                                                feed_dict={X: Dataset.train.data_X,\n",
        "                                                           Y: Dataset.train.data_Y,\n",
        "                                                           dropout_keepprob: 0.5}\n",
        "                                                            )\n",
        "    print(\"train loss/accuracy:\", train_loss, train_accuracy)\n",
        "\n",
        "    test_loss, test_accuracy = sess.run([loss, accuracy],\n",
        "                                                feed_dict={X: Dataset.test.data_X,\n",
        "                                                           Y: Dataset.test.data_Y,\n",
        "                                                           dropout_keepprob: 1.0}\n",
        "                                                           )\n",
        "\n",
        "    print(\"test loss/accuracy:\", test_loss, test_accuracy)\n",
        "\n",
        "    critical_loss, critical_accuracy = sess.run([loss, accuracy],\n",
        "                                                feed_dict={X: Dataset.critical.data_X,\n",
        "                                                           Y: Dataset.critical.data_Y,\n",
        "                                                           dropout_keepprob: 1.0}\n",
        "                                                           )\n",
        "    print(\"crtitical loss/accuracy:\", critical_loss, critical_accuracy)\n",
        "\n"
      ]
    },
    {
      "cell_type": "markdown",
      "metadata": {
        "id": "yE_n9SNJwZ4u"
      },
      "source": [
        "### Step 6: Modify the Hyperparameters to Optimize Performance of the Model\n",
        "\n",
        "To study the dependence of our DNN on some of the hyperparameters, we do a grid search over the number of neurons (initially set as 100) in the hidden layer, and different SGD learning rates (initially set as 1e-6). These searches are best done over logarithmically-spaced points.\n",
        "\n",
        "To do this, define a function for creating a DNN model: `create_DNN` and for evaluating the performance: `evaluate_model`.\n",
        "\n",
        "The function `grid_search` will output 2D heat map to show how accuracy changes with learning rate and number of neurons."
      ]
    },
    {
      "cell_type": "code",
      "execution_count": null,
      "metadata": {
        "id": "q9EB4eevwZ4u"
      },
      "outputs": [],
      "source": [
        "def create_DNN(n_hidden1=100, n_hidden2=100, learning_rate=1e-6):\n",
        "    with tf.name_scope('data'):\n",
        "        X=tf.placeholder(tf.float32, shape=(None,n_feats))\n",
        "        Y=tf.placeholder(tf.float32, shape=(None,n_categories))\n",
        "        dropout_keepprob=tf.placeholder(tf.float32)\n",
        "\n",
        "    with tf.name_scope(\"dnn\"):\n",
        "        hidden1 = tf.layers.dense(X, n_hidden1, activation = tf.nn.relu)\n",
        "        hidden2 = tf.layers.dense(hidden1, n_hidden2, activation = tf.nn.relu)\n",
        "        logits = tf.layers.dense(hidden2, n_outputs)\n",
        "\n",
        "    with tf.name_scope('loss'):\n",
        "        xentropy = tf.nn.softmax_cross_entropy_with_logits(labels = Y, logits = logits)\n",
        "        loss = tf.reduce_mean(xentropy)\n",
        "\n",
        "    with tf.name_scope('optimiser'):\n",
        "        optimizer = tf.train.GradientDescentOptimizer(learning_rate).minimize(loss)\n",
        "\n",
        "    with tf.name_scope('accuracy'):\n",
        "        correct_prediction = tf.equal(tf.argmax(Y, 1), tf.argmax(logits, 1))\n",
        "        correct_prediction = tf.cast(correct_prediction, tf.float64) # change data type\n",
        "    #     correct_prediction = tf.nn.in_top_k(logits, Y, 1)\n",
        "        accuracy = tf.reduce_mean(correct_prediction)\n",
        "\n",
        "    return X, Y, dropout_keepprob, loss, optimizer, accuracy\n"
      ]
    },
    {
      "cell_type": "code",
      "execution_count": null,
      "metadata": {
        "id": "JywvEAycwZ4u"
      },
      "outputs": [],
      "source": [
        "def evaluate_model(neurons,lr):\n",
        "\n",
        "    training_epochs=100\n",
        "    batch_size=100\n",
        "\n",
        "\n",
        "    X, Y, dropout_keepprob, loss, optimizer, accuracy = create_DNN(n_hidden1=neurons, n_hidden2=neurons, learning_rate=lr)\n",
        "    with tf.Session() as sess:\n",
        "\n",
        "        # initialize the necessary variables, in this case, w and b\n",
        "        sess.run(tf.global_variables_initializer())\n",
        "\n",
        "        # train the DNN\n",
        "        for epoch in range(training_epochs):\n",
        "\n",
        "            batch_X, batch_Y = Dataset.train.next_batch(batch_size)\n",
        "\n",
        "            sess.run(optimizer, feed_dict={X: batch_X,Y: batch_Y,dropout_keepprob: 0.5})\n",
        "\n",
        "\n",
        "        # test DNN performance on entire train test and critical data sets\n",
        "        train_loss, train_accuracy = sess.run([loss, accuracy],\n",
        "                                                    feed_dict={X: Dataset.train.data_X,\n",
        "                                                               Y: Dataset.train.data_Y,\n",
        "                                                               dropout_keepprob: 0.5}\n",
        "                                                                )\n",
        "        print(\"train loss/accuracy:\", train_loss, train_accuracy)\n",
        "\n",
        "        test_loss, test_accuracy = sess.run([loss, accuracy],\n",
        "                                                    feed_dict={X: Dataset.test.data_X,\n",
        "                                                               Y: Dataset.test.data_Y,\n",
        "                                                               dropout_keepprob: 1.0}\n",
        "                                                               )\n",
        "\n",
        "        print(\"test loss/accuracy:\", test_loss, test_accuracy)\n",
        "\n",
        "        critical_loss, critical_accuracy = sess.run([loss, accuracy],\n",
        "                                                    feed_dict={X: Dataset.critical.data_X,\n",
        "                                                               Y: Dataset.critical.data_Y,\n",
        "                                                               dropout_keepprob: 1.0}\n",
        "                                                               )\n",
        "        print(\"crtitical loss/accuracy:\", critical_loss, critical_accuracy)\n",
        "\n",
        "    return train_loss,train_accuracy,test_loss,test_accuracy,critical_loss,critical_accuracy"
      ]
    },
    {
      "cell_type": "code",
      "execution_count": null,
      "metadata": {
        "id": "lJ0y82dXwZ4v"
      },
      "outputs": [],
      "source": [
        "def grid_search():\n",
        "    \"\"\"This function performs a grid search over a set of different learning rates\n",
        "    and a number of hidden layer neurons.\"\"\"\n",
        "\n",
        "    # perform grid search over learnign rate and number of hidden neurons\n",
        "    N_neurons=[100, 200, 300, 400, 500]\n",
        "    learning_rates=np.logspace(-6,-1,6)\n",
        "\n",
        "    # pre-alocate variables to store accuracy and loss data\n",
        "    train_loss=np.zeros((len(N_neurons),len(learning_rates)),dtype=np.float64)\n",
        "    train_accuracy=np.zeros_like(train_loss)\n",
        "    test_loss=np.zeros_like(train_loss)\n",
        "    test_accuracy=np.zeros_like(train_loss)\n",
        "    critical_loss=np.zeros_like(train_loss)\n",
        "    critical_accuracy=np.zeros_like(train_loss)\n",
        "\n",
        "    # do grid search\n",
        "    for i, neurons in enumerate(N_neurons):\n",
        "        for j, lr in enumerate(learning_rates):\n",
        "\n",
        "            print(\"training DNN with %4d neurons and SGD lr=%0.6f.\" %(neurons,lr) )\n",
        "\n",
        "            train_loss[i,j],train_accuracy[i,j],\\\n",
        "            test_loss[i,j],test_accuracy[i,j],\\\n",
        "            critical_loss[i,j],critical_accuracy[i,j] = evaluate_model(neurons,lr)\n",
        "\n",
        "    %matplotlib inline\n",
        "    plot_data(learning_rates,N_neurons,train_accuracy, \"training data\")\n",
        "    plot_data(learning_rates,N_neurons,test_accuracy, \"test data\")\n",
        "    plot_data(learning_rates,N_neurons,critical_accuracy, \"critical data\")"
      ]
    },
    {
      "cell_type": "code",
      "execution_count": null,
      "metadata": {
        "id": "QII91odswZ4v"
      },
      "outputs": [],
      "source": [
        "%matplotlib notebook\n",
        "import matplotlib.pyplot as plt\n",
        "\n",
        "def plot_data(x,y,data, title):\n",
        "\n",
        "    # plot results\n",
        "    fontsize=16\n",
        "\n",
        "\n",
        "    fig = plt.figure()\n",
        "    ax = fig.add_subplot(111)\n",
        "    cax = ax.matshow(data, interpolation='nearest', vmin=0, vmax=1)\n",
        "    fig.colorbar(cax)\n",
        "\n",
        "    # put text on matrix elements\n",
        "    for i, x_val in enumerate(np.arange(len(x))):\n",
        "        for j, y_val in enumerate(np.arange(len(y))):\n",
        "            c = \"${0:.1f}\\\\%$\".format( 100*data[j,i])\n",
        "            ax.text(x_val, y_val, c, va='center', ha='center')\n",
        "\n",
        "    # convert axis vaues to to string labels\n",
        "    x=[str(i) for i in x]\n",
        "    y=[str(i) for i in y]\n",
        "\n",
        "\n",
        "    ax.set_xticklabels(['']+x)\n",
        "    ax.set_yticklabels(['']+y)\n",
        "\n",
        "    ax.set_xlabel('$\\\\mathrm{learning\\\\ rate}$',fontsize=fontsize)\n",
        "    ax.set_ylabel('$\\\\mathrm{hidden\\\\ neurons}$',fontsize=fontsize)\n",
        "\n",
        "    ax.set_title(title,fontsize=fontsize)\n",
        "\n",
        "    plt.tight_layout()\n",
        "\n",
        "    plt.show()"
      ]
    },
    {
      "cell_type": "code",
      "execution_count": null,
      "metadata": {
        "scrolled": false,
        "id": "IVWcr_wNwZ4v",
        "colab": {
          "base_uri": "https://localhost:8080/",
          "height": 2940
        },
        "outputId": "47b02fc1-f201-4179-d3ae-1934f16192ec"
      },
      "outputs": [
        {
          "output_type": "stream",
          "name": "stdout",
          "text": [
            "training DNN with  100 neurons and SGD lr=0.000001.\n",
            "train loss/accuracy: 0.7889589 0.5288461538461539\n",
            "test loss/accuracy: 0.78987485 0.5240384615384616\n",
            "crtitical loss/accuracy: 0.80683875 0.5108333333333334\n",
            "training DNN with  100 neurons and SGD lr=0.000010.\n",
            "train loss/accuracy: 0.83958536 0.47884615384615387\n",
            "test loss/accuracy: 0.8108387 0.4846153846153846\n",
            "crtitical loss/accuracy: 0.920095 0.4125\n",
            "training DNN with  100 neurons and SGD lr=0.000100.\n",
            "train loss/accuracy: 0.812208 0.5051282051282051\n",
            "test loss/accuracy: 0.78100127 0.5288461538461539\n",
            "crtitical loss/accuracy: 0.7667287 0.54\n",
            "training DNN with  100 neurons and SGD lr=0.001000.\n",
            "train loss/accuracy: 0.63969207 0.6330128205128205\n",
            "test loss/accuracy: 0.65271086 0.6201923076923077\n",
            "crtitical loss/accuracy: 0.68993616 0.5841666666666666\n",
            "training DNN with  100 neurons and SGD lr=0.010000.\n",
            "train loss/accuracy: 0.21946928 0.9746794871794872\n",
            "test loss/accuracy: 0.26625764 0.9326923076923077\n",
            "crtitical loss/accuracy: 0.47174296 0.78\n",
            "training DNN with  100 neurons and SGD lr=0.100000.\n",
            "train loss/accuracy: 0.0060284035 1.0\n",
            "test loss/accuracy: 0.031585652 0.9956730769230769\n",
            "crtitical loss/accuracy: 0.3748585 0.8525\n",
            "training DNN with  200 neurons and SGD lr=0.000001.\n",
            "train loss/accuracy: 0.98900133 0.5387820512820513\n",
            "test loss/accuracy: 1.0209353 0.5211538461538462\n",
            "crtitical loss/accuracy: 0.80803657 0.6533333333333333\n",
            "training DNN with  200 neurons and SGD lr=0.000010.\n",
            "train loss/accuracy: 0.7644802 0.5121794871794871\n",
            "test loss/accuracy: 0.76513565 0.5144230769230769\n",
            "crtitical loss/accuracy: 0.71449125 0.5658333333333333\n",
            "training DNN with  200 neurons and SGD lr=0.000100.\n",
            "train loss/accuracy: 0.815666 0.4842948717948718\n",
            "test loss/accuracy: 0.81589735 0.4855769230769231\n",
            "crtitical loss/accuracy: 0.89432585 0.42333333333333334\n",
            "training DNN with  200 neurons and SGD lr=0.001000.\n",
            "train loss/accuracy: 0.65263796 0.6166666666666667\n",
            "test loss/accuracy: 0.66418266 0.6149038461538462\n",
            "crtitical loss/accuracy: 0.68196636 0.5933333333333334\n",
            "training DNN with  200 neurons and SGD lr=0.010000.\n",
            "train loss/accuracy: 0.2125617 0.9807692307692307\n",
            "test loss/accuracy: 0.2670649 0.9514423076923076\n",
            "crtitical loss/accuracy: 0.48046723 0.7758333333333334\n",
            "training DNN with  200 neurons and SGD lr=0.100000.\n",
            "train loss/accuracy: 0.005525821 1.0\n",
            "test loss/accuracy: 0.018947992 0.9980769230769231\n",
            "crtitical loss/accuracy: 0.38741863 0.8308333333333333\n",
            "training DNN with  300 neurons and SGD lr=0.000001.\n",
            "train loss/accuracy: 0.7726739 0.5115384615384615\n",
            "test loss/accuracy: 0.7842046 0.4951923076923077\n",
            "crtitical loss/accuracy: 0.74161166 0.53\n",
            "training DNN with  300 neurons and SGD lr=0.000010.\n",
            "train loss/accuracy: 0.83514553 0.533974358974359\n",
            "test loss/accuracy: 0.8511694 0.5173076923076924\n",
            "crtitical loss/accuracy: 0.76331097 0.59\n",
            "training DNN with  300 neurons and SGD lr=0.000100.\n",
            "train loss/accuracy: 1.0310608 0.5439102564102564\n",
            "test loss/accuracy: 1.0844947 0.5269230769230769\n",
            "crtitical loss/accuracy: 0.81498474 0.6583333333333333\n",
            "training DNN with  300 neurons and SGD lr=0.001000.\n",
            "train loss/accuracy: 0.6301039 0.6516025641025641\n",
            "test loss/accuracy: 0.63783425 0.6461538461538462\n",
            "crtitical loss/accuracy: 0.6783096 0.5833333333333334\n",
            "training DNN with  300 neurons and SGD lr=0.010000.\n",
            "train loss/accuracy: 0.1642504 0.9903846153846154\n",
            "test loss/accuracy: 0.20166454 0.9716346153846154\n",
            "crtitical loss/accuracy: 0.4405475 0.8083333333333333\n",
            "training DNN with  300 neurons and SGD lr=0.100000.\n",
            "train loss/accuracy: 0.005076574 1.0\n",
            "test loss/accuracy: 0.014523153 0.9980769230769231\n",
            "crtitical loss/accuracy: 0.3926447 0.8341666666666666\n",
            "training DNN with  400 neurons and SGD lr=0.000001.\n",
            "train loss/accuracy: 0.7534763 0.5301282051282051\n",
            "test loss/accuracy: 0.78412956 0.5134615384615384\n",
            "crtitical loss/accuracy: 0.73482895 0.5575\n",
            "training DNN with  400 neurons and SGD lr=0.000010.\n",
            "train loss/accuracy: 0.94317424 0.4461538461538462\n",
            "test loss/accuracy: 0.91938835 0.46875\n",
            "crtitical loss/accuracy: 1.0390533 0.36833333333333335\n",
            "training DNN with  400 neurons and SGD lr=0.000100.\n",
            "train loss/accuracy: 0.7521967 0.5333333333333333\n",
            "test loss/accuracy: 0.75137997 0.5447115384615384\n",
            "crtitical loss/accuracy: 0.744605 0.5575\n",
            "training DNN with  400 neurons and SGD lr=0.001000.\n",
            "train loss/accuracy: 0.61935645 0.6730769230769231\n",
            "test loss/accuracy: 0.6240628 0.6673076923076923\n",
            "crtitical loss/accuracy: 0.66022605 0.5983333333333334\n",
            "training DNN with  400 neurons and SGD lr=0.010000.\n",
            "train loss/accuracy: 0.1676241 0.9887820512820513\n",
            "test loss/accuracy: 0.2105345 0.9692307692307692\n",
            "crtitical loss/accuracy: 0.43427002 0.8041666666666667\n",
            "training DNN with  400 neurons and SGD lr=0.100000.\n",
            "train loss/accuracy: 0.005503322 0.9996794871794872\n",
            "test loss/accuracy: 0.01290384 0.9995192307692308\n",
            "crtitical loss/accuracy: 0.39916116 0.8075\n",
            "training DNN with  500 neurons and SGD lr=0.000001.\n",
            "train loss/accuracy: 0.7766151 0.496474358974359\n",
            "test loss/accuracy: 0.7837062 0.4793269230769231\n",
            "crtitical loss/accuracy: 0.79542583 0.4925\n",
            "training DNN with  500 neurons and SGD lr=0.000010.\n",
            "train loss/accuracy: 0.77318895 0.5115384615384615\n",
            "test loss/accuracy: 0.7892194 0.5067307692307692\n",
            "crtitical loss/accuracy: 0.7605489 0.5141666666666667\n",
            "training DNN with  500 neurons and SGD lr=0.000100.\n",
            "train loss/accuracy: 0.75733423 0.5669871794871795\n",
            "test loss/accuracy: 0.7651669 0.5572115384615385\n",
            "crtitical loss/accuracy: 0.6780963 0.6083333333333333\n",
            "training DNN with  500 neurons and SGD lr=0.001000.\n",
            "train loss/accuracy: 0.6085895 0.6692307692307692\n",
            "test loss/accuracy: 0.629311 0.6528846153846154\n",
            "crtitical loss/accuracy: 0.65081745 0.625\n",
            "training DNN with  500 neurons and SGD lr=0.010000.\n",
            "train loss/accuracy: 0.15308751 0.9932692307692308\n",
            "test loss/accuracy: 0.19414817 0.979326923076923\n",
            "crtitical loss/accuracy: 0.43891466 0.7958333333333333\n",
            "training DNN with  500 neurons and SGD lr=0.100000.\n",
            "train loss/accuracy: 0.004923777 1.0\n",
            "test loss/accuracy: 0.012052756 1.0\n",
            "crtitical loss/accuracy: 0.37120637 0.8408333333333333\n"
          ]
        },
        {
          "output_type": "display_data",
          "data": {
            "text/plain": [
              "<Figure size 432x288 with 2 Axes>"
            ],
            "image/png": "[encoded data removed]"
          },
          "metadata": {
            "needs_background": "light"
          }
        },
        {
          "output_type": "display_data",
          "data": {
            "text/plain": [
              "<Figure size 432x288 with 2 Axes>"
            ],
            "image/png": "[encoded data removed]"
          },
          "metadata": {
            "needs_background": "light"
          }
        },
        {
          "output_type": "display_data",
          "data": {
            "text/plain": [
              "<Figure size 432x288 with 2 Axes>"
            ],
            "image/png": "[encoded data removed]"
          },
          "metadata": {
            "needs_background": "light"
          }
        }
      ],
      "source": [
        "grid_search()"
      ]
    },
    {
      "cell_type": "markdown",
      "metadata": {
        "id": "wpBWO9wewZ4v"
      },
      "source": [
        "<span style=\"color:blue\"> <i> 1. Do the grid search over 5 different types of activation functions (https://www.tensorflow.org/api_guides/python/nn#Activation_Functions). Evaluate the performance for each case and determine which gives the best accuracy. You can assume an arbitrary DNN. Show results for training, test, and critical data. </i></span> <br>"
      ]
    },
    {
      "cell_type": "code",
      "source": [
        "def create_DNN(activation,n_hidden1=100, n_hidden2=100, learning_rate=1e-6):\n",
        "    with tf.name_scope('data'):\n",
        "        X=tf.placeholder(tf.float32, shape=(None,n_feats))\n",
        "        Y=tf.placeholder(tf.float32, shape=(None,n_categories))\n",
        "        dropout_keepprob=tf.placeholder(tf.float32)\n",
        "\n",
        "    with tf.name_scope(\"dnn\"):\n",
        "        hidden1 = tf.layers.dense(X, n_hidden1, activation = activation)\n",
        "        hidden2 = tf.layers.dense(hidden1, n_hidden2, activation = activation)\n",
        "        logits = tf.layers.dense(hidden2, n_outputs)\n",
        "\n",
        "    with tf.name_scope('loss'):\n",
        "        xentropy = tf.nn.softmax_cross_entropy_with_logits(labels = Y, logits = logits)\n",
        "        loss = tf.reduce_mean(xentropy)\n",
        "\n",
        "    with tf.name_scope('optimiser'):\n",
        "        optimizer = tf.train.GradientDescentOptimizer(learning_rate).minimize(loss)\n",
        "\n",
        "    with tf.name_scope('accuracy'):\n",
        "        correct_prediction = tf.equal(tf.argmax(Y, 1), tf.argmax(logits, 1))\n",
        "        correct_prediction = tf.cast(correct_prediction, tf.float64) # change data type\n",
        "    #     correct_prediction = tf.nn.in_top_k(logits, Y, 1)\n",
        "        accuracy = tf.reduce_mean(correct_prediction)\n",
        "\n",
        "    return X, Y, dropout_keepprob, loss, optimizer, accuracy\n",
        "\n",
        "def evaluate_model1(activation):\n",
        "\n",
        "    training_epochs=100\n",
        "    batch_size=100\n",
        "\n",
        "\n",
        "    X, Y, dropout_keepprob, loss, optimizer, accuracy = create_DNN(activation)\n",
        "    with tf.Session() as sess:\n",
        "\n",
        "        # initialize the necessary variables, in this case, w and b\n",
        "        sess.run(tf.global_variables_initializer())\n",
        "\n",
        "        # train the DNN\n",
        "        for epoch in range(training_epochs):\n",
        "\n",
        "            batch_X, batch_Y = Dataset.train.next_batch(batch_size)\n",
        "\n",
        "            sess.run(optimizer, feed_dict={X: batch_X,Y: batch_Y,dropout_keepprob: 0.5})\n",
        "\n",
        "\n",
        "        # test DNN performance on entire train test and critical data sets\n",
        "        train_loss, train_accuracy = sess.run([loss, accuracy],\n",
        "                                                    feed_dict={X: Dataset.train.data_X,\n",
        "                                                               Y: Dataset.train.data_Y,\n",
        "                                                               dropout_keepprob: 0.5}\n",
        "                                                                )\n",
        "        print(\"train loss/accuracy:\", train_loss, train_accuracy)\n",
        "\n",
        "        test_loss, test_accuracy = sess.run([loss, accuracy],\n",
        "                                                    feed_dict={X: Dataset.test.data_X,\n",
        "                                                               Y: Dataset.test.data_Y,\n",
        "                                                               dropout_keepprob: 1.0}\n",
        "                                                               )\n",
        "\n",
        "        print(\"test loss/accuracy:\", test_loss, test_accuracy)\n",
        "\n",
        "        critical_loss, critical_accuracy = sess.run([loss, accuracy],\n",
        "                                                    feed_dict={X: Dataset.critical.data_X,\n",
        "                                                               Y: Dataset.critical.data_Y,\n",
        "                                                               dropout_keepprob: 1.0}\n",
        "                                                               )\n",
        "        print(\"crtitical loss/accuracy:\", critical_loss, critical_accuracy)\n",
        "\n",
        "    return train_loss,train_accuracy,test_loss,test_accuracy,critical_loss,critical_accuracy"
      ],
      "metadata": {
        "id": "b42LBE0JMxz3"
      },
      "execution_count": null,
      "outputs": []
    },
    {
      "cell_type": "code",
      "execution_count": null,
      "metadata": {
        "id": "jLjIPYCLwZ4w",
        "colab": {
          "base_uri": "https://localhost:8080/"
        },
        "outputId": "e013459f-1d42-496b-c281-0744a8c6698b"
      },
      "outputs": [
        {
          "output_type": "stream",
          "name": "stdout",
          "text": [
            "training DNN with<function relu at 0x7f9ed3f2aca0>\n",
            "train loss/accuracy: 1.0830772 0.4512820512820513\n",
            "test loss/accuracy: 1.0678523 0.46490384615384617\n",
            "crtitical loss/accuracy: 1.1996521 0.3466666666666667\n",
            "training DNN with<function tanh at 0x7f9ed43bbd30>\n",
            "train loss/accuracy: 0.8202704 0.4932692307692308\n",
            "test loss/accuracy: 0.83589137 0.5004807692307692\n",
            "crtitical loss/accuracy: 0.830053 0.505\n",
            "training DNN with<function sigmoid at 0x7f9ed3e62940>\n",
            "train loss/accuracy: 0.8083038 0.5467948717948717\n",
            "test loss/accuracy: 0.8348266 0.5259615384615385\n",
            "crtitical loss/accuracy: 0.6636552 0.6666666666666666\n",
            "training DNN with<function selu at 0x7f9ed3f2e5e0>\n",
            "train loss/accuracy: 1.2066594 0.4894230769230769\n",
            "test loss/accuracy: 1.1954958 0.48990384615384613\n",
            "crtitical loss/accuracy: 1.2977589 0.4575\n",
            "training DNN with<function elu at 0x7f9ed3f63e50>\n",
            "train loss/accuracy: 0.89357966 0.47275641025641024\n",
            "test loss/accuracy: 0.8966039 0.4774038461538462\n",
            "crtitical loss/accuracy: 0.9286921 0.455\n"
          ]
        }
      ],
      "source": [
        "def grid_search1():\n",
        "    \"\"\"This function performs a grid search over a set of different learning rates\n",
        "    and a number of hidden layer neurons.\"\"\"\n",
        "\n",
        "    # perform grid search over learnign rate and number of hidden neurons\n",
        "    activation=[tf.nn.relu, tf.nn.tanh, tf.nn.sigmoid, tf.nn.selu, tf.nn.elu]\n",
        "\n",
        "    # pre-alocate variables to store accuracy and loss data\n",
        "    train_loss=np.zeros(len( activation),dtype=np.float64)\n",
        "    train_accuracy=np.zeros_like(train_loss)\n",
        "    test_loss=np.zeros_like(train_loss)\n",
        "    test_accuracy=np.zeros_like(train_loss)\n",
        "    critical_loss=np.zeros_like(train_loss)\n",
        "    critical_accuracy=np.zeros_like(train_loss)\n",
        "\n",
        "    # do grid search\n",
        "    for i in range(len(activation)):\n",
        "            print(\"training DNN with\" + str(activation[i]))\n",
        "            train_loss[i],train_accuracy[i],\\\n",
        "            test_loss[i],test_accuracy[i],\\\n",
        "            critical_loss[i],critical_accuracy[i] = evaluate_model1(activation[i])\n",
        "\n",
        "grid_search1()"
      ]
    },
    {
      "cell_type": "markdown",
      "source": [
        "**Elu seems to give the highest test accuracy acuracy**"
      ],
      "metadata": {
        "id": "A0nMAPcmPCFm"
      }
    },
    {
      "cell_type": "markdown",
      "metadata": {
        "id": "sSnpBKz7wZ4w"
      },
      "source": [
        "<span style=\"color:blue\"> <i> 2. Do the grid search over 5 different numbers of epochs and batch sizes. Make a 2D heat map as shown in the example. You can assume an arbitrary DNN. Show results for training, test, and critical data.  </i></span> <br>"
      ]
    },
    {
      "cell_type": "code",
      "execution_count": null,
      "metadata": {
        "id": "NaDK22dQwZ4w",
        "colab": {
          "base_uri": "https://localhost:8080/",
          "height": 2593
        },
        "outputId": "201f315e-8865-4777-b7e5-154eb43525a4"
      },
      "outputs": [
        {
          "output_type": "stream",
          "name": "stdout",
          "text": [
            "training DNN with   10 batch size and epochs=10.000000\n",
            "train loss/accuracy: 1.2767203 0.4580128205128205\n",
            "test loss/accuracy: 1.251779 0.47836538461538464\n",
            "crtitical loss/accuracy: 1.4344997 0.4025\n",
            "training DNN with   10 batch size and epochs=50.000000\n",
            "train loss/accuracy: 0.9253842 0.5391025641025641\n",
            "test loss/accuracy: 0.9799387 0.5057692307692307\n",
            "crtitical loss/accuracy: 0.8775708 0.5491666666666667\n",
            "training DNN with   10 batch size and epochs=100.000000\n",
            "train loss/accuracy: 0.96610355 0.46826923076923077\n",
            "test loss/accuracy: 0.9626632 0.4855769230769231\n",
            "crtitical loss/accuracy: 1.0426875 0.4425\n",
            "training DNN with   10 batch size and epochs=500.000000\n",
            "train loss/accuracy: 1.2382183 0.48846153846153845\n",
            "test loss/accuracy: 1.1754115 0.51875\n",
            "crtitical loss/accuracy: 1.2848694 0.44166666666666665\n",
            "training DNN with   10 batch size and epochs=1000.000000\n",
            "train loss/accuracy: 0.9771785 0.4708333333333333\n",
            "test loss/accuracy: 0.9976391 0.4716346153846154\n",
            "crtitical loss/accuracy: 0.96765566 0.47333333333333333\n",
            "training DNN with   50 batch size and epochs=10.000000\n",
            "train loss/accuracy: 0.9745005 0.4782051282051282\n",
            "test loss/accuracy: 0.92737234 0.49615384615384617\n",
            "crtitical loss/accuracy: 1.0081948 0.4766666666666667\n",
            "training DNN with   50 batch size and epochs=50.000000\n",
            "train loss/accuracy: 1.0478216 0.47307692307692306\n",
            "test loss/accuracy: 0.99697536 0.4908653846153846\n",
            "crtitical loss/accuracy: 1.107388 0.44\n",
            "training DNN with   50 batch size and epochs=100.000000\n",
            "train loss/accuracy: 0.9486221 0.4948717948717949\n",
            "test loss/accuracy: 0.94982016 0.4980769230769231\n",
            "crtitical loss/accuracy: 0.89698213 0.5216666666666666\n",
            "training DNN with   50 batch size and epochs=500.000000\n",
            "train loss/accuracy: 1.0390066 0.49615384615384617\n",
            "test loss/accuracy: 1.012597 0.5043269230769231\n",
            "crtitical loss/accuracy: 1.1037233 0.4525\n",
            "training DNN with   50 batch size and epochs=1000.000000\n",
            "train loss/accuracy: 0.9501866 0.5028846153846154\n",
            "test loss/accuracy: 0.95013267 0.5\n",
            "crtitical loss/accuracy: 0.8803475 0.5175\n",
            "training DNN with  100 batch size and epochs=10.000000\n",
            "train loss/accuracy: 0.9934724 0.4878205128205128\n",
            "test loss/accuracy: 1.0243796 0.4740384615384615\n",
            "crtitical loss/accuracy: 0.92765033 0.5175\n",
            "training DNN with  100 batch size and epochs=50.000000\n",
            "train loss/accuracy: 0.95411503 0.49935897435897436\n",
            "test loss/accuracy: 0.9448516 0.50625\n",
            "crtitical loss/accuracy: 1.0747738 0.45\n",
            "training DNN with  100 batch size and epochs=100.000000\n",
            "train loss/accuracy: 1.0009047 0.47852564102564105\n",
            "test loss/accuracy: 0.964863 0.49567307692307694\n",
            "crtitical loss/accuracy: 1.0458285 0.46\n",
            "training DNN with  100 batch size and epochs=500.000000\n",
            "train loss/accuracy: 1.057215 0.4932692307692308\n",
            "test loss/accuracy: 1.0057833 0.5\n",
            "crtitical loss/accuracy: 1.1046085 0.44666666666666666\n",
            "training DNN with  100 batch size and epochs=1000.000000\n",
            "train loss/accuracy: 0.938288 0.5028846153846154\n",
            "test loss/accuracy: 0.96576744 0.48365384615384616\n",
            "crtitical loss/accuracy: 0.9989684 0.475\n",
            "training DNN with  500 batch size and epochs=10.000000\n",
            "train loss/accuracy: 0.96865743 0.5477564102564103\n",
            "test loss/accuracy: 1.0172435 0.5269230769230769\n",
            "crtitical loss/accuracy: 0.96931326 0.5558333333333333\n",
            "training DNN with  500 batch size and epochs=50.000000\n",
            "train loss/accuracy: 0.88776386 0.4894230769230769\n",
            "test loss/accuracy: 0.88808876 0.4798076923076923\n",
            "crtitical loss/accuracy: 0.9371102 0.4775\n",
            "training DNN with  500 batch size and epochs=100.000000\n",
            "train loss/accuracy: 0.9664006 0.503525641025641\n",
            "test loss/accuracy: 0.9709046 0.4889423076923077\n",
            "crtitical loss/accuracy: 0.90972614 0.5358333333333334\n",
            "training DNN with  500 batch size and epochs=500.000000\n",
            "train loss/accuracy: 0.91508037 0.49903846153846154\n",
            "test loss/accuracy: 0.92032844 0.49230769230769234\n",
            "crtitical loss/accuracy: 0.90364015 0.5083333333333333\n",
            "training DNN with  500 batch size and epochs=1000.000000\n",
            "train loss/accuracy: 1.000221 0.507051282051282\n",
            "test loss/accuracy: 1.0374455 0.4879807692307692\n",
            "crtitical loss/accuracy: 0.97363263 0.5041666666666667\n",
            "training DNN with 1000 batch size and epochs=10.000000\n",
            "train loss/accuracy: 0.93346447 0.47467948717948716\n",
            "test loss/accuracy: 0.9149413 0.4913461538461538\n",
            "crtitical loss/accuracy: 0.9940816 0.45916666666666667\n",
            "training DNN with 1000 batch size and epochs=50.000000\n",
            "train loss/accuracy: 0.95820296 0.5246794871794872\n",
            "test loss/accuracy: 0.97726846 0.5139423076923076\n",
            "crtitical loss/accuracy: 0.83466566 0.5816666666666667\n",
            "training DNN with 1000 batch size and epochs=100.000000\n",
            "train loss/accuracy: 0.9330567 0.5003205128205128\n",
            "test loss/accuracy: 0.9547292 0.48221153846153847\n",
            "crtitical loss/accuracy: 0.95031965 0.5\n",
            "training DNN with 1000 batch size and epochs=500.000000\n",
            "train loss/accuracy: 0.9220894 0.5096153846153846\n",
            "test loss/accuracy: 0.91653347 0.5139423076923076\n",
            "crtitical loss/accuracy: 0.9387724 0.505\n",
            "training DNN with 1000 batch size and epochs=1000.000000\n",
            "train loss/accuracy: 0.9238793 0.5096153846153846\n",
            "test loss/accuracy: 0.94508153 0.5067307692307692\n",
            "crtitical loss/accuracy: 0.98350435 0.4766666666666667\n"
          ]
        },
        {
          "output_type": "display_data",
          "data": {
            "text/plain": [
              "<Figure size 432x288 with 2 Axes>"
            ],
            "image/png": "[encoded data removed]"
          },
          "metadata": {
            "needs_background": "light"
          }
        },
        {
          "output_type": "display_data",
          "data": {
            "text/plain": [
              "<Figure size 432x288 with 2 Axes>"
            ],
            "image/png": "[encoded data removed]"
          },
          "metadata": {
            "needs_background": "light"
          }
        },
        {
          "output_type": "display_data",
          "data": {
            "text/plain": [
              "<Figure size 432x288 with 2 Axes>"
            ],
            "image/png": "[encoded data removed]"
          },
          "metadata": {
            "needs_background": "light"
          }
        }
      ],
      "source": [
        "def evaluate_model2(batch_size,training_epochs,activation=tf.nn.elu):\n",
        "\n",
        "\n",
        "\n",
        "    X, Y, dropout_keepprob, loss, optimizer, accuracy = create_DNN(activation)\n",
        "    with tf.Session() as sess:\n",
        "\n",
        "        # initialize the necessary variables, in this case, w and b\n",
        "        sess.run(tf.global_variables_initializer())\n",
        "\n",
        "        # train the DNN\n",
        "        for epoch in range(training_epochs):\n",
        "\n",
        "            batch_X, batch_Y = Dataset.train.next_batch(batch_size)\n",
        "\n",
        "            sess.run(optimizer, feed_dict={X: batch_X,Y: batch_Y,dropout_keepprob: 0.5})\n",
        "\n",
        "\n",
        "        # test DNN performance on entire train test and critical data sets\n",
        "        train_loss, train_accuracy = sess.run([loss, accuracy],\n",
        "                                                    feed_dict={X: Dataset.train.data_X,\n",
        "                                                               Y: Dataset.train.data_Y,\n",
        "                                                               dropout_keepprob: 0.5}\n",
        "                                                                )\n",
        "        print(\"train loss/accuracy:\", train_loss, train_accuracy)\n",
        "\n",
        "        test_loss, test_accuracy = sess.run([loss, accuracy],\n",
        "                                                    feed_dict={X: Dataset.test.data_X,\n",
        "                                                               Y: Dataset.test.data_Y,\n",
        "                                                               dropout_keepprob: 1.0}\n",
        "                                                               )\n",
        "\n",
        "        print(\"test loss/accuracy:\", test_loss, test_accuracy)\n",
        "\n",
        "        critical_loss, critical_accuracy = sess.run([loss, accuracy],\n",
        "                                                    feed_dict={X: Dataset.critical.data_X,\n",
        "                                                               Y: Dataset.critical.data_Y,\n",
        "                                                               dropout_keepprob: 1.0}\n",
        "                                                               )\n",
        "        print(\"crtitical loss/accuracy:\", critical_loss, critical_accuracy)\n",
        "\n",
        "    return train_loss,train_accuracy,test_loss,test_accuracy,critical_loss,critical_accuracy\n",
        "\n",
        "def grid_search2():\n",
        "    \"\"\"This function performs a grid search over a set of different learning rates\n",
        "    and a number of hidden layer neurons.\"\"\"\n",
        "\n",
        "    # perform grid search over learnign rate and number of hidden neurons\n",
        "    batch_size = [10, 50, 100,500,1000]\n",
        "    epochs=[10,50,100,500,1000]\n",
        "\n",
        "    # pre-alocate variables to store accuracy and loss data\n",
        "    train_loss=np.zeros((len(batch_size),len(epochs)),dtype=np.float64)\n",
        "    train_accuracy=np.zeros_like(train_loss)\n",
        "    test_loss=np.zeros_like(train_loss)\n",
        "    test_accuracy=np.zeros_like(train_loss)\n",
        "    critical_loss=np.zeros_like(train_loss)\n",
        "    critical_accuracy=np.zeros_like(train_loss)\n",
        "\n",
        "    # do grid search\n",
        "    for i, batch in enumerate(batch_size):\n",
        "        for j, epoch in enumerate(epochs):\n",
        "\n",
        "            print(\"training DNN with %4d batch size and epochs=%f\" %(batch,epoch) )\n",
        "\n",
        "            train_loss[i,j],train_accuracy[i,j],\\\n",
        "            test_loss[i,j],test_accuracy[i,j],\\\n",
        "            critical_loss[i,j],critical_accuracy[i,j] = evaluate_model2(batch,epoch)\n",
        "\n",
        "    %matplotlib inline\n",
        "    plot_data(epochs,batch_size,train_accuracy, \"training data\")\n",
        "    plot_data(epochs,batch_size,test_accuracy, \"test data\")\n",
        "    plot_data(epochs,batch_size,critical_accuracy, \"critical data\")\n",
        "\n",
        "grid_search2()"
      ]
    },
    {
      "cell_type": "markdown",
      "metadata": {
        "id": "FvnhDVtnwZ4w"
      },
      "source": [
        "#### Problem 3 - SDSS galaxies\n",
        "\n",
        "The data is provided in the file <b>\"specz_data.txt\"</b>. The columns of the file (length of 13) correspond to - <br>\n",
        "spectroscopic redshift ('zspec'), RA, DEC, magnitudes in 5 bands - u, g, r, i, z (denoted as 'mu,' 'mg,' 'mr,' 'mi,' 'mz' respectively); Exponential and de Vaucouleurs model magnitude fits ('logExp' and 'logDev' http://www.sdss.org/dr12/algorithms/magnitudes/); zebra fit ('pz_zebra); Neural Network fit ('pz_NN') and its error estimate ('pz_NN_Err') <br>\n",
        "\n",
        "We will undertake 2 exercises  -\n",
        "- Regression\n",
        "    - We will use the magnitude of object in different bands ('mu, mg, mr, mi, mz') and do a regression exercise to estimate the redshift of the object. Hence our feature space is 5.\n",
        "    - The correct redshift is given by 'zspec', which is the spectroscopic redshift of the object. We will use this for training and testing purpose.\n",
        "    \n",
        "    Sidenote: Photometry vs. Spectroscopy\n",
        "    \n",
        "    <i>&nbsp; &nbsp; The amount of energy we receive from celestial objects – in the form of radiation – is called the flux, and an astro- nomical technique of measuring the flux is photometry. Flux is usually measured over broad wavelength bands, and with the estimate of the distance to an object, it can infer the object’s luminosity, temperature, size, etc. Usually light is passed through colored filters, and we measure the intensity of the filtered light.\n",
        "    \n",
        "    &nbsp; &nbsp; On the other hand, spectroscopy deals with the spectrum of the emitted light. This tells us what the object is made of, how it is moving, the pressure of the material in it, etc. Note that for faint objects making photometric observation is much easier.\n",
        "    \n",
        "    &nbsp; &nbsp; Photometric redshift (photoz) is an estimate of the distance to the object using photometry. Spectroscopic redshift observes the object’s spectral lines and measures their shifts due to the Doppler effect to infer the distance.</i>\n",
        "    \n",
        "\n",
        "- Classification\n",
        "    - We will use the same magnitudes and now also the redshift of the object  ('zspec') to classify the object as either Elleptical or Spiral. Hence our feature space is now 6.\n",
        "    - The correct class is given by compring 'logExp' and 'logDev' which are the fits for Exponential and Devocular profiles. If logExp > logDev, its a spiral and vice-versa. We will use this for training and testing purpose. Since the classes are not explicitly given, generate a column for those (Classes can be $\\pm 1$. If it is $0$, it does not belong to either of the class.)\n"
      ]
    },
    {
      "cell_type": "markdown",
      "metadata": {
        "id": "TyuokAw_wZ4x"
      },
      "source": [
        "##### Cleaning\n",
        "\n",
        "Read in the files to create the data (X and Y) for both regression and classification. <br>\n",
        "You will have to clean the data -\n",
        "- Drop the entries that are nan or infinite\n",
        "- Drop the unrealistic numbers such as 999, -999; and magnitudes that are unrealistic. Since these are absolute magnitudes, they should be positive and high. Lets choose a magnitude limit of 15 as safe bet.\n",
        "- For classification, drop the entries that do not belong to either of the class\n"
      ]
    },
    {
      "cell_type": "code",
      "execution_count": null,
      "metadata": {
        "id": "LUwv8iuawZ4x",
        "colab": {
          "base_uri": "https://localhost:8080/"
        },
        "outputId": "6ac27c87-4e2e-422f-ebc3-ea79c159e18d"
      },
      "outputs": [
        {
          "output_type": "stream",
          "name": "stdout",
          "text": [
            "dict_keys(['zspec', 'RA', 'DEC', 'mu', 'mg', 'mr', 'mi', 'mz', 'logExp', 'logDev', 'pz_zebra', 'pz_NN', 'pz_NN_Err'])\n"
          ]
        }
      ],
      "source": [
        "#Read in and create data\n",
        "\n",
        "fname = '/content/drive/My Drive/P188_288/P188_288_Project3/specz_data.txt'\n",
        "spec_dat=np.genfromtxt(fname,names=True)\n",
        "print(spec_dat.dtype.fields.keys())\n",
        "#convenience variable\n",
        "zspec = spec_dat['zspec']\n",
        "pzNN = spec_dat['pz_NN']\n",
        "#some N redshifts are not defined\n",
        "pzNN[pzNN < 0] = np.nan\n",
        "\n",
        "#For Regression\n",
        "bands = ['u', 'g', 'r','i', 'z' ]\n",
        "mlim = 15\n",
        "\n",
        "xdata = np.concatenate([[spec_dat['m%s'%i] for i in bands]]).T\n",
        "bad = (xdata[:, 0] < mlim) | (xdata[:, 1] < mlim) | (xdata[:, 2] < mlim) & (xdata[:, 3] < mlim) | (xdata[:, 4] < mlim)\n",
        "xdata = xdata[~bad]\n",
        "xdata[xdata<0] = 0\n",
        "ydata = zspec[~bad]\n",
        "\n",
        "#For classification\n",
        "classes = np.sign(spec_dat['logExp'] - spec_dat['logDev'])\n",
        "tmp = np.concatenate([[spec_dat['m%s'%i] for i in bands]]).T\n",
        "xxdata = np.concatenate([tmp, zspec.reshape(-1, 1)], axis=1)\n",
        "bad = (classes==0) | (xxdata[:, 0] < mlim) | (xxdata[:, 1] < mlim) | (xxdata[:, 2] < mlim) & (xxdata[:, 3] < mlim) | (xxdata[:, 4] < mlim)\n",
        "xxdata = xxdata[~bad]\n",
        "classes = classes[~bad]"
      ]
    },
    {
      "cell_type": "markdown",
      "metadata": {
        "id": "h1OlrQQbwZ4x"
      },
      "source": [
        "For regression, X and Y data (called \"xdata\" and \"ydata,\" respectively) is cleaned magnitudes (5 feature space) and spectroscopic redshifts respectively.\n",
        "For classification, X and Y data (called \"xxdata\" and \"classes\" respectively) is cleaned magnitudes+spectroscopic redshifts respectively (6 feature space) and classees respectively."
      ]
    },
    {
      "cell_type": "code",
      "execution_count": null,
      "metadata": {
        "id": "UinTyLHEwZ4x",
        "colab": {
          "base_uri": "https://localhost:8080/"
        },
        "outputId": "aaa35760-660f-4edd-d3ad-a9a788b30f17"
      },
      "outputs": [
        {
          "output_type": "stream",
          "name": "stdout",
          "text": [
            "For Regression:\n",
            "Before: Size of datasets is  5338\n",
            "After: Size of datasets is  4535\n",
            "\n",
            "For Classification:\n",
            "Before: Size of datasets is  5338\n",
            "After: Size of datasets is  4147\n"
          ]
        }
      ],
      "source": [
        "print('For Regression:')\n",
        "print('Before: Size of datasets is ', zspec.shape[0])\n",
        "print('After: Size of datasets is ', xdata.shape[0])\n",
        "print('')\n",
        "print('For Classification:')\n",
        "print('Before: Size of datasets is ', zspec.shape[0])\n",
        "print('After: Size of datasets is ', xxdata.shape[0])\n"
      ]
    },
    {
      "cell_type": "markdown",
      "metadata": {
        "id": "n_w2zV0twZ4y"
      },
      "source": [
        "# Visualization\n",
        "\n",
        "The next step should be to visualize the data. <br>\n",
        "For regression\n",
        "- Make a histogram for the distribution of the data (spectroscopic redshift).\n",
        "- Make 5 2D histograms of the distribution of the magnitude as function of redshift (Hint: https://matplotlib.org/devdocs/api/_as_gen/matplotlib.axes.Axes.hist2d.html)\n",
        "\n",
        "For classification <br>\n",
        "- Make 6 1-d histogram for the distribution of the data (6 features - zspec and 5 magnitudes) for both class 1 and -1 separately\n",
        "\n",
        "<span style=\"color:blue\"> <i> 1. Make histograms for both regression and classification. </i></span> <br>"
      ]
    },
    {
      "cell_type": "code",
      "execution_count": null,
      "metadata": {
        "id": "NAopTai4wZ4y",
        "colab": {
          "base_uri": "https://localhost:8080/",
          "height": 1664
        },
        "outputId": "1d85acdd-5377-4734-c551-050909d9d367"
      },
      "outputs": [
        {
          "output_type": "display_data",
          "data": {
            "text/plain": [
              "<Figure size 432x288 with 1 Axes>"
            ],
            "image/png": "[encoded data removed]"
          },
          "metadata": {
            "needs_background": "light"
          }
        },
        {
          "output_type": "display_data",
          "data": {
            "text/plain": [
              "<Figure size 432x288 with 1 Axes>"
            ],
            "image/png": "[encoded data removed]"
          },
          "metadata": {
            "needs_background": "light"
          }
        },
        {
          "output_type": "display_data",
          "data": {
            "text/plain": [
              "<Figure size 432x288 with 1 Axes>"
            ],
            "image/png": "[encoded data removed]"
          },
          "metadata": {
            "needs_background": "light"
          }
        },
        {
          "output_type": "display_data",
          "data": {
            "text/plain": [
              "<Figure size 432x288 with 1 Axes>"
            ],
            "image/png": "[encoded data removed]"
          },
          "metadata": {
            "needs_background": "light"
          }
        },
        {
          "output_type": "display_data",
          "data": {
            "text/plain": [
              "<Figure size 432x288 with 1 Axes>"
            ],
            "image/png": "[encoded data removed]"
          },
          "metadata": {
            "needs_background": "light"
          }
        },
        {
          "output_type": "display_data",
          "data": {
            "text/plain": [
              "<Figure size 432x288 with 1 Axes>"
            ],
            "image/png": "[encoded data removed]"
          },
          "metadata": {
            "needs_background": "light"
          }
        }
      ],
      "source": [
        "## Regression histograms\n",
        "plt.figure()\n",
        "plt.hist(ydata)\n",
        "plt.xlabel('zspec',fontsize=20)\n",
        "plt.ylabel('frequency',fontsize=20)\n",
        "plt.title('Histogram for spectroscopic redshift',fontsize=20)\n",
        "plt.show()\n",
        "\n",
        "for i in range(5):\n",
        "  plt.figure()\n",
        "  plt.hist2d(ydata,xdata[:,i])\n",
        "  plt.xlabel('zspec',fontsize=20)\n",
        "  plt.ylabel(list(spec_dat.dtype.fields.keys())[i+3],fontsize=20)\n",
        "  plt.show()\n"
      ]
    },
    {
      "cell_type": "code",
      "source": [
        "## Classification for Class = +1\n",
        "\n",
        "for i in range(6):\n",
        "  plt.figure()\n",
        "  plt.hist(xxdata[np.argwhere(classes==+1.0),i])\n",
        "  if i==0:\n",
        "    plt.xlabel('zspec',fontsize=20)\n",
        "  else:\n",
        "    plt.xlabel(list(spec_dat.dtype.fields.keys())[i+2],fontsize=20)\n",
        "  plt.ylabel('frequency',fontsize=20)\n",
        "  plt.show()"
      ],
      "metadata": {
        "colab": {
          "base_uri": "https://localhost:8080/",
          "height": 1646
        },
        "id": "xI40dIcgbB1S",
        "outputId": "2422d2d2-1e63-47c1-bd4e-68638f9587cd"
      },
      "execution_count": null,
      "outputs": [
        {
          "output_type": "display_data",
          "data": {
            "text/plain": [
              "<Figure size 432x288 with 1 Axes>"
            ],
            "image/png": "[encoded data removed]"
          },
          "metadata": {
            "needs_background": "light"
          }
        },
        {
          "output_type": "display_data",
          "data": {
            "text/plain": [
              "<Figure size 432x288 with 1 Axes>"
            ],
            "image/png": "[encoded data removed]"
          },
          "metadata": {
            "needs_background": "light"
          }
        },
        {
          "output_type": "display_data",
          "data": {
            "text/plain": [
              "<Figure size 432x288 with 1 Axes>"
            ],
            "image/png": "[encoded data removed]"
          },
          "metadata": {
            "needs_background": "light"
          }
        },
        {
          "output_type": "display_data",
          "data": {
            "text/plain": [
              "<Figure size 432x288 with 1 Axes>"
            ],
            "image/png": "[encoded data removed]"
          },
          "metadata": {
            "needs_background": "light"
          }
        },
        {
          "output_type": "display_data",
          "data": {
            "text/plain": [
              "<Figure size 432x288 with 1 Axes>"
            ],
            "image/png": "[encoded data removed]"
          },
          "metadata": {
            "needs_background": "light"
          }
        },
        {
          "output_type": "display_data",
          "data": {
            "text/plain": [
              "<Figure size 432x288 with 1 Axes>"
            ],
            "image/png": "[encoded data removed]"
          },
          "metadata": {
            "needs_background": "light"
          }
        }
      ]
    },
    {
      "cell_type": "code",
      "source": [
        "## Classification for Class = -1\n",
        "\n",
        "for i in range(6):\n",
        "  plt.figure()\n",
        "  plt.hist(xxdata[np.argwhere(classes==-1.0),i])\n",
        "  if i==0:\n",
        "    plt.xlabel('zspec',fontsize=20)\n",
        "  else:\n",
        "    plt.xlabel(list(spec_dat.dtype.fields.keys())[i+2],fontsize=20)\n",
        "  plt.ylabel('frequency',fontsize=20)\n",
        "  plt.show()"
      ],
      "metadata": {
        "colab": {
          "base_uri": "https://localhost:8080/",
          "height": 1643
        },
        "id": "xew1CZNie_rB",
        "outputId": "508375c3-5ff2-4ed8-fa5d-f5e9fd033d12"
      },
      "execution_count": null,
      "outputs": [
        {
          "output_type": "display_data",
          "data": {
            "text/plain": [
              "<Figure size 432x288 with 1 Axes>"
            ],
            "image/png": "[encoded data removed]"
          },
          "metadata": {
            "needs_background": "light"
          }
        },
        {
          "output_type": "display_data",
          "data": {
            "text/plain": [
              "<Figure size 432x288 with 1 Axes>"
            ],
            "image/png": "[encoded data removed]"
          },
          "metadata": {
            "needs_background": "light"
          }
        },
        {
          "output_type": "display_data",
          "data": {
            "text/plain": [
              "<Figure size 432x288 with 1 Axes>"
            ],
            "image/png": "[encoded data removed]"
          },
          "metadata": {
            "needs_background": "light"
          }
        },
        {
          "output_type": "display_data",
          "data": {
            "text/plain": [
              "<Figure size 432x288 with 1 Axes>"
            ],
            "image/png": "[encoded data removed]"
          },
          "metadata": {
            "needs_background": "light"
          }
        },
        {
          "output_type": "display_data",
          "data": {
            "text/plain": [
              "<Figure size 432x288 with 1 Axes>"
            ],
            "image/png": "[encoded data removed]"
          },
          "metadata": {
            "needs_background": "light"
          }
        },
        {
          "output_type": "display_data",
          "data": {
            "text/plain": [
              "<Figure size 432x288 with 1 Axes>"
            ],
            "image/png": "[encoded data removed]"
          },
          "metadata": {
            "needs_background": "light"
          }
        }
      ]
    },
    {
      "cell_type": "markdown",
      "metadata": {
        "id": "nEpryS6CwZ4y"
      },
      "source": [
        "<span style=\"color:blue\"> <i> 2. Do the following preprocessing: </i></span> <br>\n",
        "\n",
        "#####  Preprocessing:\n",
        "\n",
        "- Next, split the sample into training data and the testing data. We will be using the training data to train different algorithms and then compare the performance over the testing data. In this project, keep 80% data as training data and uses the remaining 20% data for testing.  <br>\n",
        "- Often, the data can be ordered in a specific manner, hence shuffle the data prior to splitting it into training and testing samples. <br>\n",
        "- Many algorithms are also not scale invariant, and hence scale the data (different features to a uniform scale). All this comes under preprocessing the data.\n",
        "http://scikit-learn.org/stable/modules/preprocessing.html#preprocessing <br>\n",
        "Use StandardScaler from sklearn (or write your own routine) to center the data to 0 mean and 1 variance. Note that you only center the training data and then use its mean and variance to scale the testing data before using it. <br><br>\n",
        "\n",
        "Hint: How to get a scaled training data: <br>\n",
        "\n",
        "1. Let the training data be: train = (\"training X data\", \"training Y data\")<br>\n",
        "2. You can first define a StandardScaler: <br>\n",
        "scale_xdata, scale_ydata = preprocessing.StandardScaler(), preprocessing.StandardScaler()<br>\n",
        "3. Then, do the fit: <br>\n",
        "for regression: scale_xdata.fit(train_regression[0]), scale_ydata.fit(train_regression[1].reshape(-1, 1))<br>\n",
        "for classication: scale_xdata.fit(train_classification[0])<br>\n",
        "  Here, no need to fit for y data for classification (it's either +1 or -1. Already scaled)<br>\n",
        "4. Next, transform: <br>\n",
        " for regression: scaled_train_data = (scale_xdata.fit_transform(train_regression[0]), scale_ydata.fit_transform(train_regression[1].reshape(-1, 1)))<br>\n",
        " for classication: scaled_train_data = (scale_xdata.fit_transform(train_classification[0]), train_classification[1])<br>\n",
        " Again, y data is already scaled for classification.  <br>\n",
        "\n",
        "\n",
        "Do this for test data as well.\n"
      ]
    },
    {
      "cell_type": "code",
      "execution_count": null,
      "metadata": {
        "id": "TgsL97cwwZ4y"
      },
      "outputs": [],
      "source": [
        "from sklearn import preprocessing\n",
        "from sklearn.model_selection import train_test_split\n",
        "\n",
        "## Scaling for regression\n",
        "\n",
        "X_train, X_test, Y_train, Y_test = train_test_split(xdata, ydata, test_size=0.2, random_state=42)\n",
        "\n",
        "scale_xdata, scale_ydata = preprocessing.StandardScaler(), preprocessing.StandardScaler()\n",
        "\n",
        "scale_xdata.fit(X_train)\n",
        "scale_ydata.fit(Y_train.reshape(-1, 1))\n",
        "\n",
        "x_train = scale_xdata.fit_transform(X_train)\n",
        "y_train = scale_ydata.fit_transform(Y_train.reshape(-1, 1))\n",
        "\n",
        "x_test = scale_xdata.fit_transform(X_test)\n",
        "y_test = scale_ydata.fit_transform(Y_test.reshape(-1, 1))\n"
      ]
    },
    {
      "cell_type": "code",
      "execution_count": null,
      "metadata": {
        "id": "scdvjymzwZ4y"
      },
      "outputs": [],
      "source": [
        "## Scaling for classification\n",
        "\n",
        "XX_train, XX_test, yy_train,yy_test = train_test_split(xxdata, classes, test_size=0.2, random_state=42)\n",
        "\n",
        "scale_xxdata = preprocessing.StandardScaler()\n",
        "\n",
        "scale_xxdata.fit(XX_train)\n",
        "\n",
        "xx_train = scale_xxdata.fit_transform(XX_train)\n",
        "xx_test = scale_xxdata.fit_transform(XX_test)"
      ]
    },
    {
      "cell_type": "markdown",
      "metadata": {
        "id": "UYLwUOn8wZ4z"
      },
      "source": [
        "##### Metrics\n",
        "\n",
        "The last remaining preperatory step is to write metric for gauging the performance of the algorithm. Write a function to calculate the 'RMS' error given (y_predict, y_truth) to gauge regression and another function to evaluate accuracy of classification. <br>\n",
        "In addition, for classification, we will also use confusion matrix.\n",
        "\n",
        "Below is an example you can use. Feel free to write you own."
      ]
    },
    {
      "cell_type": "code",
      "execution_count": null,
      "metadata": {
        "id": "GSabzyQOwZ4z"
      },
      "outputs": [],
      "source": [
        "from sklearn.metrics import confusion_matrix\n",
        "\n",
        "def rms(x, y, scale1=None, scale2=None):\n",
        "    '''Calculate the rms error given the truth and the prediction\n",
        "    '''\n",
        "    mask = np.isfinite(x[:]) & np.isfinite(y[:])\n",
        "    if scale1 is not None:\n",
        "        x= scale1.inverse_transform(x)\n",
        "    if scale2 is not None:\n",
        "        y = scale2.inverse_transform(y)\n",
        "    return  np.sqrt(np.mean((x[mask] - y[mask]) ** 2))\n",
        "\n",
        "def acc(x, y):\n",
        "    '''Calculate the accuracy given the truth and the prediction\n",
        "    '''\n",
        "    mask = np.isfinite(x[:]) & np.isfinite(y[:])\n",
        "    return  (x == y).sum()/x.size\n"
      ]
    },
    {
      "cell_type": "markdown",
      "metadata": {
        "id": "qbRPQ8K8wZ4z"
      },
      "source": [
        "#### Hyperparameter method\n",
        "\n",
        "Now, we will be varying hyperparameters to get the best model and build some intuition. There are various ways to do this and we will use Grid Search methodology (as you did in Problem 1 and 2) which simply tries all the combinations along with some cross-validation scheme. For most part, we will use 4-fold cross validation. <br>\n",
        "Sklearn provides GridSearchCV functionality for this purpose. <br>\n",
        "\n",
        "Its recommended to spend some time to go through output format of GridSearchCV and write some utility functions to make the recurring plots for every parameter. <br>\n",
        "Grid Search returns a dictionary with self explanatory keys for the most part. Mostly, the keys correspond to (masked) numpy arrays of size = #(all possible combination of parameters). The value of individual parameter in every combination is given in arrays with keys starting from 'param_\\*' and this should help you to match the combination with the corresponding scores. <br>\n",
        "For masked arrays, you can access the data values by using \\*.data\n",
        "<br>\n",
        "<br>\n",
        "*Do not overwrite these grid search-ed variables (and not only their result) since we will compare all the models together in the end*"
      ]
    },
    {
      "cell_type": "code",
      "execution_count": null,
      "metadata": {
        "id": "51idFLCZwZ4z"
      },
      "outputs": [],
      "source": [
        "from sklearn.model_selection import GridSearchCV, RandomizedSearchCV\n",
        "# http://scikit-learn.org/stable/modules/generated/sklearn.model_selection.GridSearchCV.html\n",
        "# http://scikit-learn.org/stable/modules/generated/sklearn.model_selection.RandomizedSearchCV.html"
      ]
    },
    {
      "cell_type": "markdown",
      "metadata": {
        "id": "7TcyD42ZwZ4z"
      },
      "source": [
        "<span style=\"color:red\"><i> You can choose to do only one of the two classifiers: kNN or Random Forests.</i></span> <br>\n",
        "<span style=\"color:red\"><i> If you choose to do Method 2 (Random Forests), take a look at hints from Method 1 (kNN). </i></span> <br>"
      ]
    },
    {
      "cell_type": "markdown",
      "metadata": {
        "id": "Ujk_l00_wZ40"
      },
      "source": [
        "### <span style=\"color:red\"> Option (1) </span>\n",
        "### Method 1. k Nearest Neighbors\n",
        "\n",
        "For regression, let us play with grid search using knn to tune hyperparmeters. (https://scikit-learn.org/stable/modules/generated/sklearn.neighbors.KNeighborsRegressor.html) Consider the following 3 hyperparameters -\n",
        "- Number of neighbors ([2, 3, 5, 10, 15, 20, 25, 50, 100])\n",
        "- Weights of leaves (Uniform or Inverse Distance weighing)\n",
        "- Distance metric (Eucledian or Manhattan distance - parameter 'p')\n",
        "\n",
        "<span style=\"color:blue\"> <i> 1. Do a grid search on these parameters. List the combination of hyperparameters you tried and evaluate the accuracy (mean test score) and its standard deviation. Which gives the highest accuracy value? </i></span> <br>"
      ]
    },
    {
      "cell_type": "code",
      "execution_count": null,
      "metadata": {
        "id": "PnPLaUSjwZ40"
      },
      "outputs": [],
      "source": [
        "from sklearn.neighbors import KNeighborsRegressor"
      ]
    },
    {
      "cell_type": "markdown",
      "metadata": {
        "id": "uxbgWwtkwZ40"
      },
      "source": [
        "Hint: (Read the documentations carefully for more detail.)\n",
        "\n",
        "First, define the hyperparameters: parameters = {'n_neighbors':[2, 3, 5, 10, 15, 20, 25, 50, 100], 'weights':['uniform', 'distance'], 'p':[1, 2]}\n",
        "\n",
        "Specify the algorithm you want to use: e.g. knnr = KNeighborsRegressor()\n",
        "\n",
        "Then, Do a grid search on these parameters using 4 fold cross validation: gcknn = GridSearchCV(knnr, parameters, cv=4)\n",
        "\n",
        "Do the fit: gcknn.fit(*scaled_training_data)\n",
        "\n",
        "(Let \"scaled_training_data\" be the training data where \"scaled_training_data = (\"train X data\", \"train Y data\")\"\n",
        "\n",
        "Get results: $results = gcknn.cv_results_$\n",
        "\n",
        "$cv_results_$ has the following dictionaries: \"rank_test_score,\" \"mean_test_score,\" \"std_test_score,\" and \"params\" (See http://scikit-learn.org/stable/modules/generated/sklearn.model_selection.GridSearchCV.html)\n",
        "\n",
        "Then, you can evaluate the models based on \"rank_test_score\" and print out their \"params,\" along with their \"mean_test_score\" and \"std_test_score\"."
      ]
    },
    {
      "cell_type": "code",
      "execution_count": null,
      "metadata": {
        "id": "1TvOk4yywZ40"
      },
      "outputs": [],
      "source": [
        "parameters = {'n_neighbors':[2, 3, 5, 10, 15, 20, 25, 50, 100], 'weights':['uniform', 'distance'], 'p':[1, 2]}\n",
        "knnr = KNeighborsRegressor()\n",
        "gcknn = GridSearchCV(knnr, parameters, cv=4)\n",
        "gcknn.fit(x_train,y_train)\n",
        "\n",
        "results_reg = gcknn.cv_results_\n"
      ]
    },
    {
      "cell_type": "code",
      "source": [
        "rank = results_reg['rank_test_score']\n",
        "mean_score = results_reg['mean_test_score']\n",
        "std_test_score = results_reg['std_test_score']\n",
        "params = results_reg['params']\n",
        "\n",
        "arg_sort = np.argsort(rank)\n",
        "print('params' + ', ' + 'rank_test_score' + ', ' + 'mean_test_score' + ', ' + 'std_score' )\n",
        "for i in range(len(rank)):\n",
        "  print(str(params[arg_sort[i]]) + ', ' +  str(rank[arg_sort[i]])  + ', ' +  str(mean_score[arg_sort[i]])  + ', ' +  str(std_test_score[arg_sort[i]])  )"
      ],
      "metadata": {
        "colab": {
          "base_uri": "https://localhost:8080/"
        },
        "id": "dCGUbZ-rAduh",
        "outputId": "537e7f52-cf79-4f99-87c2-90da1e93c00e"
      },
      "execution_count": null,
      "outputs": [
        {
          "output_type": "stream",
          "name": "stdout",
          "text": [
            "params, rank_test_score, mean_test_score, std_score\n",
            "{'n_neighbors': 15, 'p': 2, 'weights': 'distance'}, 1, 0.5702815795755888, 0.009048848590236044\n",
            "{'n_neighbors': 10, 'p': 2, 'weights': 'distance'}, 2, 0.5692697642287321, 0.0038523512380821134\n",
            "{'n_neighbors': 20, 'p': 2, 'weights': 'distance'}, 3, 0.5691558827227483, 0.009130666881806464\n",
            "{'n_neighbors': 20, 'p': 1, 'weights': 'distance'}, 4, 0.5678555483962211, 0.010809285037877923\n",
            "{'n_neighbors': 15, 'p': 1, 'weights': 'distance'}, 5, 0.5678264510251403, 0.010625174663159523\n",
            "{'n_neighbors': 25, 'p': 1, 'weights': 'distance'}, 6, 0.5668558616421244, 0.012222683007450658\n",
            "{'n_neighbors': 25, 'p': 2, 'weights': 'distance'}, 7, 0.5658560270364352, 0.010804617130252846\n",
            "{'n_neighbors': 10, 'p': 1, 'weights': 'distance'}, 8, 0.560550447831262, 0.006000706085083093\n",
            "{'n_neighbors': 50, 'p': 1, 'weights': 'distance'}, 9, 0.5558831403790465, 0.012115127490786849\n",
            "{'n_neighbors': 50, 'p': 2, 'weights': 'distance'}, 10, 0.5532605903640877, 0.01120097143456477\n",
            "{'n_neighbors': 10, 'p': 2, 'weights': 'uniform'}, 11, 0.5421923389951351, 0.00557147029354994\n",
            "{'n_neighbors': 100, 'p': 1, 'weights': 'distance'}, 12, 0.536299531124066, 0.012533792595961648\n",
            "{'n_neighbors': 5, 'p': 2, 'weights': 'distance'}, 13, 0.5358443408785338, 0.006945335094222083\n",
            "{'n_neighbors': 15, 'p': 2, 'weights': 'uniform'}, 14, 0.5355950052125427, 0.006656276890586143\n",
            "{'n_neighbors': 15, 'p': 1, 'weights': 'uniform'}, 15, 0.5317245736144283, 0.009690106010995254\n",
            "{'n_neighbors': 100, 'p': 2, 'weights': 'distance'}, 16, 0.5303274522451169, 0.013614119735405954\n",
            "{'n_neighbors': 10, 'p': 1, 'weights': 'uniform'}, 17, 0.5298513086322787, 0.004398239806625559\n",
            "{'n_neighbors': 5, 'p': 1, 'weights': 'distance'}, 18, 0.5295522567443737, 0.00911367401733548\n",
            "{'n_neighbors': 20, 'p': 2, 'weights': 'uniform'}, 19, 0.5293317873727788, 0.006628217289819863\n",
            "{'n_neighbors': 20, 'p': 1, 'weights': 'uniform'}, 20, 0.5281354255841818, 0.00865091377346272\n",
            "{'n_neighbors': 25, 'p': 1, 'weights': 'uniform'}, 21, 0.523639861147822, 0.009401984104604135\n",
            "{'n_neighbors': 25, 'p': 2, 'weights': 'uniform'}, 22, 0.5223011507900404, 0.007716207638895584\n",
            "{'n_neighbors': 5, 'p': 2, 'weights': 'uniform'}, 23, 0.5178740941010156, 0.0037981725255216304\n",
            "{'n_neighbors': 5, 'p': 1, 'weights': 'uniform'}, 24, 0.5109214291901634, 0.006822838819887056\n",
            "{'n_neighbors': 3, 'p': 2, 'weights': 'distance'}, 25, 0.5021251032218165, 0.007062446853542699\n",
            "{'n_neighbors': 50, 'p': 1, 'weights': 'uniform'}, 26, 0.5009887609283024, 0.009742786569733947\n",
            "{'n_neighbors': 50, 'p': 2, 'weights': 'uniform'}, 27, 0.4974199376263563, 0.007231797751432624\n",
            "{'n_neighbors': 3, 'p': 2, 'weights': 'uniform'}, 28, 0.4917050040022668, 0.002950822991575012\n",
            "{'n_neighbors': 3, 'p': 1, 'weights': 'distance'}, 29, 0.4878542032672226, 0.005680321801998409\n",
            "{'n_neighbors': 3, 'p': 1, 'weights': 'uniform'}, 30, 0.4745063214796021, 0.004203396712922016\n",
            "{'n_neighbors': 100, 'p': 1, 'weights': 'uniform'}, 31, 0.4714545905034191, 0.009711944094948714\n",
            "{'n_neighbors': 100, 'p': 2, 'weights': 'uniform'}, 32, 0.4640820701588598, 0.008955829439929865\n",
            "{'n_neighbors': 2, 'p': 2, 'weights': 'distance'}, 33, 0.43661625218437844, 0.01890253382443528\n",
            "{'n_neighbors': 2, 'p': 1, 'weights': 'distance'}, 34, 0.43504526462264437, 0.016230146815994367\n",
            "{'n_neighbors': 2, 'p': 2, 'weights': 'uniform'}, 35, 0.4291840501787404, 0.017665738873676114\n",
            "{'n_neighbors': 2, 'p': 1, 'weights': 'uniform'}, 36, 0.4264272804426917, 0.015177765858558227\n"
          ]
        }
      ]
    },
    {
      "cell_type": "markdown",
      "metadata": {
        "id": "ZH-uH_CUwZ41"
      },
      "source": [
        "<span style=\"color:blue\"> <i> 2. Also print out fitting and scoring times for all hyperparameter combinations. </i></span> <br>\n",
        "\n",
        "*Plot timings for fitting and scoring*\n",
        "\n",
        "Hint: Assume that you got results from: $results = gcknn.cv_results_$\n",
        "\n",
        "Then, get the scoring time: results['mean_score_time']\n",
        "\n",
        "and the fitting time: results['mean_fit_time']"
      ]
    },
    {
      "cell_type": "code",
      "execution_count": null,
      "metadata": {
        "id": "U46N9Wj3wZ41",
        "colab": {
          "base_uri": "https://localhost:8080/"
        },
        "outputId": "ca3a0f37-d031-4ee2-96c1-d8f999f631d8"
      },
      "outputs": [
        {
          "output_type": "stream",
          "name": "stdout",
          "text": [
            "params, fitting time, scoring time\n",
            "{'n_neighbors': 15, 'p': 2, 'weights': 'distance'}, 0.0024694204330444336, 0.009471237659454346\n",
            "{'n_neighbors': 10, 'p': 2, 'weights': 'distance'}, 0.002248108386993408, 0.0074874162673950195\n",
            "{'n_neighbors': 20, 'p': 2, 'weights': 'distance'}, 0.0021972060203552246, 0.010623455047607422\n",
            "{'n_neighbors': 20, 'p': 1, 'weights': 'distance'}, 0.002230525016784668, 0.01531529426574707\n",
            "{'n_neighbors': 15, 'p': 1, 'weights': 'distance'}, 0.002424955368041992, 0.014224708080291748\n",
            "{'n_neighbors': 25, 'p': 1, 'weights': 'distance'}, 0.002236008644104004, 0.016107916831970215\n",
            "{'n_neighbors': 25, 'p': 2, 'weights': 'distance'}, 0.0025517940521240234, 0.013530731201171875\n",
            "{'n_neighbors': 10, 'p': 1, 'weights': 'distance'}, 0.0022531747817993164, 0.012003779411315918\n",
            "{'n_neighbors': 50, 'p': 1, 'weights': 'distance'}, 0.0021814703941345215, 0.022414803504943848\n",
            "{'n_neighbors': 50, 'p': 2, 'weights': 'distance'}, 0.0023773908615112305, 0.01833820343017578\n",
            "{'n_neighbors': 10, 'p': 2, 'weights': 'uniform'}, 0.0023162364959716797, 0.008341372013092041\n",
            "{'n_neighbors': 100, 'p': 1, 'weights': 'distance'}, 0.002196967601776123, 0.03344416618347168\n",
            "{'n_neighbors': 5, 'p': 2, 'weights': 'distance'}, 0.002734363079071045, 0.0061424970626831055\n",
            "{'n_neighbors': 15, 'p': 2, 'weights': 'uniform'}, 0.0023965835571289062, 0.011518120765686035\n",
            "{'n_neighbors': 15, 'p': 1, 'weights': 'uniform'}, 0.0023751258850097656, 0.013910233974456787\n",
            "{'n_neighbors': 100, 'p': 2, 'weights': 'distance'}, 0.002572953701019287, 0.027790486812591553\n",
            "{'n_neighbors': 10, 'p': 1, 'weights': 'uniform'}, 0.0024623870849609375, 0.011892557144165039\n",
            "{'n_neighbors': 5, 'p': 1, 'weights': 'distance'}, 0.0022320151329040527, 0.009486258029937744\n",
            "{'n_neighbors': 20, 'p': 2, 'weights': 'uniform'}, 0.00219571590423584, 0.010209321975708008\n",
            "{'n_neighbors': 20, 'p': 1, 'weights': 'uniform'}, 0.002247929573059082, 0.01457756757736206\n",
            "{'n_neighbors': 25, 'p': 1, 'weights': 'uniform'}, 0.0022495388984680176, 0.01533651351928711\n",
            "{'n_neighbors': 25, 'p': 2, 'weights': 'uniform'}, 0.0024254918098449707, 0.01095360517501831\n",
            "{'n_neighbors': 5, 'p': 2, 'weights': 'uniform'}, 0.0022161006927490234, 0.006084859371185303\n",
            "{'n_neighbors': 5, 'p': 1, 'weights': 'uniform'}, 0.002212047576904297, 0.009022176265716553\n",
            "{'n_neighbors': 3, 'p': 2, 'weights': 'distance'}, 0.0022149085998535156, 0.005206465721130371\n",
            "{'n_neighbors': 50, 'p': 1, 'weights': 'uniform'}, 0.0022798776626586914, 0.021610140800476074\n",
            "{'n_neighbors': 50, 'p': 2, 'weights': 'uniform'}, 0.0025994181632995605, 0.017442762851715088\n",
            "{'n_neighbors': 3, 'p': 2, 'weights': 'uniform'}, 0.002301514148712158, 0.0055144429206848145\n",
            "{'n_neighbors': 3, 'p': 1, 'weights': 'distance'}, 0.0028877854347229004, 0.009276807308197021\n",
            "{'n_neighbors': 3, 'p': 1, 'weights': 'uniform'}, 0.002595365047454834, 0.010952115058898926\n",
            "{'n_neighbors': 100, 'p': 1, 'weights': 'uniform'}, 0.0024802088737487793, 0.03548693656921387\n",
            "{'n_neighbors': 100, 'p': 2, 'weights': 'uniform'}, 0.0022262930870056152, 0.027072250843048096\n",
            "{'n_neighbors': 2, 'p': 2, 'weights': 'distance'}, 0.003933906555175781, 0.005678296089172363\n",
            "{'n_neighbors': 2, 'p': 1, 'weights': 'distance'}, 0.0023836493492126465, 0.008773565292358398\n",
            "{'n_neighbors': 2, 'p': 2, 'weights': 'uniform'}, 0.0023160576820373535, 0.004888057708740234\n",
            "{'n_neighbors': 2, 'p': 1, 'weights': 'uniform'}, 0.002659320831298828, 0.008226335048675537\n"
          ]
        }
      ],
      "source": [
        "score_time = results_reg['mean_score_time']\n",
        "fit_time = results_reg['mean_fit_time']\n",
        "\n",
        "print('params' + ', ' + 'fitting time' + ', ' + 'scoring time')\n",
        "for i in range(len(rank)):\n",
        "  print(str(params[arg_sort[i]]) + ', ' +  str(fit_time[arg_sort[i]])  + ', ' +  str(score_time[arg_sort[i]]))"
      ]
    },
    {
      "cell_type": "markdown",
      "metadata": {
        "id": "9vmgV15ywZ41"
      },
      "source": [
        "<span style=\"color:blue\"> <i> 3. Based on the results you obtained in Part 1 and 2, answer the following questions </i></span> <br>\n",
        "\n",
        "- Is it always better to use more neighbors?\n",
        "- Is it better to weigh the leaves, if yes, which distnace metric performs better?\n",
        "- GridCV returns fitting and scoring time for every combination. You will find that scoring time is higher than training time. Why do you think is that the case?"
      ]
    },
    {
      "cell_type": "markdown",
      "metadata": {
        "id": "ecFgNJbDwZ41"
      },
      "source": [
        "##### Answer:\n",
        "1. No it is not always better to use more neighbors.\n",
        "2. Yes weighing leaves gives better results. manhattan distance seems to perform better.\n",
        "\n"
      ]
    },
    {
      "cell_type": "markdown",
      "metadata": {
        "id": "ALeAqyD5wZ42"
      },
      "source": [
        "<span style=\"color:blue\"> <i> 4. Which parameters seem to affect the performance most? To better answer this question, make plots of the mean test score for each hyperparameter. </i></span> <br>\n",
        "\n",
        "Hint:\n",
        "Suppose you have two types of hyperparameters: A and B.\n",
        "Let A = [1, 2] and B = [1, 2, 4, 7, 10].\n",
        "\n",
        "Then, you have 20 different combination of hyperparameters.\n",
        "\n",
        "Let A = 1. Then, you can try (A,B) = (1,1), (1,2), (1,4), (1,7), (1,10)\n",
        "Suppose that the mean score you got for the above combination is [0.7, 0.72, 0.75, 0.77, 0.8].\n",
        "Similarly, for A = 2, you tried (A,B) = (2,1), (2,2), (2,4), (2,7), (2,10) and obtaind the mean score of [0.8, 0.82, 0.85, 0.87, 0.9].\n",
        "\n",
        "To better see how changing the value of paramter A affects the performance, you can make the following plot:"
      ]
    },
    {
      "cell_type": "markdown",
      "metadata": {
        "id": "AgXD3jR8wZ42"
      },
      "source": [
        "This is the plot of the mean test score for A marginalizing over B.\n",
        "\n",
        "Similarly, make a plot of the mean test score for each kNN hyperparameter."
      ]
    },
    {
      "cell_type": "code",
      "execution_count": null,
      "metadata": {
        "id": "yLWuk8uowZ42"
      },
      "outputs": [],
      "source": [
        "n_neighbors = [2, 3, 5, 10, 15, 20, 25, 50, 100]\n",
        "weights= ['uniform', 'distance']\n",
        "p = [1, 2]\n",
        "\n",
        "neigh_mean= np.zeros((9,4))\n",
        "w_mean = np.zeros((2,18))\n",
        "p_mean = np.zeros((2,18))\n",
        "\n",
        "\n",
        "\n",
        "for i in range(len(n_neighbors)):\n",
        "  parameters1 = {'n_neighbors':[n_neighbors[i]], 'weights':['uniform', 'distance'], 'p':[1, 2]}\n",
        "  knnr1 = KNeighborsRegressor()\n",
        "  gcknn1 = GridSearchCV(knnr, parameters1, cv=4)\n",
        "  gcknn1.fit(x_train,y_train)\n",
        "  results_reg1 = gcknn1.cv_results_\n",
        "  neigh_mean[i] = results_reg1['mean_test_score']\n",
        "  del parameters1,knnr1,gcknn1,results_reg1\n",
        "\n",
        "for i in range(len(w_mean)):\n",
        "  parameters1 = {'n_neighbors': [2, 3, 5, 10, 15, 20, 25, 50, 100], 'weights':[weights[i]], 'p':[1, 2]}\n",
        "  knnr1 = KNeighborsRegressor()\n",
        "  gcknn1 = GridSearchCV(knnr, parameters1, cv=4)\n",
        "  gcknn1.fit(x_train,y_train)\n",
        "  results_reg1 = gcknn1.cv_results_\n",
        "  w_mean[i] = results_reg1['mean_test_score']\n",
        "  del parameters1,knnr1,gcknn1,results_reg1\n",
        "\n",
        "for i in range(len(p_mean)):\n",
        "  parameters1 = {'n_neighbors': [2, 3, 5, 10, 15, 20, 25, 50, 100], 'weights':['uniform', 'distance'], 'p':[p[i]]}\n",
        "  knnr1 = KNeighborsRegressor()\n",
        "  gcknn1 = GridSearchCV(knnr, parameters1, cv=4)\n",
        "  gcknn1.fit(x_train,y_train)\n",
        "  results_reg1 = gcknn1.cv_results_\n",
        "  p_mean[i] = results_reg1['mean_test_score']\n",
        "  del parameters1,knnr1,gcknn1,results_reg1\n"
      ]
    },
    {
      "cell_type": "code",
      "source": [
        "plt.figure(figsize=(10,8))\n",
        "for i in range(len(n_neighbors)):\n",
        "  plt.plot(neigh_mean[i], label = \"n_neighbors = \" + str(n_neighbors[i]))\n",
        "plt.ylabel(\"mean test score\",fontsize=20)\n",
        "plt.title('Marginalized scores for N_neighbors',fontsize=20)\n",
        "plt.legend()\n",
        "plt.show()\n",
        "\n",
        "plt.figure(figsize=(6,4))\n",
        "for i in range(len(weights)):\n",
        "  plt.plot(w_mean[i], label = \"weight = \" + str(weights[i]))\n",
        "plt.ylabel(\"mean test score\",fontsize=20)\n",
        "plt.title('Marginalized scores for weights',fontsize=20)\n",
        "plt.legend()\n",
        "plt.show()\n",
        "\n",
        "plt.figure(figsize=(6,4))\n",
        "for i in range(len(p)):\n",
        "  plt.plot(p_mean[i], label = \"p = \" + str(p[i]))\n",
        "plt.ylabel(\"mean test score\",fontsize=20)\n",
        "plt.title('Marginalized scores for p',fontsize=20)\n",
        "plt.legend()\n",
        "plt.show()"
      ],
      "metadata": {
        "colab": {
          "base_uri": "https://localhost:8080/",
          "height": 1042
        },
        "id": "ShQ9Bk6mTRDp",
        "outputId": "33b5b066-63be-462d-e38e-787e6dcf5a33"
      },
      "execution_count": null,
      "outputs": [
        {
          "output_type": "display_data",
          "data": {
            "text/plain": [
              "<Figure size 720x576 with 1 Axes>"
            ],
            "image/png": "[encoded data removed]"
          },
          "metadata": {
            "needs_background": "light"
          }
        },
        {
          "output_type": "display_data",
          "data": {
            "text/plain": [
              "<Figure size 432x288 with 1 Axes>"
            ],
            "image/png": "[encoded data removed]"
          },
          "metadata": {
            "needs_background": "light"
          }
        },
        {
          "output_type": "display_data",
          "data": {
            "text/plain": [
              "<Figure size 432x288 with 1 Axes>"
            ],
            "image/png": "[encoded data removed]"
          },
          "metadata": {
            "needs_background": "light"
          }
        }
      ]
    },
    {
      "cell_type": "markdown",
      "metadata": {
        "id": "uKbPlXJ7wZ42"
      },
      "source": [
        "<span style=\"color:blue\"> <i> 5. You have determined the best combination of hyperparameters and CV schemes. Predict the test y data using the GridSearchCV method. Use the \"rms\" metric function we defined earlier and calculate the rms error on the test data.  </i></span> <br>\n",
        "\n",
        "Hint: To determine the rms error, you need:\n",
        "\n",
        "Truth: given from data (test_data[1]) <br>\n",
        "Prediction: gridsearch.predict(test_data[0])\n",
        "(https://scikit-learn.org/stable/modules/generated/sklearn.model_selection.GridSearchCV.html)\n"
      ]
    },
    {
      "cell_type": "code",
      "execution_count": null,
      "metadata": {
        "id": "XOCuPnkWwZ43",
        "colab": {
          "base_uri": "https://localhost:8080/"
        },
        "outputId": "57ef9519-c589-4f33-9fb1-0f25b899e7df"
      },
      "outputs": [
        {
          "output_type": "stream",
          "name": "stdout",
          "text": [
            "RMS score is\n",
            "0.7055467289367265\n"
          ]
        }
      ],
      "source": [
        "truth = y_test\n",
        "prediction = gcknn.predict(x_test)\n",
        "\n",
        "print('RMS score is')\n",
        "print(rms(truth, prediction, scale1=None, scale2=None))"
      ]
    },
    {
      "cell_type": "markdown",
      "metadata": {
        "id": "upPczjB7wZ43"
      },
      "source": [
        "#### Classification"
      ]
    },
    {
      "cell_type": "code",
      "execution_count": null,
      "metadata": {
        "id": "dzJPbWBZwZ43"
      },
      "outputs": [],
      "source": [
        "from sklearn.neighbors import KNeighborsClassifier\n",
        "# http://scikit-learn.org/stable/modules/generated/sklearn.neighbors.KNeighborsClassifier.html"
      ]
    },
    {
      "cell_type": "markdown",
      "metadata": {
        "id": "Kw5tMLNcwZ43"
      },
      "source": [
        "Here we will look at 4 different type of cross-validation schemes -\n",
        "- Kfold\n",
        "- Stratified Kfold\n",
        "- Shuffle Split\n",
        "- Stratified Shuffle Split\n",
        "\n",
        "<span style=\"color:blue\"> <i> 6. Assuming the list of hyperparameters from Part 1, do 4 different grid searches. From Part 1, take top 5 combination of hyperparameters which gives you the highest accuracy value. Rank the performance of CV schemes for each combination.  </i></span> <br>"
      ]
    },
    {
      "cell_type": "code",
      "execution_count": null,
      "metadata": {
        "id": "JDxHkyx2wZ43"
      },
      "outputs": [],
      "source": [
        "from sklearn.model_selection import KFold, StratifiedKFold, ShuffleSplit, StratifiedShuffleSplit"
      ]
    },
    {
      "cell_type": "code",
      "execution_count": null,
      "metadata": {
        "id": "DCFt7eOzwZ43",
        "colab": {
          "base_uri": "https://localhost:8080/"
        },
        "outputId": "315628cf-99e7-467f-c94b-933d94528304"
      },
      "outputs": [
        {
          "output_type": "execute_result",
          "data": {
            "text/plain": [
              "GridSearchCV(cv=StratifiedShuffleSplit(n_splits=4, random_state=100, test_size=0.1,\n",
              "            train_size=None),\n",
              "             estimator=KNeighborsClassifier(),\n",
              "             param_grid={'n_neighbors': [2, 3, 5, 10, 15, 20, 25, 50, 100],\n",
              "                         'p': [1, 2], 'weights': ['uniform', 'distance']})"
            ]
          },
          "metadata": {},
          "execution_count": 67
        }
      ],
      "source": [
        "parameters = {'n_neighbors':[2, 3, 5, 10, 15, 20, 25, 50, 100], 'weights':['uniform', 'distance'], 'p':[1, 2]}\n",
        "knnc = KNeighborsClassifier()\n",
        "\n",
        "#Grid Search\n",
        "gc = GridSearchCV(knnc, parameters, cv=KFold(4, random_state=100,shuffle=True))\n",
        "#Do the fit\n",
        "gc.fit(xx_train,yy_train)\n",
        "\n",
        "gc2 = GridSearchCV(knnc, parameters, cv=StratifiedKFold(4, random_state = 100,shuffle=True))\n",
        "#Do the fit\n",
        "gc2.fit(xx_train,yy_train)\n",
        "\n",
        "gc3 = GridSearchCV(knnc, parameters, cv=ShuffleSplit(n_splits=4, test_size=0.1, random_state = 100))\n",
        "#Do the fit\n",
        "gc3.fit(xx_train,yy_train)\n",
        "\n",
        "gc4 = GridSearchCV(knnc, parameters, cv=StratifiedShuffleSplit(n_splits=4, test_size=0.1, random_state = 100))\n",
        "#Do the fit\n",
        "gc4.fit(xx_train,yy_train)\n"
      ]
    },
    {
      "cell_type": "code",
      "source": [
        "print('Accuracy of Kfold')\n",
        "print(acc(gc.predict(xx_test),yy_test))\n",
        "\n",
        "print('Accuracy of Stratified Kfold')\n",
        "print(acc(gc2.predict(xx_test),yy_test))\n",
        "\n",
        "print('Accuracy of Shuffle Split')\n",
        "print(acc(gc3.predict(xx_test),yy_test))\n",
        "\n",
        "print('Accuracy of Stratified Shuffle Split')\n",
        "print(acc(gc4.predict(xx_test),yy_test))"
      ],
      "metadata": {
        "colab": {
          "base_uri": "https://localhost:8080/"
        },
        "id": "lTlvC3mbYXsp",
        "outputId": "45cfabeb-1fe0-4b7b-9303-b352dfb24aeb"
      },
      "execution_count": null,
      "outputs": [
        {
          "output_type": "stream",
          "name": "stdout",
          "text": [
            "Accuracy of Kfold\n",
            "0.7602409638554217\n",
            "Accuracy of Stratified Kfold\n",
            "0.7602409638554217\n",
            "Accuracy of Shuffle Split\n",
            "0.7614457831325301\n",
            "Accuracy of Stratified Shuffle Split\n",
            "0.7602409638554217\n"
          ]
        }
      ]
    },
    {
      "cell_type": "markdown",
      "metadata": {
        "id": "0Xc2iOOowZ48"
      },
      "source": [
        "<span style=\"color:blue\"> <i> 7. Answer the following questions: </i></span> <br>\n",
        "\n",
        "- Are the conclusions different for any parameter from the regression case?\n",
        "- Does the mean accuracy change for different CV scheme?\n",
        "- Does the standard deviation in mean accuracy change?"
      ]
    },
    {
      "cell_type": "markdown",
      "metadata": {
        "id": "yXC31_J_wZ48"
      },
      "source": [
        "\n",
        "\n",
        "**Answer: Shuffle split gives the best performance.**"
      ]
    },
    {
      "cell_type": "markdown",
      "metadata": {
        "id": "2Fm73eiQwZ49"
      },
      "source": [
        "<span style=\"color:blue\"> <i> 8. Using the best combination of hyperparameters and CV schemes you have found, compute the confusion matrix (https://scikit-learn.org/stable/modules/generated/sklearn.metrics.confusion_matrix.html) and evaluate the accuracy.  </i></span> <br>\n",
        "\n",
        "Hint: To get a confusion matrix, you need both truth (available from data) and prediction (can be computed using .predict function from GridSearchCV (https://scikit-learn.org/stable/modules/generated/sklearn.model_selection.GridSearchCV.html)."
      ]
    },
    {
      "cell_type": "code",
      "execution_count": null,
      "metadata": {
        "id": "1VVSYBTmwZ49",
        "colab": {
          "base_uri": "https://localhost:8080/"
        },
        "outputId": "34a61e8d-6e1e-4d09-9048-1079d84ba1a0"
      },
      "outputs": [
        {
          "output_type": "stream",
          "name": "stdout",
          "text": [
            "[[513  43]\n",
            " [155 119]]\n",
            "Accuracy of Shuffle Split\n",
            "0.7614457831325301\n"
          ]
        }
      ],
      "source": [
        "from sklearn.metrics import confusion_matrix\n",
        "\n",
        "print(confusion_matrix(yy_test,gc3.predict(xx_test)))\n",
        "\n",
        "print('Accuracy of Shuffle Split')\n",
        "print(acc(gc3.predict(xx_test),yy_test))"
      ]
    },
    {
      "cell_type": "markdown",
      "metadata": {
        "id": "Z4Rrt2ZUH4ov"
      },
      "source": [
        "#### Problem 4 - Generative model\n",
        "\n",
        "In the 3 problems above we worked on classification and regression. For those tasks we are given the labels and features of some data, and we try to predict the labels or features of the new data. This is supervised learning. Unsupervised learning is another important field in Machine Learning. In contrast to supervised learning that usually makes use of human-labeled data, unsupervised learning works with datasets with no pre-existing labels and with minimum human supervision (https://en.wikipedia.org/wiki/Unsupervised_learning). In HW 2 we have used UMAP to reduce the dimensionality of MNIST dataset, and then used HDBSCAN to do cluster analysis on the low dimension representation of MNIST. In HW 3 we used Principle Component Analysis (PCA) to model the Quasar spectrum and MNIST. In HW 4 we used Independent Component Analysis (ICA) to identify independent sources in mixed signals. These are all examples of unsupervised learning.\n",
        "\n",
        "#### Normalizing Flow\n",
        "\n",
        "In this problem we will train some generative models. Generative model is an important topic in unsupervised learning. It tries to learn the underlying probability density of the given data (either explicitly or implicitly) so as to generate new data. Some popular models include autoregressive models, Normalizing Flows (NF), Variational Auto-Encoders (VAE), and Generative Adverserial Networks (GAN). In HW 7 we have used a pretrained VAE to reconstruct MNIST images from incomplete and noisy data. In this problem we will focus on NFs. This exercise is based on https://arxiv.org/abs/2007.00674 .\n",
        "\n",
        "A NF maps the data $x$ to latent variables $z$ through a sequence of invertible transformations $f = f_1 \\circ f_2 \\circ ... \\circ f_n$, such that $z = f(x)$ and $z$ is mapped to a base distribution $\\pi(z)$, which is normally chosen to be a standard Gaussian distribution. The probability density of data $x$ can be evaluated using the change of variables formula:\n",
        "\n",
        "$$p(x) = \\pi(f(x)) |\\det \\left(\\frac{\\partial f(x)}{\\partial x}\\right)| = \\pi(f(x)) \\prod_{l=1}^n |\\det \\left(\\frac{\\partial f_l(x)}{\\partial x}\\right)| .$$\n",
        "\n",
        "In order to efficiently evaluate the density, the determinant of the Jacobian of each transformation $\\det (\\frac{\\partial f_l(x)}{\\partial x})$ must be easy to compute.\n",
        "\n",
        "#### Pytorch\n",
        "\n",
        "In HW 7 and this project we have used the Tensorflow and Keras framework. PyTorch is another machine learning framework that becomes very popular in recent years. Compared to Tensorflow, PyTorch is very similar to numpy and very pythonic, and therefore is easy to learn if you are already familiar with Python. While Tensorflow is currently the platform of choice in industry, PyTorch is more popular in the research community. In this problem we will use PyTorch to help you become familiar with this platform. Here is a great tutorial on PyTorch basics: https://pytorch.org/tutorials/beginner/deep_learning_60min_blitz.html . We encourage you to read at least the first topic of the tutorial (What is PyTorch?). We will also give you some examples on PyTorch in the following questions."
      ]
    },
    {
      "cell_type": "markdown",
      "metadata": {
        "id": "vUrvfMq-gB2O"
      },
      "source": [
        "We first look at a simple 1D example. Note that in 1D one has many different ways to estimate the data density, e.g., Kernel Density Estimation (KDE), Gaussian Mixture Model (GMM), histogram, etc.(https://scikit-learn.org/stable/modules/density.html). One does not have to use NF. We give you this 1D example just to show you how NF works. High dimensional problem is where NFs really outperform those methods, and we will look at high dimensional problems later.\n",
        "\n",
        "<span style=\"color:blue\"> <i> 1. Firstly, load in the data and make a histogram plot of the pdf of data. Set the number of bins to 50. Make sure your histogram plot is normalized.</i></span>"
      ]
    },
    {
      "cell_type": "code",
      "execution_count": null,
      "metadata": {
        "id": "16FrSFCAH16P"
      },
      "outputs": [],
      "source": [
        "data = np.load('/content/drive/My Drive/P188_288/P188_288_Project3/data_ThreeGaussian.npy')"
      ]
    },
    {
      "cell_type": "code",
      "execution_count": null,
      "metadata": {
        "id": "jLglQVBGwZ5C",
        "colab": {
          "base_uri": "https://localhost:8080/",
          "height": 265
        },
        "outputId": "2b774e5b-2020-40f9-ed03-37e38dc0d04b"
      },
      "outputs": [
        {
          "output_type": "display_data",
          "data": {
            "text/plain": [
              "<Figure size 432x288 with 1 Axes>"
            ],
            "image/png": "[encoded data removed]"
          },
          "metadata": {
            "needs_background": "light"
          }
        }
      ],
      "source": [
        "plt.figure()\n",
        "plt.hist(data,bins=50,density=True)\n",
        "plt.show()"
      ]
    },
    {
      "cell_type": "markdown",
      "metadata": {
        "id": "EBBXwN_cvCrL"
      },
      "source": [
        "Now let's use NF to model the data pdf. Assuming that the true data distribution is $p(x)$, our goal is to find an invertible transformation $f$ to map the data $x$ to some latent variables $z=f(x)$ such that $z$ follows a standard Gaussian distribution. For 1D, the solution $f(x)$ is easy to find:\n",
        "$$f(x)=G^{-1}(F(x)) ,$$\n",
        "where $F$ is the Cumulative Distribution Function (CDF) of data distribution, and $G$ is the CDF of standard Gaussian. Then the pdf of data $p(x)$ is given by the change of variable formula\n",
        "$$p(x)=N(f(x))|\\frac{df(x)}{dx}| ,$$\n",
        "where $N$ is the pdf of standard Gaussian.\n",
        "\n",
        "In this problem we will approximate $f(x)$ using piecewise rational quadratic spline functions, which are monotonic, differentiable and analytically invertible. Here we provide you an example of using piecewise rational quadratic spline functions to approximate a simple function $y=x^3$, and then calculate the function derivative and invert the function."
      ]
    },
    {
      "cell_type": "code",
      "source": [
        "sys.path.append('./SIG_GIS/')\n",
        "sys.path.append('./SINF/')\n",
        "sys.path.append('./load_data/')\n",
        "!git clone https://github.com/biweidai/SINF.git\n",
        "from sinf.GIS import GIS\n",
        "from sinf.RQspline import RQspline\n",
        "import torch\n",
        "import numpy as np\n",
        "import matplotlib.pyplot as plt\n",
        "import sys"
      ],
      "metadata": {
        "colab": {
          "base_uri": "https://localhost:8080/"
        },
        "id": "tn1O7PX2hXik",
        "outputId": "8ab0c640-961b-445b-99ab-fb85d8d97e55"
      },
      "execution_count": null,
      "outputs": [
        {
          "output_type": "stream",
          "name": "stdout",
          "text": [
            "Cloning into 'SINF'...\n",
            "remote: Enumerating objects: 289, done.\u001b[K\n",
            "remote: Counting objects: 100% (58/58), done.\u001b[K\n",
            "remote: Compressing objects: 100% (8/8), done.\u001b[K\n",
            "remote: Total 289 (delta 50), reused 51 (delta 50), pack-reused 231\u001b[K\n",
            "Receiving objects: 100% (289/289), 3.45 MiB | 18.03 MiB/s, done.\n",
            "Resolving deltas: 100% (185/185), done.\n"
          ]
        }
      ]
    },
    {
      "cell_type": "code",
      "execution_count": null,
      "metadata": {
        "id": "-QoRJjtS4Soc"
      },
      "outputs": [],
      "source": [
        "def RQspline_interp(x, y):\n",
        "\n",
        "    #x and y are torch 1d tensors and they must be strictly monotonic\n",
        "\n",
        "    assert x.ndim == 1 and y.ndim == 1\n",
        "    assert len(x) == len(y)\n",
        "\n",
        "    ndim = 1\n",
        "    nknot = len(x)\n",
        "    spline = RQspline(ndim, nknot).requires_grad_(False)\n",
        "\n",
        "    dy = y[1:] - y[:-1]\n",
        "    dx = x[1:] - x[:-1]\n",
        "    assert (dx>0).all() and (dy>0).all()\n",
        "\n",
        "    h = dx\n",
        "    s = dy / dx\n",
        "    deriv = torch.zeros_like(x)\n",
        "    deriv[1:-1] = (s[:-1]*h[1:] + s[1:]*h[:-1]) / (h[1:] + h[:-1])\n",
        "    deriv[0] = dy[0] / dx[0]\n",
        "    deriv[-1] = dy[-1] / dx[-1]\n",
        "\n",
        "    spline.set_param(x.reshape(1,-1), y.reshape(1,-1), deriv.reshape(1,-1))\n",
        "    return spline"
      ]
    },
    {
      "cell_type": "code",
      "execution_count": null,
      "metadata": {
        "id": "lzSmQ4dxvtZM"
      },
      "outputs": [],
      "source": [
        "# create an array of x and y\n",
        "x = np.linspace(-3, 3, 10, endpoint=True)\n",
        "y = x**3\n",
        "\n",
        "# transform x and y to PyTorch tensors\n",
        "x = torch.tensor(x)\n",
        "y = torch.tensor(y)\n",
        "\n",
        "# define piecewise ratianal quadratic spline functions\n",
        "spline = RQspline_interp(x, y)"
      ]
    },
    {
      "cell_type": "code",
      "execution_count": null,
      "metadata": {
        "id": "hDK6A8296bug",
        "colab": {
          "base_uri": "https://localhost:8080/",
          "height": 265
        },
        "outputId": "4102c63a-b70c-4b41-8eca-93271cc4b373"
      },
      "outputs": [
        {
          "output_type": "display_data",
          "data": {
            "text/plain": [
              "<Figure size 432x288 with 1 Axes>"
            ],
            "image/png": "[encoded data removed]"
          },
          "metadata": {
            "needs_background": "light"
          }
        }
      ],
      "source": [
        "#plot original function\n",
        "x_plot = np.linspace(-3, 3, 100, endpoint=True)\n",
        "y_plot = x_plot**3\n",
        "plt.plot(x_plot, y_plot, label='$y=x^3$')\n",
        "\n",
        "#Create PyTorch tensor x. The data type must be float (not double), and the shape must be (n, 1)\n",
        "x_plot_tensor = torch.tensor(x_plot).float().reshape(-1,1)\n",
        "\n",
        "#Call the spline function. It returns y and log(dy/dx)\n",
        "y_plot_tensor, log_deriv = spline(x_plot_tensor)\n",
        "plt.plot(x_plot_tensor.numpy(), y_plot_tensor.numpy(), label='interpolation')\n",
        "plt.legend()\n",
        "plt.show()"
      ]
    },
    {
      "cell_type": "markdown",
      "metadata": {
        "id": "iNSwIuqd_L7u"
      },
      "source": [
        "The derivative from interpolation"
      ]
    },
    {
      "cell_type": "code",
      "execution_count": null,
      "metadata": {
        "id": "5YBnJYCb88Rg",
        "colab": {
          "base_uri": "https://localhost:8080/",
          "height": 265
        },
        "outputId": "d607fa0c-e1ed-4247-818d-9cf4e0bfd700"
      },
      "outputs": [
        {
          "output_type": "display_data",
          "data": {
            "text/plain": [
              "<Figure size 432x288 with 1 Axes>"
            ],
            "image/png": "[encoded data removed]"
          },
          "metadata": {
            "needs_background": "light"
          }
        }
      ],
      "source": [
        "#plot dy/dx\n",
        "deriv = 3*x_plot**2\n",
        "plt.plot(x_plot, deriv, label='derivative of $y=x^3$')\n",
        "\n",
        "#plot dy/dx of interpolation\n",
        "plt.plot(x_plot_tensor.numpy(), torch.exp(log_deriv).numpy(), label='derivative of interpolation')\n",
        "plt.legend()\n",
        "plt.show()"
      ]
    },
    {
      "cell_type": "markdown",
      "metadata": {
        "id": "-QkozxMj-iRL"
      },
      "source": [
        "The derivatives are not accurate around the boundaries due to boundary effect."
      ]
    },
    {
      "cell_type": "markdown",
      "metadata": {
        "id": "E4ojVIF9_srH"
      },
      "source": [
        "Invert the function"
      ]
    },
    {
      "cell_type": "code",
      "execution_count": null,
      "metadata": {
        "id": "xErqoleJ91dd",
        "colab": {
          "base_uri": "https://localhost:8080/",
          "height": 265
        },
        "outputId": "beb45aa6-c36d-4134-cce1-254b8288b38c"
      },
      "outputs": [
        {
          "output_type": "display_data",
          "data": {
            "text/plain": [
              "<Figure size 432x288 with 1 Axes>"
            ],
            "image/png": "[encoded data removed]"
          },
          "metadata": {
            "needs_background": "light"
          }
        }
      ],
      "source": [
        "# invert the original function\n",
        "y_plot = x_plot**(1/3)\n",
        "plt.plot(x_plot, y_plot, label='$y=x^{1/3}$')\n",
        "\n",
        "#Invert the spline function.\n",
        "y_plot_tensor = spline.inverse(x_plot_tensor)[0]\n",
        "plt.plot(x_plot_tensor.numpy(), y_plot_tensor.numpy(), label='inversion of spline functions')\n",
        "plt.legend()\n",
        "plt.show()"
      ]
    },
    {
      "cell_type": "markdown",
      "metadata": {
        "id": "kXukGJeWy1Hk"
      },
      "source": [
        "<span style=\"color:blue\"> <i> 2. Estimate the transformation $f(x)$ that transforms the data to a standard Gaussian distribution. Follow the above example, use RQspline_interp function to approximate $f(x)$. Plot $f(x)$, $\\frac{df(x)}{dx}$, and $f^{-1}(x)$. Set your x to be within (-5, 5) when making the plot. </i></span>"
      ]
    },
    {
      "cell_type": "code",
      "execution_count": null,
      "metadata": {
        "id": "hOq2LuYXDtAy",
        "colab": {
          "base_uri": "https://localhost:8080/",
          "height": 844
        },
        "outputId": "7370260e-6760-4ee5-8874-ac62ebaacd2f"
      },
      "outputs": [
        {
          "output_type": "stream",
          "name": "stdout",
          "text": [
            "[ 0.89826083  4.3439565   4.1346083  ... -1.2095271  -0.8376653\n",
            " -0.08557951]\n"
          ]
        },
        {
          "output_type": "display_data",
          "data": {
            "text/plain": [
              "<Figure size 432x288 with 1 Axes>"
            ],
            "image/png": "[encoded data removed]"
          },
          "metadata": {
            "needs_background": "light"
          }
        },
        {
          "output_type": "display_data",
          "data": {
            "text/plain": [
              "<Figure size 432x288 with 1 Axes>"
            ],
            "image/png": "[encoded data removed]"
          },
          "metadata": {
            "needs_background": "light"
          }
        },
        {
          "output_type": "display_data",
          "data": {
            "text/plain": [
              "<Figure size 432x288 with 1 Axes>"
            ],
            "image/png": "[encoded data removed]"
          },
          "metadata": {
            "needs_background": "light"
          }
        }
      ],
      "source": [
        "import scipy\n",
        "count, bins_count = np.histogram(data)\n",
        "\n",
        "pdf = count / sum(count)\n",
        "\n",
        "\n",
        "F = scipy.stats.norm.cdf(data)\n",
        "f = scipy.stats.norm.ppf(F)\n",
        "\n",
        "x = np.linspace(-5,5,100, endpoint=True)\n",
        "\n",
        "data_sort = np.sort(data)\n",
        "ind = np.argsort(data)\n",
        "f_sort = np.zeros(len(f))\n",
        "for i in range(len(f)):\n",
        "  f_sort[i] = f[ind[i]]\n",
        "\n",
        "xd = torch.tensor(x).float().reshape(-1,1)\n",
        "\n",
        "splinef = RQspline_interp(torch.tensor(data_sort), torch.tensor(f_sort))\n",
        "fx, logdfx = splinef(xd)\n",
        "\n",
        "f_inv = splinef.inverse(xd)[0]\n",
        "#plot original function\n",
        "#\n",
        "plt.figure()\n",
        "plt.plot(xd.numpy(), fx.numpy() , label='$f(x)$')\n",
        "plt.title('original function')\n",
        "plt.show()\n",
        "\n",
        "#plotting derivative\n",
        "#\n",
        "plt.figure()\n",
        "plt.plot(xd.numpy(), torch.exp(logdfx).numpy(), label='$df/dx$')\n",
        "plt.title('derivative')\n",
        "plt.ylim(0,2)\n",
        "plt.show()\n",
        "\n",
        "#plotting inverse\n",
        "#\n",
        "plt.figure()\n",
        "plt.plot(xd.numpy(), f_inv.numpy(), label='$f^{-1}$')\n",
        "plt.title('F Inverse')\n",
        "plt.show()"
      ]
    },
    {
      "cell_type": "markdown",
      "metadata": {
        "id": "JASbinKCDtwC"
      },
      "source": [
        "<span style=\"color:blue\"> <i> 3. Calculate latent variable $z=f(x)$. Make a histogram of pdf of $z$. Does it follow a Gaussian distribution? </i></span>"
      ]
    },
    {
      "cell_type": "code",
      "execution_count": null,
      "metadata": {
        "id": "bKaqxzAMwZ5G",
        "colab": {
          "base_uri": "https://localhost:8080/",
          "height": 265
        },
        "outputId": "7669dbdb-c0ba-4b2a-d5eb-16ce29728332"
      },
      "outputs": [
        {
          "output_type": "display_data",
          "data": {
            "text/plain": [
              "<Figure size 432x288 with 1 Axes>"
            ],
            "image/png": "[encoded data removed]"
          },
          "metadata": {
            "needs_background": "light"
          }
        }
      ],
      "source": [
        "plt.figure()\n",
        "plt.hist(fx.numpy(),density=True)\n",
        "plt.show()"
      ]
    },
    {
      "cell_type": "markdown",
      "source": [
        "**Does not follow gaussian. It follows uniform distribution**"
      ],
      "metadata": {
        "id": "3diCuOjfXACx"
      }
    },
    {
      "cell_type": "markdown",
      "metadata": {
        "id": "Hc1sGRJjEMRk"
      },
      "source": [
        "<span style=\"color:blue\"> <i> 4. Now let's estimate the pdf of the data using the\n",
        "change of variable formula $p(x)=N(f(x))|\\frac{df(x)}{dx}|$. Make a plot of $p(x)$. How does it compare with the histogram in Q1?</i></span>"
      ]
    },
    {
      "cell_type": "code",
      "execution_count": null,
      "metadata": {
        "id": "q0vginp9wZ5G",
        "colab": {
          "base_uri": "https://localhost:8080/",
          "height": 265
        },
        "outputId": "9decb9c5-4ddc-42a1-9c84-acb524a9e63f"
      },
      "outputs": [
        {
          "output_type": "display_data",
          "data": {
            "text/plain": [
              "<Figure size 432x288 with 1 Axes>"
            ],
            "image/png": "[encoded data removed]"
          },
          "metadata": {
            "needs_background": "light"
          }
        }
      ],
      "source": [
        "px = scipy.stats.norm.pdf(fx.numpy())*np.absolute(torch.exp(logdfx).numpy())\n",
        "plt.figure()\n",
        "plt.plot(xd.numpy(), px, label='$p(x)$')\n",
        "plt.show()"
      ]
    },
    {
      "cell_type": "markdown",
      "source": [
        "**Compared to part 1, p(x) has only one peak representing gaussian distribution**"
      ],
      "metadata": {
        "id": "N3CS-anFZqJ2"
      }
    },
    {
      "cell_type": "markdown",
      "metadata": {
        "id": "qSfM3o3EajS6"
      },
      "source": [
        "The pdf is noisy. One could apply regularization when modeling to get a smoother pdf."
      ]
    },
    {
      "cell_type": "markdown",
      "metadata": {
        "id": "8S30mrHSE5xr"
      },
      "source": [
        "NFs allow us to sample from $p(x)$ to create new data. The idea is to firstly sample latent variable $z$ from $N(0,I)$ using torch.randn(nsample, ndim), and then transform $z$ to $x$ with inverse transform $f^{-1}$."
      ]
    },
    {
      "cell_type": "markdown",
      "metadata": {
        "id": "vlhBjy7AEy21"
      },
      "source": [
        "<span style=\"color:blue\"> <i> 5. Sample from $p(x)$ using $x=f^{-1}(z)$. Get 10000 samples. Make a histogram of the pdf of samples. Does it agree with Q1 and Q4? </i></span>"
      ]
    },
    {
      "cell_type": "code",
      "execution_count": null,
      "metadata": {
        "id": "wvdm08EYwZ5H",
        "colab": {
          "base_uri": "https://localhost:8080/",
          "height": 269
        },
        "outputId": "1c7064b6-f51f-44a0-ebdd-45a8f7062568"
      },
      "outputs": [
        {
          "output_type": "display_data",
          "data": {
            "text/plain": [
              "<Figure size 432x288 with 1 Axes>"
            ],
            "image/png": "[encoded data removed]"
          },
          "metadata": {
            "needs_background": "light"
          }
        }
      ],
      "source": [
        "z = torch.randn(10000,1)\n",
        "x_tf= splinef.inverse(z)[0]\n",
        "plt.figure()\n",
        "plt.hist(x_tf.numpy(),density=True)\n",
        "plt.show()"
      ]
    },
    {
      "cell_type": "markdown",
      "source": [
        "**part 5 agrees with Q4 but not Q1**"
      ],
      "metadata": {
        "id": "qcnRWWIDZ3th"
      }
    },
    {
      "cell_type": "markdown",
      "metadata": {
        "id": "t1eaG3cXwZ5N"
      },
      "source": [
        "***"
      ]
    }
  ],
  "metadata": {
    "kernelspec": {
      "display_name": "Python 3 (ipykernel)",
      "language": "python",
      "name": "python3"
    },
    "language_info": {
      "codemirror_mode": {
        "name": "ipython",
        "version": 3
      },
      "file_extension": ".py",
      "mimetype": "text/x-python",
      "name": "python",
      "nbconvert_exporter": "python",
      "pygments_lexer": "ipython3",
      "version": "3.9.5"
    },
    "colab": {
      "provenance": []
    }
  },
  "nbformat": 4,
  "nbformat_minor": 0
}